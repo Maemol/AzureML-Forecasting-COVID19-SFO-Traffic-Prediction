{
 "cells": [
  {
   "cell_type": "markdown",
   "metadata": {},
   "source": [
    "# Automated ML\n",
    "\n",
    "### Libraries\n"
   ]
  },
  {
   "cell_type": "code",
   "execution_count": 3,
   "metadata": {
    "gather": {
     "logged": 1598423888013
    },
    "jupyter": {
     "outputs_hidden": false,
     "source_hidden": false
    },
    "nteract": {
     "transient": {
      "deleting": false
     }
    }
   },
   "outputs": [],
   "source": [
    "# AzureML\n",
    "from azureml.core import Workspace, Dataset, Experiment, Run\n",
    "from azureml.train.automl import AutoMLConfig\n",
    "from azureml.widgets import RunDetails\n",
    "from azureml.core.compute import AmlCompute, ComputeTarget\n",
    "from azureml.core.compute_target import ComputeTargetException\n",
    "from azureml.train.automl.run import AutoMLRun\n",
    "from azureml.core.model import Model, InferenceConfig\n",
    "from azureml.core.environment import Environment\n",
    "from azureml.core.webservice import AciWebservice\n",
    "\n",
    "# Webservice\n",
    "import urllib.request\n",
    "import json\n",
    "import os\n",
    "import ssl\n",
    "\n",
    "# Data Manipulation\n",
    "import seaborn as sns\n",
    "import pandas as pd\n",
    "import matplotlib.pyplot as plt\n"
   ]
  },
  {
   "cell_type": "markdown",
   "metadata": {},
   "source": [
    "## Dataset\n",
    "\n",
    "### Overview\n",
    "\n",
    "The dataset used for this experiment will be an opensource univariate dataset provided by the San Francisco International Airport (SFO). The dataset contains all informations on Monthly Passenger Traffic at the airport since July 2005.\n",
    "\n",
    "More informations about the dataset can be found here : https://data.sfgov.org/Transportation/Air-Traffic-Passenger-Statistics/rkru-6vcg\n",
    "\n",
    "The main goal of the experiment will be to see the impact of the COVID19 on passenger traffic at SFO. We are going to compare forecast data train on the dataset before Covid and compare it to actual data from march 2020 to September 2020.\n",
    "\n",
    "AutoML forecasting task will be used to try to find the best model to predict the number of passenger."
   ]
  },
  {
   "cell_type": "code",
   "execution_count": 4,
   "metadata": {
    "gather": {
     "logged": 1598423890461
    },
    "jupyter": {
     "outputs_hidden": false,
     "source_hidden": false
    },
    "nteract": {
     "transient": {
      "deleting": false
     }
    }
   },
   "outputs": [],
   "source": [
    "ws = Workspace.from_config()\n",
    "\n",
    "# choose a name for experiment\n",
    "experiment_name = 'SFO-Traffic-Predictions'\n",
    "\n",
    "experiment=Experiment(ws, experiment_name)\n"
   ]
  },
  {
   "cell_type": "code",
   "execution_count": 5,
   "metadata": {},
   "outputs": [
    {
     "data": {
      "text/html": [
       "<div>\n",
       "<style scoped>\n",
       "    .dataframe tbody tr th:only-of-type {\n",
       "        vertical-align: middle;\n",
       "    }\n",
       "\n",
       "    .dataframe tbody tr th {\n",
       "        vertical-align: top;\n",
       "    }\n",
       "\n",
       "    .dataframe thead th {\n",
       "        text-align: right;\n",
       "    }\n",
       "</style>\n",
       "<table border=\"1\" class=\"dataframe\">\n",
       "  <thead>\n",
       "    <tr style=\"text-align: right;\">\n",
       "      <th></th>\n",
       "      <th>Activity Period</th>\n",
       "      <th>Operating Airline</th>\n",
       "      <th>Operating Airline IATA Code</th>\n",
       "      <th>Published Airline</th>\n",
       "      <th>Published Airline IATA Code</th>\n",
       "      <th>GEO Summary</th>\n",
       "      <th>GEO Region</th>\n",
       "      <th>Activity Type Code</th>\n",
       "      <th>Price Category Code</th>\n",
       "      <th>Terminal</th>\n",
       "      <th>Boarding Area</th>\n",
       "      <th>Passenger Count</th>\n",
       "    </tr>\n",
       "  </thead>\n",
       "  <tbody>\n",
       "    <tr>\n",
       "      <th>0</th>\n",
       "      <td>200507</td>\n",
       "      <td>ATA Airlines</td>\n",
       "      <td>TZ</td>\n",
       "      <td>ATA Airlines</td>\n",
       "      <td>TZ</td>\n",
       "      <td>Domestic</td>\n",
       "      <td>US</td>\n",
       "      <td>Deplaned</td>\n",
       "      <td>Low Fare</td>\n",
       "      <td>Terminal 1</td>\n",
       "      <td>B</td>\n",
       "      <td>27271</td>\n",
       "    </tr>\n",
       "    <tr>\n",
       "      <th>1</th>\n",
       "      <td>200507</td>\n",
       "      <td>ATA Airlines</td>\n",
       "      <td>TZ</td>\n",
       "      <td>ATA Airlines</td>\n",
       "      <td>TZ</td>\n",
       "      <td>Domestic</td>\n",
       "      <td>US</td>\n",
       "      <td>Enplaned</td>\n",
       "      <td>Low Fare</td>\n",
       "      <td>Terminal 1</td>\n",
       "      <td>B</td>\n",
       "      <td>29131</td>\n",
       "    </tr>\n",
       "    <tr>\n",
       "      <th>2</th>\n",
       "      <td>200507</td>\n",
       "      <td>ATA Airlines</td>\n",
       "      <td>TZ</td>\n",
       "      <td>ATA Airlines</td>\n",
       "      <td>TZ</td>\n",
       "      <td>Domestic</td>\n",
       "      <td>US</td>\n",
       "      <td>Thru / Transit</td>\n",
       "      <td>Low Fare</td>\n",
       "      <td>Terminal 1</td>\n",
       "      <td>B</td>\n",
       "      <td>5415</td>\n",
       "    </tr>\n",
       "    <tr>\n",
       "      <th>3</th>\n",
       "      <td>200507</td>\n",
       "      <td>Air Canada</td>\n",
       "      <td>AC</td>\n",
       "      <td>Air Canada</td>\n",
       "      <td>AC</td>\n",
       "      <td>International</td>\n",
       "      <td>Canada</td>\n",
       "      <td>Deplaned</td>\n",
       "      <td>Other</td>\n",
       "      <td>Terminal 1</td>\n",
       "      <td>B</td>\n",
       "      <td>35156</td>\n",
       "    </tr>\n",
       "    <tr>\n",
       "      <th>4</th>\n",
       "      <td>200507</td>\n",
       "      <td>Air Canada</td>\n",
       "      <td>AC</td>\n",
       "      <td>Air Canada</td>\n",
       "      <td>AC</td>\n",
       "      <td>International</td>\n",
       "      <td>Canada</td>\n",
       "      <td>Enplaned</td>\n",
       "      <td>Other</td>\n",
       "      <td>Terminal 1</td>\n",
       "      <td>B</td>\n",
       "      <td>34090</td>\n",
       "    </tr>\n",
       "  </tbody>\n",
       "</table>\n",
       "</div>"
      ],
      "text/plain": [
       "   Activity Period Operating Airline Operating Airline IATA Code  \\\n",
       "0           200507      ATA Airlines                          TZ   \n",
       "1           200507      ATA Airlines                          TZ   \n",
       "2           200507      ATA Airlines                          TZ   \n",
       "3           200507        Air Canada                          AC   \n",
       "4           200507        Air Canada                          AC   \n",
       "\n",
       "  Published Airline Published Airline IATA Code    GEO Summary GEO Region  \\\n",
       "0      ATA Airlines                          TZ       Domestic         US   \n",
       "1      ATA Airlines                          TZ       Domestic         US   \n",
       "2      ATA Airlines                          TZ       Domestic         US   \n",
       "3        Air Canada                          AC  International     Canada   \n",
       "4        Air Canada                          AC  International     Canada   \n",
       "\n",
       "  Activity Type Code Price Category Code    Terminal Boarding Area  \\\n",
       "0           Deplaned            Low Fare  Terminal 1             B   \n",
       "1           Enplaned            Low Fare  Terminal 1             B   \n",
       "2     Thru / Transit            Low Fare  Terminal 1             B   \n",
       "3           Deplaned               Other  Terminal 1             B   \n",
       "4           Enplaned               Other  Terminal 1             B   \n",
       "\n",
       "   Passenger Count  \n",
       "0            27271  \n",
       "1            29131  \n",
       "2             5415  \n",
       "3            35156  \n",
       "4            34090  "
      ]
     },
     "execution_count": 5,
     "metadata": {},
     "output_type": "execute_result"
    }
   ],
   "source": [
    "# import the dataset into a DataFrame\n",
    "df = pd.read_csv('Air_Traffic_Passenger_Statistics.csv')\n",
    "df.head()"
   ]
  },
  {
   "cell_type": "code",
   "execution_count": 6,
   "metadata": {},
   "outputs": [
    {
     "data": {
      "text/html": [
       "<div>\n",
       "<style scoped>\n",
       "    .dataframe tbody tr th:only-of-type {\n",
       "        vertical-align: middle;\n",
       "    }\n",
       "\n",
       "    .dataframe tbody tr th {\n",
       "        vertical-align: top;\n",
       "    }\n",
       "\n",
       "    .dataframe thead th {\n",
       "        text-align: right;\n",
       "    }\n",
       "</style>\n",
       "<table border=\"1\" class=\"dataframe\">\n",
       "  <thead>\n",
       "    <tr style=\"text-align: right;\">\n",
       "      <th></th>\n",
       "      <th>Passenger Count</th>\n",
       "    </tr>\n",
       "    <tr>\n",
       "      <th>date</th>\n",
       "      <th></th>\n",
       "    </tr>\n",
       "  </thead>\n",
       "  <tbody>\n",
       "    <tr>\n",
       "      <th>2019-12-01</th>\n",
       "      <td>4720992</td>\n",
       "    </tr>\n",
       "    <tr>\n",
       "      <th>2020-01-01</th>\n",
       "      <td>4241751</td>\n",
       "    </tr>\n",
       "    <tr>\n",
       "      <th>2020-02-01</th>\n",
       "      <td>3742224</td>\n",
       "    </tr>\n",
       "    <tr>\n",
       "      <th>2020-03-01</th>\n",
       "      <td>1885466</td>\n",
       "    </tr>\n",
       "    <tr>\n",
       "      <th>2020-04-01</th>\n",
       "      <td>138817</td>\n",
       "    </tr>\n",
       "    <tr>\n",
       "      <th>2020-05-01</th>\n",
       "      <td>286570</td>\n",
       "    </tr>\n",
       "    <tr>\n",
       "      <th>2020-06-01</th>\n",
       "      <td>555119</td>\n",
       "    </tr>\n",
       "    <tr>\n",
       "      <th>2020-07-01</th>\n",
       "      <td>765274</td>\n",
       "    </tr>\n",
       "    <tr>\n",
       "      <th>2020-08-01</th>\n",
       "      <td>852578</td>\n",
       "    </tr>\n",
       "    <tr>\n",
       "      <th>2020-09-01</th>\n",
       "      <td>905992</td>\n",
       "    </tr>\n",
       "  </tbody>\n",
       "</table>\n",
       "</div>"
      ],
      "text/plain": [
       "            Passenger Count\n",
       "date                       \n",
       "2019-12-01          4720992\n",
       "2020-01-01          4241751\n",
       "2020-02-01          3742224\n",
       "2020-03-01          1885466\n",
       "2020-04-01           138817\n",
       "2020-05-01           286570\n",
       "2020-06-01           555119\n",
       "2020-07-01           765274\n",
       "2020-08-01           852578\n",
       "2020-09-01           905992"
      ]
     },
     "execution_count": 6,
     "metadata": {},
     "output_type": "execute_result"
    }
   ],
   "source": [
    "# Add a date column in a datetime format in order to use it as an date index\n",
    "df['date'] = pd.to_datetime(df['Activity Period'], format = '%Y%m')\n",
    "\n",
    "# Select only two columns Date and Passenger Count to prepare the forecasting task\n",
    "# We want to group all passenger by date regardless of any other features\n",
    "df_clean = df[['date','Passenger Count']].groupby('date').sum()\n",
    "\n",
    "# Let's have a look at the last 10 months. We can see a drop in passenger count beginning in March 2020.\n",
    "df_clean.tail(10)\n"
   ]
  },
  {
   "cell_type": "code",
   "execution_count": 7,
   "metadata": {},
   "outputs": [
    {
     "data": {
      "image/png": "[encoded data removed]",
      "text/plain": [
       "<Figure size 1080x360 with 1 Axes>"
      ]
     },
     "metadata": {
      "needs_background": "light"
     },
     "output_type": "display_data"
    }
   ],
   "source": [
    "# We can visualize the drop with a line plot\n",
    "\n",
    "f, ax1 = plt.subplots(1,1,figsize=(15,5))\n",
    "df_clean.plot(ax=ax1)\n",
    "ax1.set_xlabel(\"Date\")\n",
    "ax1.set_ylabel(\"Passenger Count\")\n",
    "ax1.ticklabel_format(axis='y', style= 'plain')"
   ]
  },
  {
   "cell_type": "code",
   "execution_count": 8,
   "metadata": {},
   "outputs": [
    {
     "data": {
      "text/html": [
       "<div>\n",
       "<style scoped>\n",
       "    .dataframe tbody tr th:only-of-type {\n",
       "        vertical-align: middle;\n",
       "    }\n",
       "\n",
       "    .dataframe tbody tr th {\n",
       "        vertical-align: top;\n",
       "    }\n",
       "\n",
       "    .dataframe thead th {\n",
       "        text-align: right;\n",
       "    }\n",
       "</style>\n",
       "<table border=\"1\" class=\"dataframe\">\n",
       "  <thead>\n",
       "    <tr style=\"text-align: right;\">\n",
       "      <th></th>\n",
       "      <th>Passenger Count</th>\n",
       "    </tr>\n",
       "    <tr>\n",
       "      <th>date</th>\n",
       "      <th></th>\n",
       "    </tr>\n",
       "  </thead>\n",
       "  <tbody>\n",
       "    <tr>\n",
       "      <th>2020-03-01</th>\n",
       "      <td>1885466</td>\n",
       "    </tr>\n",
       "    <tr>\n",
       "      <th>2020-04-01</th>\n",
       "      <td>138817</td>\n",
       "    </tr>\n",
       "    <tr>\n",
       "      <th>2020-05-01</th>\n",
       "      <td>286570</td>\n",
       "    </tr>\n",
       "    <tr>\n",
       "      <th>2020-06-01</th>\n",
       "      <td>555119</td>\n",
       "    </tr>\n",
       "    <tr>\n",
       "      <th>2020-07-01</th>\n",
       "      <td>765274</td>\n",
       "    </tr>\n",
       "    <tr>\n",
       "      <th>2020-08-01</th>\n",
       "      <td>852578</td>\n",
       "    </tr>\n",
       "    <tr>\n",
       "      <th>2020-09-01</th>\n",
       "      <td>905992</td>\n",
       "    </tr>\n",
       "  </tbody>\n",
       "</table>\n",
       "</div>"
      ],
      "text/plain": [
       "            Passenger Count\n",
       "date                       \n",
       "2020-03-01          1885466\n",
       "2020-04-01           138817\n",
       "2020-05-01           286570\n",
       "2020-06-01           555119\n",
       "2020-07-01           765274\n",
       "2020-08-01           852578\n",
       "2020-09-01           905992"
      ]
     },
     "execution_count": 8,
     "metadata": {},
     "output_type": "execute_result"
    }
   ],
   "source": [
    "# Now we have to split the dataset into PreCovid (<= February 2020) and Covid (after February 2020)\n",
    "\n",
    "# Reset the index\n",
    "\n",
    "X = df_clean.reset_index(inplace=False)\n",
    "\n",
    "\n",
    "# Split the dataframe \n",
    "split_date ='2020-02-01'\n",
    "X_precovid = X.loc[X['date'] <= split_date]\n",
    "X_covid = X.loc[X['date'] > split_date]\n",
    "\n",
    "\n",
    "X_precovid.set_index('date', inplace=True)\n",
    "X_covid.set_index('date', inplace=True)\n",
    "\n",
    "X_covid"
   ]
  },
  {
   "cell_type": "code",
   "execution_count": 9,
   "metadata": {},
   "outputs": [
    {
     "name": "stdout",
     "output_type": "stream",
     "text": [
      "Directory data succesfully created\n",
      "Uploading an estimated of 2 files\n",
      "Uploading data/SFO_covid.csv\n",
      "Uploaded data/SFO_covid.csv, 1 files out of an estimated total of 2\n",
      "Uploading data/SFO_prepared.csv\n",
      "Uploaded data/SFO_prepared.csv, 2 files out of an estimated total of 2\n",
      "Uploaded 2 files\n"
     ]
    }
   ],
   "source": [
    "# Now that we have 2 dataset, we can register them into Azure ML\n",
    "\n",
    "UPDATE_DATASET = True\n",
    "\n",
    "if UPDATE_DATASET:    \n",
    "\n",
    "    path = 'data'\n",
    "\n",
    "    try:\n",
    "        os.mkdir(path,)\n",
    "    except OSError as err:\n",
    "        print(err)\n",
    "    else:\n",
    "        print('Directory %s succesfully created' %path)\n",
    "\n",
    "\n",
    "    local_path = './data/SFO_prepared.csv'\n",
    "    local_path_covid = './data/SFO_covid.csv'\n",
    "\n",
    "    # Save the two dataset to csv\n",
    "    X_precovid.to_csv(local_path)\n",
    "    X_covid.to_csv(local_path_covid)\n",
    "\n",
    "\n",
    "    # upload the local file to a datastore on the cloud\n",
    "\n",
    "    # get the datastore to upload prepared data\n",
    "    datastore = ws.get_default_datastore()\n",
    "\n",
    "    # upload the local file from src_dir to the target_path in datastore\n",
    "    datastore.upload(src_dir='data', target_path='data', overwrite=True, show_progress=True)\n",
    "\n",
    "    # create a dataset referencing the cloud location\n",
    "    dataset_prepared = Dataset.Tabular.from_delimited_files(path = [(datastore, (local_path))])\n",
    "    dataset_covid = Dataset.Tabular.from_delimited_files(path = [(datastore, (local_path_covid))])\n",
    "\n",
    "\n",
    "    # Register the Dataset\n",
    "\n",
    "    dataset_prepared = dataset_prepared.register(workspace=ws,\n",
    "                                     name='SFO Air Traffic cleaned',\n",
    "                                     description='SFO Air Traffic predictions cleaned',\n",
    "                                     create_new_version=True)\n",
    "\n",
    "    dataset_covid = dataset_covid.register(workspace=ws,\n",
    "                                     name='SFO Air Traffic covid',\n",
    "                                     description='SFO Air Traffic predictions covid',\n",
    "                                     create_new_version=True)\n",
    "\n",
    "if not UPDATE_DATASET:\n",
    "    dataset_prepared = Dataset.get_by_name(ws, name='SFO Air Traffic cleaned')\n",
    "    dataset_covid = Dataset.get_by_name(ws, name='SFO Air Traffic covid')\n",
    "\n",
    "df_prepared = dataset_prepared.to_pandas_dataframe()\n",
    "df_prepared = df_prepared.set_index('date', inplace=False)\n",
    "    \n",
    "df_covid = dataset_covid.to_pandas_dataframe()\n",
    "df_covid = df_covid.set_index('date', inplace=False)\n",
    "\n",
    "# add february 2020 to the Covid dataframe\n",
    "date = pd.to_datetime(\"2020-02-01\", format = '%Y-%m-%d')\n",
    "\n",
    "df_covid = df_covid.append(pd.DataFrame({'Passenger Count': 3742224}, index=[date]),verify_integrity=True).rename_axis('date')\n",
    "df_covid.sort_index(inplace=True)"
   ]
  },
  {
   "cell_type": "code",
   "execution_count": 10,
   "metadata": {},
   "outputs": [
    {
     "data": {
      "text/plain": [
       "{\n",
       "  \"source\": [\n",
       "    \"('workspaceblobstore', './data/SFO_prepared.csv')\"\n",
       "  ],\n",
       "  \"definition\": [\n",
       "    \"GetDatastoreFiles\",\n",
       "    \"ParseDelimited\",\n",
       "    \"DropColumns\",\n",
       "    \"SetColumnTypes\"\n",
       "  ],\n",
       "  \"registration\": {\n",
       "    \"id\": \"4bced22e-3fb1-4862-8f4b-98047572e632\",\n",
       "    \"name\": \"SFO Air Traffic cleaned\",\n",
       "    \"version\": 1,\n",
       "    \"description\": \"SFO Air Traffic predictions cleaned\",\n",
       "    \"workspace\": \"Workspace.create(name='quick-starts-ws-139688', subscription_id='f9d5a085-54dc-4215-9ba6-dad5d86e60a0', resource_group='aml-quickstarts-139688')\"\n",
       "  }\n",
       "}"
      ]
     },
     "execution_count": 10,
     "metadata": {},
     "output_type": "execute_result"
    }
   ],
   "source": [
    "# Check the dataset\n",
    "dataset_prepared"
   ]
  },
  {
   "cell_type": "code",
   "execution_count": 11,
   "metadata": {},
   "outputs": [
    {
     "data": {
      "text/html": [
       "<div>\n",
       "<style scoped>\n",
       "    .dataframe tbody tr th:only-of-type {\n",
       "        vertical-align: middle;\n",
       "    }\n",
       "\n",
       "    .dataframe tbody tr th {\n",
       "        vertical-align: top;\n",
       "    }\n",
       "\n",
       "    .dataframe thead th {\n",
       "        text-align: right;\n",
       "    }\n",
       "</style>\n",
       "<table border=\"1\" class=\"dataframe\">\n",
       "  <thead>\n",
       "    <tr style=\"text-align: right;\">\n",
       "      <th></th>\n",
       "      <th>Passenger Count</th>\n",
       "    </tr>\n",
       "    <tr>\n",
       "      <th>date</th>\n",
       "      <th></th>\n",
       "    </tr>\n",
       "  </thead>\n",
       "  <tbody>\n",
       "    <tr>\n",
       "      <th>2019-10-01</th>\n",
       "      <td>4824559</td>\n",
       "    </tr>\n",
       "    <tr>\n",
       "      <th>2019-11-01</th>\n",
       "      <td>4370463</td>\n",
       "    </tr>\n",
       "    <tr>\n",
       "      <th>2019-12-01</th>\n",
       "      <td>4720992</td>\n",
       "    </tr>\n",
       "    <tr>\n",
       "      <th>2020-01-01</th>\n",
       "      <td>4241751</td>\n",
       "    </tr>\n",
       "    <tr>\n",
       "      <th>2020-02-01</th>\n",
       "      <td>3742224</td>\n",
       "    </tr>\n",
       "  </tbody>\n",
       "</table>\n",
       "</div>"
      ],
      "text/plain": [
       "            Passenger Count\n",
       "date                       \n",
       "2019-10-01          4824559\n",
       "2019-11-01          4370463\n",
       "2019-12-01          4720992\n",
       "2020-01-01          4241751\n",
       "2020-02-01          3742224"
      ]
     },
     "execution_count": 11,
     "metadata": {},
     "output_type": "execute_result"
    }
   ],
   "source": [
    "# Check the DataFrame\n",
    "df_prepared.tail()"
   ]
  },
  {
   "cell_type": "markdown",
   "metadata": {},
   "source": [
    "## Compute Configuration"
   ]
  },
  {
   "cell_type": "code",
   "execution_count": 14,
   "metadata": {},
   "outputs": [
    {
     "name": "stdout",
     "output_type": "stream",
     "text": [
      "Creating\n",
      "Succeeded..................\n",
      "AmlCompute wait for completion finished\n",
      "\n",
      "Minimum number of nodes requested have been provisioned\n"
     ]
    }
   ],
   "source": [
    "# Choose a name for your CPU cluster\n",
    "amlcompute_cluster_name = \"AMLTraining\"\n",
    "\n",
    "# Verify that cluster does not exist already\n",
    "try:\n",
    "    compute_target = ComputeTarget(workspace=ws, name=amlcompute_cluster_name)\n",
    "    print('Found existing cluster, use it.')\n",
    "except ComputeTargetException:\n",
    "    compute_config = AmlCompute.provisioning_configuration(vm_size='STANDARD_DS3_V2',                                                           \n",
    "                                                           max_nodes=4,\n",
    "                                                          min_nodes = 1, idle_seconds_before_scaledown = 600)\n",
    "    compute_target = ComputeTarget.create(ws, amlcompute_cluster_name, compute_config)\n",
    "\n",
    "compute_target.wait_for_completion(show_output=True)\n",
    "# For a more detailed view of current AmlCompute status, use get_status()."
   ]
  },
  {
   "cell_type": "markdown",
   "metadata": {},
   "source": [
    "## AutoML Configuration\n",
    "\n",
    "The goal is to predict the number of passenger at SFO after February 2020 and compare it to the actual data in order to analyse the impact of Covid on the air traffic.\n",
    "\n",
    "The task we are going to use is a forecasting task. We have to specify the time column and the y column. The other parameter are standard, we will use normalized RMSE as a primary metric to optimize and a cross validation of 5. For forecasting, we use Rolling Origin Cross Validation.\n",
    "\n",
    "More information on ROCV can be found here : https://docs.microsoft.com/en-us/azure/machine-learning/how-to-auto-train-forecast#training-and-validation-data\n",
    "\n",
    "enable_dnn is set to false (by default) because I want to test dnn with Hyperdrive instead of autoML.\n",
    "\n",
    "target_lags, feature_lags and target_rolling_window_size are set to None.\n",
    "\n",
    "forecast_horizon is set to 1.\n",
    "\n",
    "From the doc : \n",
    "Minimum historic data required: (2x forecast_horizon) + #n_cross_validations + max(max(target_lags), target_rolling_window_size)\n",
    "\n",
    "Minimum historic data required = 2 *1 + 5 = 7\n"
   ]
  },
  {
   "cell_type": "code",
   "execution_count": 15,
   "metadata": {
    "gather": {
     "logged": 1598429217746
    },
    "jupyter": {
     "outputs_hidden": false,
     "source_hidden": false
    },
    "nteract": {
     "transient": {
      "deleting": false
     }
    }
   },
   "outputs": [],
   "source": [
    "automl_settings = {\n",
    "    \"experiment_timeout_minutes\":60,\n",
    "    \"max_concurrent_iterations\":4,\n",
    "    \"primary_metric\": 'normalized_root_mean_squared_error',\n",
    "    'time_column_name': 'date'\n",
    "}\n",
    "\n",
    "automl_config = AutoMLConfig(compute_target=compute_target,\n",
    "                             task = \"forecasting\",\n",
    "                             training_data=dataset_prepared,\n",
    "                             label_column_name=\"Passenger Count\",\n",
    "                             enable_early_stopping= True,\n",
    "                             n_cross_validations=5,\n",
    "                             featurization= 'auto',\n",
    "                             debug_log = \"automl_errors.log\",\n",
    "                             **automl_settings\n",
    "                            )\n",
    "\n"
   ]
  },
  {
   "cell_type": "code",
   "execution_count": 16,
   "metadata": {
    "gather": {
     "logged": 1598431107951
    },
    "jupyter": {
     "outputs_hidden": false,
     "source_hidden": false
    },
    "nteract": {
     "transient": {
      "deleting": false
     }
    }
   },
   "outputs": [
    {
     "name": "stdout",
     "output_type": "stream",
     "text": [
      "Running on remote.\n",
      "No run_configuration provided, running on AMLTraining with default configuration\n",
      "Running on remote compute: AMLTraining\n",
      "Parent Run ID: AutoML_a92b16cf-c39d-4c85-ae4e-fbf279c4e01c\n",
      "\n",
      "Current status: DatasetFeaturizationCompleted. Completed featurizing the CV split.\n",
      "Current status: ModelSelection. Beginning model selection.\n",
      "\n",
      "****************************************************************************************************\n",
      "DATA GUARDRAILS: \n",
      "\n",
      "TYPE:         Short series handling\n",
      "STATUS:       PASSED\n",
      "DESCRIPTION:  Automated ML detected enough data points for each series in the input data to continue with training.\n",
      "              \n",
      "\n",
      "****************************************************************************************************\n",
      "\n",
      "TYPE:         Frequency detection\n",
      "STATUS:       PASSED\n",
      "DESCRIPTION:  The time series was analyzed, all data points are aligned with detected frequency.\n",
      "              \n",
      "\n",
      "****************************************************************************************************\n",
      "\n",
      "TYPE:         Missing feature values imputation\n",
      "STATUS:       PASSED\n",
      "DESCRIPTION:  No feature missing values were detected in the training data.\n",
      "              Learn more about missing value imputation: https://aka.ms/AutomatedMLFeaturization\n",
      "\n",
      "****************************************************************************************************\n",
      "\n",
      "****************************************************************************************************\n",
      "ITERATION: The iteration being evaluated.\n",
      "PIPELINE: A summary description of the pipeline being evaluated.\n",
      "DURATION: Time taken for the current iteration.\n",
      "METRIC: The result of computing score on the fitted pipeline.\n",
      "BEST: The best observed score thus far.\n",
      "****************************************************************************************************\n",
      "\n",
      " ITERATION   PIPELINE                                       DURATION      METRIC      BEST\n",
      "         1    ProphetModel                                  0:01:04       0.0960    0.0960\n",
      "         2   RobustScaler LassoLars                         0:01:06       0.1671    0.0960\n",
      "         3   RobustScaler DecisionTree                      0:01:09       0.0291    0.0291\n",
      "         0    AutoArima                                     0:01:42       0.0818    0.0291\n",
      "         5   RobustScaler DecisionTree                      0:01:58       0.0373    0.0291\n",
      "         4   StandardScalerWrapper DecisionTree             0:01:59       0.0599    0.0291\n",
      "         6   StandardScalerWrapper ElasticNet               0:02:04       0.1645    0.0291\n",
      "         7   MinMaxScaler DecisionTree                      0:00:50       0.0684    0.0291\n",
      "         8   MinMaxScaler ElasticNet                        0:00:52       0.1688    0.0291\n",
      "         9   StandardScalerWrapper DecisionTree             0:00:48       0.0651    0.0291\n",
      "        10   StandardScalerWrapper DecisionTree             0:00:55       0.0261    0.0261\n",
      "        11   RobustScaler DecisionTree                      0:00:50       0.0373    0.0261\n",
      "        12   RobustScaler ElasticNet                        0:00:43       0.1716    0.0261\n",
      "        13   RobustScaler DecisionTree                      0:00:47       0.0591    0.0261\n",
      "        14   RobustScaler DecisionTree                      0:00:41       0.0716    0.0261\n",
      "        15   StandardScalerWrapper DecisionTree             0:00:46       0.0472    0.0261\n",
      "        16   MinMaxScaler DecisionTree                      0:00:50       0.0591    0.0261\n",
      "        17   MinMaxScaler DecisionTree                      0:00:44       0.0373    0.0261\n",
      "        18   RobustScaler DecisionTree                      0:01:01       0.0591    0.0261\n",
      "        19   StandardScalerWrapper DecisionTree             0:00:57       0.0599    0.0261\n",
      "        20   MinMaxScaler DecisionTree                      0:00:48       0.0591    0.0261\n",
      "        21   StandardScalerWrapper LassoLars                0:00:50       0.1671    0.0261\n",
      "        22   MinMaxScaler DecisionTree                      0:00:49       0.0378    0.0261\n",
      "        23   StandardScalerWrapper DecisionTree             0:00:44       0.0373    0.0261\n",
      "        24   StandardScalerWrapper RandomForest             0:00:52       0.0680    0.0261\n",
      "        25   StandardScalerWrapper DecisionTree             0:00:48       0.0895    0.0261\n",
      "        26   MinMaxScaler ExtremeRandomTrees                0:00:51       0.0526    0.0261\n",
      "        27   MinMaxScaler RandomForest                      0:00:59       0.0599    0.0261\n",
      "        28   StandardScalerWrapper GradientBoosting         0:00:51       0.0519    0.0261\n",
      "        29   MinMaxScaler RandomForest                      0:00:45       0.0814    0.0261\n",
      "        30   StandardScalerWrapper DecisionTree             0:00:50       0.0549    0.0261\n",
      "        31   StandardScalerWrapper RandomForest             0:00:52       0.0792    0.0261\n",
      "        33   MinMaxScaler ExtremeRandomTrees                0:00:48       0.0556    0.0261\n",
      "        32   MinMaxScaler RandomForest                      0:00:51       0.0622    0.0261\n",
      "        34   MaxAbsScaler RandomForest                      0:00:29       0.0892    0.0261\n",
      "        35                                                  0:00:08          nan    0.0261\n",
      "        36    VotingEnsemble                                0:01:12       0.0247    0.0247\n"
     ]
    }
   ],
   "source": [
    "# Submit the experiment\n",
    "TRAIN = True\n",
    "\n",
    "if TRAIN:\n",
    "    run_autoML = experiment.submit(automl_config, show_output = True)\n",
    "    run_autoML.wait_for_completion()\n",
    "    \n",
    "# If we already did the training, we can get our run by passing the run_id.\n",
    "else:\n",
    "    run_autoML = AutoMLRun(experiment, 'AutoML_71b33a45-fd33-4248-ad2c-f228c393967c')"
   ]
  },
  {
   "cell_type": "markdown",
   "metadata": {},
   "source": [
    "## Run Details\n",
    "\n",
    "In the cell below, use the `RunDetails` widget to show the different experiments.\n",
    "\n",
    "VotingEnsemble was the best run for this experiment followed by a DecisionTree and a GradientBoosting model. Prophet and AutoArima performed significaly worst probably because of my autoML setting. I will have to have a better look at the way to use these model more efficiently with autoML."
   ]
  },
  {
   "cell_type": "code",
   "execution_count": 17,
   "metadata": {
    "gather": {
     "logged": 1598431121770
    },
    "jupyter": {
     "outputs_hidden": false,
     "source_hidden": false
    },
    "nteract": {
     "transient": {
      "deleting": false
     }
    }
   },
   "outputs": [
    {
     "data": {
      "application/vnd.jupyter.widget-view+json": {
       "model_id": "ecddba2d145846dea91ddcb30d8ecd07",
       "version_major": 2,
       "version_minor": 0
      },
      "text/plain": [
       "_AutoMLWidget(widget_settings={'childWidgetDisplay': 'popup', 'send_telemetry': False, 'log_level': 'INFO', 's…"
      ]
     },
     "metadata": {},
     "output_type": "display_data"
    },
    {
     "data": {
      "application/aml.mini.widget.v1": "{\"status\": \"Completed\", \"workbench_run_details_uri\": \"https://ml.azure.com/experiments/SFO-Traffic-Predictions/runs/AutoML_a92b16cf-c39d-4c85-ae4e-fbf279c4e01c?wsid=/subscriptions/f9d5a085-54dc-4215-9ba6-dad5d86e60a0/resourcegroups/aml-quickstarts-139688/workspaces/quick-starts-ws-139688\", \"run_id\": \"AutoML_a92b16cf-c39d-4c85-ae4e-fbf279c4e01c\", \"run_properties\": {\"run_id\": \"AutoML_a92b16cf-c39d-4c85-ae4e-fbf279c4e01c\", \"created_utc\": \"2021-03-01T22:58:36.666889Z\", \"properties\": {\"num_iterations\": \"1000\", \"training_type\": \"TrainFull\", \"acquisition_function\": \"EI\", \"primary_metric\": \"normalized_root_mean_squared_error\", \"train_split\": \"0\", \"acquisition_parameter\": \"0\", \"num_cross_validation\": \"5\", \"target\": \"AMLTraining\", \"AMLSettingsJsonString\": \"{\\\"path\\\":null,\\\"name\\\":\\\"SFO-Traffic-Predictions\\\",\\\"subscription_id\\\":\\\"f9d5a085-54dc-4215-9ba6-dad5d86e60a0\\\",\\\"resource_group\\\":\\\"aml-quickstarts-139688\\\",\\\"workspace_name\\\":\\\"quick-starts-ws-139688\\\",\\\"region\\\":\\\"southcentralus\\\",\\\"compute_target\\\":\\\"AMLTraining\\\",\\\"spark_service\\\":null,\\\"azure_service\\\":\\\"remote\\\",\\\"many_models\\\":false,\\\"pipeline_fetch_max_batch_size\\\":1,\\\"iterations\\\":1000,\\\"primary_metric\\\":\\\"normalized_root_mean_squared_error\\\",\\\"task_type\\\":\\\"regression\\\",\\\"data_script\\\":null,\\\"validation_size\\\":0.0,\\\"n_cross_validations\\\":5,\\\"y_min\\\":null,\\\"y_max\\\":null,\\\"num_classes\\\":null,\\\"featurization\\\":\\\"auto\\\",\\\"_ignore_package_version_incompatibilities\\\":false,\\\"is_timeseries\\\":true,\\\"max_cores_per_iteration\\\":1,\\\"max_concurrent_iterations\\\":4,\\\"iteration_timeout_minutes\\\":null,\\\"mem_in_mb\\\":null,\\\"enforce_time_on_windows\\\":false,\\\"experiment_timeout_minutes\\\":60,\\\"experiment_exit_score\\\":null,\\\"whitelist_models\\\":null,\\\"blacklist_algos\\\":[\\\"TensorFlowDNN\\\",\\\"TensorFlowLinearRegressor\\\",\\\"Naive\\\",\\\"SeasonalNaive\\\",\\\"Average\\\",\\\"SeasonalAverage\\\",\\\"ExponentialSmoothing\\\",\\\"Arimax\\\"],\\\"supported_models\\\":[\\\"GradientBoosting\\\",\\\"SGD\\\",\\\"RandomForest\\\",\\\"LightGBM\\\",\\\"DecisionTree\\\",\\\"AutoArima\\\",\\\"ExtremeRandomTrees\\\",\\\"Naive\\\",\\\"Average\\\",\\\"SeasonalAverage\\\",\\\"TensorFlowLinearRegressor\\\",\\\"Prophet\\\",\\\"ElasticNet\\\",\\\"SeasonalNaive\\\",\\\"LassoLars\\\",\\\"TCNForecaster\\\",\\\"XGBoostRegressor\\\",\\\"KNN\\\",\\\"TensorFlowDNN\\\"],\\\"private_models\\\":[\\\"ExponentialSmoothing\\\"],\\\"auto_blacklist\\\":true,\\\"blacklist_samples_reached\\\":false,\\\"exclude_nan_labels\\\":true,\\\"verbosity\\\":20,\\\"_debug_log\\\":\\\"azureml_automl.log\\\",\\\"show_warnings\\\":false,\\\"model_explainability\\\":true,\\\"service_url\\\":null,\\\"sdk_url\\\":null,\\\"sdk_packages\\\":null,\\\"enable_onnx_compatible_models\\\":false,\\\"enable_split_onnx_featurizer_estimator_models\\\":false,\\\"vm_type\\\":\\\"STANDARD_DS3_V2\\\",\\\"telemetry_verbosity\\\":20,\\\"send_telemetry\\\":true,\\\"enable_dnn\\\":false,\\\"scenario\\\":\\\"SDK-1.13.0\\\",\\\"environment_label\\\":null,\\\"force_text_dnn\\\":false,\\\"enable_feature_sweeping\\\":false,\\\"time_column_name\\\":\\\"date\\\",\\\"grain_column_names\\\":null,\\\"drop_column_names\\\":[],\\\"max_horizon\\\":1,\\\"dropna\\\":false,\\\"overwrite_columns\\\":true,\\\"transform_dictionary\\\":{\\\"min\\\":\\\"_automl_target_col\\\",\\\"max\\\":\\\"_automl_target_col\\\",\\\"mean\\\":\\\"_automl_target_col\\\"},\\\"window_size\\\":null,\\\"country_or_region\\\":null,\\\"lags\\\":null,\\\"feature_lags\\\":null,\\\"seasonality\\\":\\\"auto\\\",\\\"use_stl\\\":null,\\\"short_series_handling\\\":true,\\\"freq\\\":null,\\\"short_series_handling_configuration\\\":\\\"auto\\\",\\\"enable_early_stopping\\\":true,\\\"early_stopping_n_iters\\\":10,\\\"metrics\\\":null,\\\"enable_ensembling\\\":true,\\\"enable_stack_ensembling\\\":false,\\\"ensemble_iterations\\\":15,\\\"enable_tf\\\":false,\\\"enable_subsampling\\\":false,\\\"subsample_seed\\\":null,\\\"enable_nimbusml\\\":false,\\\"enable_streaming\\\":false,\\\"force_streaming\\\":false,\\\"track_child_runs\\\":true,\\\"allowed_private_models\\\":[],\\\"label_column_name\\\":\\\"Passenger Count\\\",\\\"weight_column_name\\\":null,\\\"cv_split_column_names\\\":null,\\\"enable_local_managed\\\":false,\\\"_local_managed_run_id\\\":null,\\\"cost_mode\\\":1,\\\"lag_length\\\":0,\\\"metric_operation\\\":\\\"minimize\\\",\\\"preprocess\\\":true}\", \"DataPrepJsonString\": \"{\\\\\\\"training_data\\\\\\\": \\\\\\\"{\\\\\\\\\\\\\\\"blocks\\\\\\\\\\\\\\\": [{\\\\\\\\\\\\\\\"id\\\\\\\\\\\\\\\": \\\\\\\\\\\\\\\"20b8036a-6128-4f2e-b9f6-125dd86e6bf9\\\\\\\\\\\\\\\", \\\\\\\\\\\\\\\"type\\\\\\\\\\\\\\\": \\\\\\\\\\\\\\\"Microsoft.DPrep.GetDatastoreFilesBlock\\\\\\\\\\\\\\\", \\\\\\\\\\\\\\\"arguments\\\\\\\\\\\\\\\": {\\\\\\\\\\\\\\\"datastores\\\\\\\\\\\\\\\": [{\\\\\\\\\\\\\\\"datastoreName\\\\\\\\\\\\\\\": \\\\\\\\\\\\\\\"workspaceblobstore\\\\\\\\\\\\\\\", \\\\\\\\\\\\\\\"path\\\\\\\\\\\\\\\": \\\\\\\\\\\\\\\"./data/SFO_prepared.csv\\\\\\\\\\\\\\\", \\\\\\\\\\\\\\\"resourceGroup\\\\\\\\\\\\\\\": \\\\\\\\\\\\\\\"aml-quickstarts-139688\\\\\\\\\\\\\\\", \\\\\\\\\\\\\\\"subscription\\\\\\\\\\\\\\\": \\\\\\\\\\\\\\\"f9d5a085-54dc-4215-9ba6-dad5d86e60a0\\\\\\\\\\\\\\\", \\\\\\\\\\\\\\\"workspaceName\\\\\\\\\\\\\\\": \\\\\\\\\\\\\\\"quick-starts-ws-139688\\\\\\\\\\\\\\\"}]}, \\\\\\\\\\\\\\\"localData\\\\\\\\\\\\\\\": {}, \\\\\\\\\\\\\\\"isEnabled\\\\\\\\\\\\\\\": true, \\\\\\\\\\\\\\\"name\\\\\\\\\\\\\\\": null, \\\\\\\\\\\\\\\"annotation\\\\\\\\\\\\\\\": null}, {\\\\\\\\\\\\\\\"id\\\\\\\\\\\\\\\": \\\\\\\\\\\\\\\"61ec63da-b01d-4e69-9dbe-f4e3f33fa33b\\\\\\\\\\\\\\\", \\\\\\\\\\\\\\\"type\\\\\\\\\\\\\\\": \\\\\\\\\\\\\\\"Microsoft.DPrep.ParseDelimitedBlock\\\\\\\\\\\\\\\", \\\\\\\\\\\\\\\"arguments\\\\\\\\\\\\\\\": {\\\\\\\\\\\\\\\"columnHeadersMode\\\\\\\\\\\\\\\": 3, \\\\\\\\\\\\\\\"fileEncoding\\\\\\\\\\\\\\\": 0, \\\\\\\\\\\\\\\"handleQuotedLineBreaks\\\\\\\\\\\\\\\": false, \\\\\\\\\\\\\\\"preview\\\\\\\\\\\\\\\": false, \\\\\\\\\\\\\\\"separator\\\\\\\\\\\\\\\": \\\\\\\\\\\\\\\",\\\\\\\\\\\\\\\", \\\\\\\\\\\\\\\"skipRows\\\\\\\\\\\\\\\": 0, \\\\\\\\\\\\\\\"skipRowsMode\\\\\\\\\\\\\\\": 0}, \\\\\\\\\\\\\\\"localData\\\\\\\\\\\\\\\": {}, \\\\\\\\\\\\\\\"isEnabled\\\\\\\\\\\\\\\": true, \\\\\\\\\\\\\\\"name\\\\\\\\\\\\\\\": null, \\\\\\\\\\\\\\\"annotation\\\\\\\\\\\\\\\": null}, {\\\\\\\\\\\\\\\"id\\\\\\\\\\\\\\\": \\\\\\\\\\\\\\\"a921eb54-08df-4daf-9313-a9cee676dc9b\\\\\\\\\\\\\\\", \\\\\\\\\\\\\\\"type\\\\\\\\\\\\\\\": \\\\\\\\\\\\\\\"Microsoft.DPrep.DropColumnsBlock\\\\\\\\\\\\\\\", \\\\\\\\\\\\\\\"arguments\\\\\\\\\\\\\\\": {\\\\\\\\\\\\\\\"columns\\\\\\\\\\\\\\\": {\\\\\\\\\\\\\\\"type\\\\\\\\\\\\\\\": 0, \\\\\\\\\\\\\\\"details\\\\\\\\\\\\\\\": {\\\\\\\\\\\\\\\"selectedColumns\\\\\\\\\\\\\\\": [\\\\\\\\\\\\\\\"Path\\\\\\\\\\\\\\\"]}}}, \\\\\\\\\\\\\\\"localData\\\\\\\\\\\\\\\": {}, \\\\\\\\\\\\\\\"isEnabled\\\\\\\\\\\\\\\": true, \\\\\\\\\\\\\\\"name\\\\\\\\\\\\\\\": null, \\\\\\\\\\\\\\\"annotation\\\\\\\\\\\\\\\": null}, {\\\\\\\\\\\\\\\"id\\\\\\\\\\\\\\\": \\\\\\\\\\\\\\\"49b1d7dd-cb43-438d-abd2-da4ce8505fe9\\\\\\\\\\\\\\\", \\\\\\\\\\\\\\\"type\\\\\\\\\\\\\\\": \\\\\\\\\\\\\\\"Microsoft.DPrep.SetColumnTypesBlock\\\\\\\\\\\\\\\", \\\\\\\\\\\\\\\"arguments\\\\\\\\\\\\\\\": {\\\\\\\\\\\\\\\"columnConversion\\\\\\\\\\\\\\\": [{\\\\\\\\\\\\\\\"column\\\\\\\\\\\\\\\": {\\\\\\\\\\\\\\\"type\\\\\\\\\\\\\\\": 2, \\\\\\\\\\\\\\\"details\\\\\\\\\\\\\\\": {\\\\\\\\\\\\\\\"selectedColumn\\\\\\\\\\\\\\\": \\\\\\\\\\\\\\\"date\\\\\\\\\\\\\\\"}}, \\\\\\\\\\\\\\\"typeArguments\\\\\\\\\\\\\\\": {\\\\\\\\\\\\\\\"dateTimeFormats\\\\\\\\\\\\\\\": [\\\\\\\\\\\\\\\"%Y-%m-%d\\\\\\\\\\\\\\\"]}, \\\\\\\\\\\\\\\"typeProperty\\\\\\\\\\\\\\\": 4}, {\\\\\\\\\\\\\\\"column\\\\\\\\\\\\\\\": {\\\\\\\\\\\\\\\"type\\\\\\\\\\\\\\\": 2, \\\\\\\\\\\\\\\"details\\\\\\\\\\\\\\\": {\\\\\\\\\\\\\\\"selectedColumn\\\\\\\\\\\\\\\": \\\\\\\\\\\\\\\"Passenger Count\\\\\\\\\\\\\\\"}}, \\\\\\\\\\\\\\\"typeProperty\\\\\\\\\\\\\\\": 2}]}, \\\\\\\\\\\\\\\"localData\\\\\\\\\\\\\\\": {}, \\\\\\\\\\\\\\\"isEnabled\\\\\\\\\\\\\\\": true, \\\\\\\\\\\\\\\"name\\\\\\\\\\\\\\\": null, \\\\\\\\\\\\\\\"annotation\\\\\\\\\\\\\\\": null}], \\\\\\\\\\\\\\\"inspectors\\\\\\\\\\\\\\\": [], \\\\\\\\\\\\\\\"meta\\\\\\\\\\\\\\\": {\\\\\\\\\\\\\\\"savedDatasetId\\\\\\\\\\\\\\\": \\\\\\\\\\\\\\\"4bced22e-3fb1-4862-8f4b-98047572e632\\\\\\\\\\\\\\\", \\\\\\\\\\\\\\\"datasetType\\\\\\\\\\\\\\\": \\\\\\\\\\\\\\\"tabular\\\\\\\\\\\\\\\", \\\\\\\\\\\\\\\"subscriptionId\\\\\\\\\\\\\\\": \\\\\\\\\\\\\\\"f9d5a085-54dc-4215-9ba6-dad5d86e60a0\\\\\\\\\\\\\\\", \\\\\\\\\\\\\\\"workspaceId\\\\\\\\\\\\\\\": \\\\\\\\\\\\\\\"01674ec2-a469-4640-a475-2384dc5a3979\\\\\\\\\\\\\\\", \\\\\\\\\\\\\\\"workspaceLocation\\\\\\\\\\\\\\\": \\\\\\\\\\\\\\\"southcentralus\\\\\\\\\\\\\\\"}}\\\\\\\", \\\\\\\"activities\\\\\\\": 0}\", \"EnableSubsampling\": \"False\", \"runTemplate\": \"AutoML\", \"azureml.runsource\": \"automl\", \"display_task_type\": \"forecasting\", \"dependencies_versions\": \"{\\\"azureml-widgets\\\": \\\"1.22.0\\\", \\\"azureml-train\\\": \\\"1.22.0\\\", \\\"azureml-train-restclients-hyperdrive\\\": \\\"1.22.0\\\", \\\"azureml-train-core\\\": \\\"1.22.0\\\", \\\"azureml-train-automl\\\": \\\"1.22.0\\\", \\\"azureml-train-automl-runtime\\\": \\\"1.22.0\\\", \\\"azureml-train-automl-client\\\": \\\"1.22.0\\\", \\\"azureml-tensorboard\\\": \\\"1.22.0\\\", \\\"azureml-telemetry\\\": \\\"1.22.0\\\", \\\"azureml-sdk\\\": \\\"1.22.0\\\", \\\"azureml-samples\\\": \\\"0+unknown\\\", \\\"azureml-pipeline\\\": \\\"1.22.0\\\", \\\"azureml-pipeline-steps\\\": \\\"1.22.0\\\", \\\"azureml-pipeline-core\\\": \\\"1.22.0\\\", \\\"azureml-opendatasets\\\": \\\"1.22.0\\\", \\\"azureml-model-management-sdk\\\": \\\"1.0.1b6.post1\\\", \\\"azureml-mlflow\\\": \\\"1.22.0\\\", \\\"azureml-interpret\\\": \\\"1.22.0\\\", \\\"azureml-explain-model\\\": \\\"1.22.0\\\", \\\"azureml-defaults\\\": \\\"1.22.0\\\", \\\"azureml-dataset-runtime\\\": \\\"1.22.0\\\", \\\"azureml-dataprep\\\": \\\"2.9.1\\\", \\\"azureml-dataprep-rslex\\\": \\\"1.7.0\\\", \\\"azureml-dataprep-native\\\": \\\"29.0.0\\\", \\\"azureml-datadrift\\\": \\\"1.22.0\\\", \\\"azureml-core\\\": \\\"1.22.0\\\", \\\"azureml-contrib-services\\\": \\\"1.22.0\\\", \\\"azureml-contrib-server\\\": \\\"1.22.0\\\", \\\"azureml-contrib-reinforcementlearning\\\": \\\"1.22.0\\\", \\\"azureml-contrib-pipeline-steps\\\": \\\"1.22.0\\\", \\\"azureml-contrib-notebook\\\": \\\"1.22.0\\\", \\\"azureml-contrib-interpret\\\": \\\"1.22.0\\\", \\\"azureml-contrib-gbdt\\\": \\\"1.22.0\\\", \\\"azureml-contrib-fairness\\\": \\\"1.22.0\\\", \\\"azureml-contrib-dataset\\\": \\\"1.22.0\\\", \\\"azureml-cli-common\\\": \\\"1.22.0\\\", \\\"azureml-automl-runtime\\\": \\\"1.22.0\\\", \\\"azureml-automl-core\\\": \\\"1.22.0\\\", \\\"azureml-accel-models\\\": \\\"1.22.0\\\"}\", \"_aml_system_scenario_identification\": \"Remote.Parent\", \"ClientType\": \"SDK\", \"environment_cpu_name\": \"AzureML-AutoML\", \"environment_cpu_label\": \"prod\", \"environment_gpu_name\": \"AzureML-AutoML-GPU\", \"environment_gpu_label\": \"prod\", \"root_attribution\": \"automl\", \"attribution\": \"AutoML\", \"Orchestrator\": \"AutoML\", \"CancelUri\": \"https://southcentralus.experiments.azureml.net/jasmine/v1.0/subscriptions/f9d5a085-54dc-4215-9ba6-dad5d86e60a0/resourceGroups/aml-quickstarts-139688/providers/Microsoft.MachineLearningServices/workspaces/quick-starts-ws-139688/experimentids/3dba9be5-6f3e-426e-9d24-e7acc5eff2c8/cancel/AutoML_a92b16cf-c39d-4c85-ae4e-fbf279c4e01c\", \"ClientSdkVersion\": \"1.22.0\", \"snapshotId\": \"00000000-0000-0000-0000-000000000000\", \"SetupRunId\": \"AutoML_a92b16cf-c39d-4c85-ae4e-fbf279c4e01c_setup\", \"SetupRunContainerId\": \"dcid.AutoML_a92b16cf-c39d-4c85-ae4e-fbf279c4e01c_setup\", \"forecasting_target_lags\": \"[0]\", \"forecasting_target_rolling_window_size\": \"0\", \"forecasting_max_horizon\": \"1\", \"ProblemInfoJsonString\": \"{\\\"dataset_num_categorical\\\": 0, \\\"is_sparse\\\": false, \\\"subsampling\\\": false, \\\"dataset_classes\\\": 176, \\\"dataset_features\\\": 8, \\\"dataset_samples\\\": 176, \\\"single_frequency_class_detected\\\": false}\", \"ModelExplainRunId\": \"AutoML_a92b16cf-c39d-4c85-ae4e-fbf279c4e01c_ModelExplain\"}, \"tags\": {\"model_explain_run\": \"best_run\", \"_aml_system_azureml.automlComponent\": \"AutoML\", \"pipeline_id\": \"\", \"score\": \"\", \"predicted_cost\": \"\", \"fit_time\": \"\", \"training_percent\": \"\", \"iteration\": \"\", \"run_preprocessor\": \"\", \"run_algorithm\": \"\", \"dynamic_whitelisting_iterations\": \"<25>;<30>;<35>;\", \"automl_best_child_run_id\": \"AutoML_a92b16cf-c39d-4c85-ae4e-fbf279c4e01c_36\", \"model_explain_best_run_child_id\": \"AutoML_a92b16cf-c39d-4c85-ae4e-fbf279c4e01c_36\"}, \"end_time_utc\": \"2021-03-01T23:16:08.750278Z\", \"status\": \"Completed\", \"log_files\": {}, \"log_groups\": [], \"run_duration\": \"0:17:32\", \"run_number\": \"1\", \"run_queued_details\": {\"status\": \"Completed\", \"details\": null}}, \"child_runs\": [{\"run_id\": \"AutoML_a92b16cf-c39d-4c85-ae4e-fbf279c4e01c_0\", \"run_number\": 3, \"metric\": null, \"status\": \"Completed\", \"run_type\": \"azureml.scriptrun\", \"training_percent\": \"100\", \"start_time\": \"2021-03-01T23:05:10.50972Z\", \"end_time\": \"2021-03-01T23:06:52.445285Z\", \"created_time\": \"2021-03-01T23:01:31.553163Z\", \"created_time_dt\": \"2021-03-01T23:01:31.553163Z\", \"duration\": \"0:05:20\", \"iteration\": \"0\", \"goal\": \"normalized_root_mean_squared_error_min\", \"run_name\": \"AutoArima\", \"run_properties\": \"<azureml.automl.runtime.shared._auto_arima.AutoArima object at 0x7ff3805490f0\", \"primary_metric\": 0.08181043, \"best_metric\": 0.08181043}, {\"run_id\": \"AutoML_a92b16cf-c39d-4c85-ae4e-fbf279c4e01c_3\", \"run_number\": 4, \"metric\": null, \"status\": \"Completed\", \"run_type\": \"azureml.scriptrun\", \"training_percent\": \"100\", \"start_time\": \"2021-03-01T23:03:55.872261Z\", \"end_time\": \"2021-03-01T23:05:04.790003Z\", \"created_time\": \"2021-03-01T23:01:31.570694Z\", \"created_time_dt\": \"2021-03-01T23:01:31.570694Z\", \"duration\": \"0:03:33\", \"iteration\": \"3\", \"goal\": \"normalized_root_mean_squared_error_min\", \"run_name\": \"RobustScaler, DecisionTree\", \"run_properties\": \"copy=True, quantile_range=[10, 90], with_centering=True,\\n             with_scaling=False\", \"primary_metric\": 0.02906611, \"best_metric\": 0.02906611}, {\"run_id\": \"AutoML_a92b16cf-c39d-4c85-ae4e-fbf279c4e01c_1\", \"run_number\": 5, \"metric\": null, \"status\": \"Completed\", \"run_type\": \"azureml.scriptrun\", \"training_percent\": \"100\", \"start_time\": \"2021-03-01T23:01:39.242516Z\", \"end_time\": \"2021-03-01T23:02:43.563995Z\", \"created_time\": \"2021-03-01T23:01:31.604276Z\", \"created_time_dt\": \"2021-03-01T23:01:31.604276Z\", \"duration\": \"0:01:11\", \"iteration\": \"1\", \"goal\": \"normalized_root_mean_squared_error_min\", \"run_name\": \"ProphetModel\", \"run_properties\": \"<azureml.automl.runtime.shared._prophet_model.ProphetModel object at 0x7f5941511a90\", \"primary_metric\": 0.09601693, \"best_metric\": 0.08181043}, {\"run_id\": \"AutoML_a92b16cf-c39d-4c85-ae4e-fbf279c4e01c_2\", \"run_number\": 6, \"metric\": null, \"status\": \"Completed\", \"run_type\": \"azureml.scriptrun\", \"training_percent\": \"100\", \"start_time\": \"2021-03-01T23:02:48.46954Z\", \"end_time\": \"2021-03-01T23:03:54.401296Z\", \"created_time\": \"2021-03-01T23:01:31.572124Z\", \"created_time_dt\": \"2021-03-01T23:01:31.572124Z\", \"duration\": \"0:02:22\", \"iteration\": \"2\", \"goal\": \"normalized_root_mean_squared_error_min\", \"run_name\": \"RobustScaler, LassoLars\", \"run_properties\": \"copy=True, quantile_range=[10, 90], with_centering=False,\\n             with_scaling=True\", \"primary_metric\": 0.16706036, \"best_metric\": 0.08181043}, {\"run_id\": \"AutoML_a92b16cf-c39d-4c85-ae4e-fbf279c4e01c_4\", \"run_number\": 7, \"metric\": null, \"status\": \"Completed\", \"run_type\": \"azureml.scriptrun\", \"training_percent\": \"100\", \"start_time\": \"2021-03-01T23:05:29.069232Z\", \"end_time\": \"2021-03-01T23:07:28.434063Z\", \"created_time\": \"2021-03-01T23:02:45.482489Z\", \"created_time_dt\": \"2021-03-01T23:02:45.482489Z\", \"duration\": \"0:04:42\", \"iteration\": \"4\", \"goal\": \"normalized_root_mean_squared_error_min\", \"run_name\": \"StandardScalerWrapper, DecisionTree\", \"run_properties\": \"<azureml.automl.runtime.shared.model_wrappers.StandardScalerWrapper object at 0x7f0a0c671358\", \"primary_metric\": 0.05987841, \"best_metric\": 0.02906611}, {\"run_id\": \"AutoML_a92b16cf-c39d-4c85-ae4e-fbf279c4e01c_5\", \"run_number\": 8, \"metric\": null, \"status\": \"Completed\", \"run_type\": \"azureml.scriptrun\", \"training_percent\": \"100\", \"start_time\": \"2021-03-01T23:05:26.390405Z\", \"end_time\": \"2021-03-01T23:07:24.370224Z\", \"created_time\": \"2021-03-01T23:03:56.949145Z\", \"created_time_dt\": \"2021-03-01T23:03:56.949145Z\", \"duration\": \"0:03:27\", \"iteration\": \"5\", \"goal\": \"normalized_root_mean_squared_error_min\", \"run_name\": \"RobustScaler, DecisionTree\", \"run_properties\": \"copy=True, quantile_range=[10, 90], with_centering=False,\\n             with_scaling=True\", \"primary_metric\": 0.03729003, \"best_metric\": 0.02906611}, {\"run_id\": \"AutoML_a92b16cf-c39d-4c85-ae4e-fbf279c4e01c_6\", \"run_number\": 9, \"metric\": null, \"status\": \"Completed\", \"run_type\": \"azureml.scriptrun\", \"training_percent\": \"100\", \"start_time\": \"2021-03-01T23:05:27.26182Z\", \"end_time\": \"2021-03-01T23:07:31.718536Z\", \"created_time\": \"2021-03-01T23:05:07.602205Z\", \"created_time_dt\": \"2021-03-01T23:05:07.602205Z\", \"duration\": \"0:02:24\", \"iteration\": \"6\", \"goal\": \"normalized_root_mean_squared_error_min\", \"run_name\": \"StandardScalerWrapper, ElasticNet\", \"run_properties\": \"<azureml.automl.runtime.shared.model_wrappers.StandardScalerWrapper object at 0x7efc24052ef0\", \"primary_metric\": 0.16452639, \"best_metric\": 0.02906611}, {\"run_id\": \"AutoML_a92b16cf-c39d-4c85-ae4e-fbf279c4e01c_7\", \"run_number\": 10, \"metric\": null, \"status\": \"Completed\", \"run_type\": \"azureml.scriptrun\", \"training_percent\": \"100\", \"start_time\": \"2021-03-01T23:07:05.246394Z\", \"end_time\": \"2021-03-01T23:07:55.281962Z\", \"created_time\": \"2021-03-01T23:06:54.798356Z\", \"created_time_dt\": \"2021-03-01T23:06:54.798356Z\", \"duration\": \"0:01:00\", \"iteration\": \"7\", \"goal\": \"normalized_root_mean_squared_error_min\", \"run_name\": \"MinMaxScaler, DecisionTree\", \"run_properties\": \"copy=True, feature_range=(0, 1\", \"primary_metric\": 0.06838582, \"best_metric\": 0.02906611}, {\"run_id\": \"AutoML_a92b16cf-c39d-4c85-ae4e-fbf279c4e01c_8\", \"run_number\": 11, \"metric\": null, \"status\": \"Completed\", \"run_type\": \"azureml.scriptrun\", \"training_percent\": \"100\", \"start_time\": \"2021-03-01T23:07:38.759734Z\", \"end_time\": \"2021-03-01T23:08:30.373288Z\", \"created_time\": \"2021-03-01T23:07:26.236696Z\", \"created_time_dt\": \"2021-03-01T23:07:26.236696Z\", \"duration\": \"0:01:04\", \"iteration\": \"8\", \"goal\": \"normalized_root_mean_squared_error_min\", \"run_name\": \"MinMaxScaler, ElasticNet\", \"run_properties\": \"copy=True, feature_range=(0, 1\", \"primary_metric\": 0.16877059, \"best_metric\": 0.02906611}, {\"run_id\": \"AutoML_a92b16cf-c39d-4c85-ae4e-fbf279c4e01c_9\", \"run_number\": 12, \"metric\": null, \"status\": \"Completed\", \"run_type\": \"azureml.scriptrun\", \"training_percent\": \"100\", \"start_time\": \"2021-03-01T23:07:41.325228Z\", \"end_time\": \"2021-03-01T23:08:29.294665Z\", \"created_time\": \"2021-03-01T23:07:30.591315Z\", \"created_time_dt\": \"2021-03-01T23:07:30.591315Z\", \"duration\": \"0:00:58\", \"iteration\": \"9\", \"goal\": \"normalized_root_mean_squared_error_min\", \"run_name\": \"StandardScalerWrapper, DecisionTree\", \"run_properties\": \"<azureml.automl.runtime.shared.model_wrappers.StandardScalerWrapper object at 0x7fafa61fa5c0\", \"primary_metric\": 0.06513035, \"best_metric\": 0.02906611}, {\"run_id\": \"AutoML_a92b16cf-c39d-4c85-ae4e-fbf279c4e01c_10\", \"run_number\": 13, \"metric\": null, \"status\": \"Completed\", \"run_type\": \"azureml.scriptrun\", \"training_percent\": \"100\", \"start_time\": \"2021-03-01T23:07:42.854858Z\", \"end_time\": \"2021-03-01T23:08:37.771726Z\", \"created_time\": \"2021-03-01T23:07:34.76271Z\", \"created_time_dt\": \"2021-03-01T23:07:34.76271Z\", \"duration\": \"0:01:03\", \"iteration\": \"10\", \"goal\": \"normalized_root_mean_squared_error_min\", \"run_name\": \"StandardScalerWrapper, DecisionTree\", \"run_properties\": \"<azureml.automl.runtime.shared.model_wrappers.StandardScalerWrapper object at 0x7f84946ab3c8\", \"primary_metric\": 0.02606423, \"best_metric\": 0.02606423}, {\"run_id\": \"AutoML_a92b16cf-c39d-4c85-ae4e-fbf279c4e01c_11\", \"run_number\": 14, \"metric\": null, \"status\": \"Completed\", \"run_type\": \"azureml.scriptrun\", \"training_percent\": \"100\", \"start_time\": \"2021-03-01T23:08:10.194127Z\", \"end_time\": \"2021-03-01T23:09:00.317848Z\", \"created_time\": \"2021-03-01T23:07:57.074651Z\", \"created_time_dt\": \"2021-03-01T23:07:57.074651Z\", \"duration\": \"0:01:03\", \"iteration\": \"11\", \"goal\": \"normalized_root_mean_squared_error_min\", \"run_name\": \"RobustScaler, DecisionTree\", \"run_properties\": \"copy=True, quantile_range=[10, 90], with_centering=True,\\n             with_scaling=False\", \"primary_metric\": 0.03729003, \"best_metric\": 0.02606423}, {\"run_id\": \"AutoML_a92b16cf-c39d-4c85-ae4e-fbf279c4e01c_12\", \"run_number\": 15, \"metric\": null, \"status\": \"Completed\", \"run_type\": \"azureml.scriptrun\", \"training_percent\": \"100\", \"start_time\": \"2021-03-01T23:08:41.369569Z\", \"end_time\": \"2021-03-01T23:09:24.133424Z\", \"created_time\": \"2021-03-01T23:08:31.004808Z\", \"created_time_dt\": \"2021-03-01T23:08:31.004808Z\", \"duration\": \"0:00:53\", \"iteration\": \"12\", \"goal\": \"normalized_root_mean_squared_error_min\", \"run_name\": \"RobustScaler, ElasticNet\", \"run_properties\": \"copy=True, quantile_range=[25, 75], with_centering=True,\\n             with_scaling=False\", \"primary_metric\": 0.17159949, \"best_metric\": 0.02606423}, {\"run_id\": \"AutoML_a92b16cf-c39d-4c85-ae4e-fbf279c4e01c_13\", \"run_number\": 16, \"metric\": null, \"status\": \"Completed\", \"run_type\": \"azureml.scriptrun\", \"training_percent\": \"100\", \"start_time\": \"2021-03-01T23:08:43.590673Z\", \"end_time\": \"2021-03-01T23:09:30.418523Z\", \"created_time\": \"2021-03-01T23:08:34.862202Z\", \"created_time_dt\": \"2021-03-01T23:08:34.862202Z\", \"duration\": \"0:00:55\", \"iteration\": \"13\", \"goal\": \"normalized_root_mean_squared_error_min\", \"run_name\": \"RobustScaler, DecisionTree\", \"run_properties\": \"copy=True, quantile_range=[10, 90], with_centering=False,\\n             with_scaling=False\", \"primary_metric\": 0.05909127, \"best_metric\": 0.02606423}, {\"run_id\": \"AutoML_a92b16cf-c39d-4c85-ae4e-fbf279c4e01c_14\", \"run_number\": 17, \"metric\": null, \"status\": \"Completed\", \"run_type\": \"azureml.scriptrun\", \"training_percent\": \"100\", \"start_time\": \"2021-03-01T23:08:48.717434Z\", \"end_time\": \"2021-03-01T23:09:30.087813Z\", \"created_time\": \"2021-03-01T23:08:39.748577Z\", \"created_time_dt\": \"2021-03-01T23:08:39.748577Z\", \"duration\": \"0:00:50\", \"iteration\": \"14\", \"goal\": \"normalized_root_mean_squared_error_min\", \"run_name\": \"RobustScaler, DecisionTree\", \"run_properties\": \"copy=True, quantile_range=[10, 90], with_centering=False,\\n             with_scaling=False\", \"primary_metric\": 0.07159278, \"best_metric\": 0.02606423}, {\"run_id\": \"AutoML_a92b16cf-c39d-4c85-ae4e-fbf279c4e01c_15\", \"run_number\": 18, \"metric\": null, \"status\": \"Completed\", \"run_type\": \"azureml.scriptrun\", \"training_percent\": \"100\", \"start_time\": \"2021-03-01T23:09:14.353183Z\", \"end_time\": \"2021-03-01T23:10:00.688758Z\", \"created_time\": \"2021-03-01T23:09:02.198392Z\", \"created_time_dt\": \"2021-03-01T23:09:02.198392Z\", \"duration\": \"0:00:58\", \"iteration\": \"15\", \"goal\": \"normalized_root_mean_squared_error_min\", \"run_name\": \"StandardScalerWrapper, DecisionTree\", \"run_properties\": \"<azureml.automl.runtime.shared.model_wrappers.StandardScalerWrapper object at 0x7f03085a2940\", \"primary_metric\": 0.04715492, \"best_metric\": 0.02606423}, {\"run_id\": \"AutoML_a92b16cf-c39d-4c85-ae4e-fbf279c4e01c_16\", \"run_number\": 19, \"metric\": null, \"status\": \"Completed\", \"run_type\": \"azureml.scriptrun\", \"training_percent\": \"100\", \"start_time\": \"2021-03-01T23:09:33.757806Z\", \"end_time\": \"2021-03-01T23:10:24.043645Z\", \"created_time\": \"2021-03-01T23:09:25.988682Z\", \"created_time_dt\": \"2021-03-01T23:09:25.988682Z\", \"duration\": \"0:00:58\", \"iteration\": \"16\", \"goal\": \"normalized_root_mean_squared_error_min\", \"run_name\": \"MinMaxScaler, DecisionTree\", \"run_properties\": \"copy=True, feature_range=(0, 1\", \"primary_metric\": 0.05909127, \"best_metric\": 0.02606423}, {\"run_id\": \"AutoML_a92b16cf-c39d-4c85-ae4e-fbf279c4e01c_17\", \"run_number\": 20, \"metric\": null, \"status\": \"Completed\", \"run_type\": \"azureml.scriptrun\", \"training_percent\": \"100\", \"start_time\": \"2021-03-01T23:09:39.021528Z\", \"end_time\": \"2021-03-01T23:10:22.842998Z\", \"created_time\": \"2021-03-01T23:09:31.844915Z\", \"created_time_dt\": \"2021-03-01T23:09:31.844915Z\", \"duration\": \"0:00:50\", \"iteration\": \"17\", \"goal\": \"normalized_root_mean_squared_error_min\", \"run_name\": \"MinMaxScaler, DecisionTree\", \"run_properties\": \"copy=True, feature_range=(0, 1\", \"primary_metric\": 0.03729003, \"best_metric\": 0.02606423}, {\"run_id\": \"AutoML_a92b16cf-c39d-4c85-ae4e-fbf279c4e01c_18\", \"run_number\": 21, \"metric\": null, \"status\": \"Completed\", \"run_type\": \"azureml.scriptrun\", \"training_percent\": \"100\", \"start_time\": \"2021-03-01T23:09:46.840428Z\", \"end_time\": \"2021-03-01T23:10:47.945788Z\", \"created_time\": \"2021-03-01T23:09:34.53105Z\", \"created_time_dt\": \"2021-03-01T23:09:34.53105Z\", \"duration\": \"0:01:13\", \"iteration\": \"18\", \"goal\": \"normalized_root_mean_squared_error_min\", \"run_name\": \"RobustScaler, DecisionTree\", \"run_properties\": \"copy=True, quantile_range=[25, 75], with_centering=True,\\n             with_scaling=False\", \"primary_metric\": 0.05909127, \"best_metric\": 0.02606423}, {\"run_id\": \"AutoML_a92b16cf-c39d-4c85-ae4e-fbf279c4e01c_19\", \"run_number\": 22, \"metric\": null, \"status\": \"Completed\", \"run_type\": \"azureml.scriptrun\", \"training_percent\": \"100\", \"start_time\": \"2021-03-01T23:10:10.8494Z\", \"end_time\": \"2021-03-01T23:11:07.706084Z\", \"created_time\": \"2021-03-01T23:10:02.582482Z\", \"created_time_dt\": \"2021-03-01T23:10:02.582482Z\", \"duration\": \"0:01:05\", \"iteration\": \"19\", \"goal\": \"normalized_root_mean_squared_error_min\", \"run_name\": \"StandardScalerWrapper, DecisionTree\", \"run_properties\": \"<azureml.automl.runtime.shared.model_wrappers.StandardScalerWrapper object at 0x7f29c651b860\", \"primary_metric\": 0.05987841, \"best_metric\": 0.02606423}, {\"run_id\": \"AutoML_a92b16cf-c39d-4c85-ae4e-fbf279c4e01c_20\", \"run_number\": 23, \"metric\": null, \"status\": \"Completed\", \"run_type\": \"azureml.scriptrun\", \"training_percent\": \"100\", \"start_time\": \"2021-03-01T23:10:34.498766Z\", \"end_time\": \"2021-03-01T23:11:22.232107Z\", \"created_time\": \"2021-03-01T23:10:24.631318Z\", \"created_time_dt\": \"2021-03-01T23:10:24.631318Z\", \"duration\": \"0:00:57\", \"iteration\": \"20\", \"goal\": \"normalized_root_mean_squared_error_min\", \"run_name\": \"MinMaxScaler, DecisionTree\", \"run_properties\": \"copy=True, feature_range=(0, 1\", \"primary_metric\": 0.05909127, \"best_metric\": 0.02606423}, {\"run_id\": \"AutoML_a92b16cf-c39d-4c85-ae4e-fbf279c4e01c_21\", \"run_number\": 24, \"metric\": null, \"status\": \"Completed\", \"run_type\": \"azureml.scriptrun\", \"training_percent\": \"100\", \"start_time\": \"2021-03-01T23:10:35.536877Z\", \"end_time\": \"2021-03-01T23:11:25.603971Z\", \"created_time\": \"2021-03-01T23:10:28.074658Z\", \"created_time_dt\": \"2021-03-01T23:10:28.074658Z\", \"duration\": \"0:00:57\", \"iteration\": \"21\", \"goal\": \"normalized_root_mean_squared_error_min\", \"run_name\": \"StandardScalerWrapper, LassoLars\", \"run_properties\": \"<azureml.automl.runtime.shared.model_wrappers.StandardScalerWrapper object at 0x7f8821981160\", \"primary_metric\": 0.16706032, \"best_metric\": 0.02606423}, {\"run_id\": \"AutoML_a92b16cf-c39d-4c85-ae4e-fbf279c4e01c_22\", \"run_number\": 25, \"metric\": null, \"status\": \"Completed\", \"run_type\": \"azureml.scriptrun\", \"training_percent\": \"100\", \"start_time\": \"2021-03-01T23:10:57.933422Z\", \"end_time\": \"2021-03-01T23:11:47.248537Z\", \"created_time\": \"2021-03-01T23:10:50.059809Z\", \"created_time_dt\": \"2021-03-01T23:10:50.059809Z\", \"duration\": \"0:00:57\", \"iteration\": \"22\", \"goal\": \"normalized_root_mean_squared_error_min\", \"run_name\": \"MinMaxScaler, DecisionTree\", \"run_properties\": \"copy=True, feature_range=(0, 1\", \"primary_metric\": 0.0377937, \"best_metric\": 0.02606423}, {\"run_id\": \"AutoML_a92b16cf-c39d-4c85-ae4e-fbf279c4e01c_23\", \"run_number\": 26, \"metric\": null, \"status\": \"Completed\", \"run_type\": \"azureml.scriptrun\", \"training_percent\": \"100\", \"start_time\": \"2021-03-01T23:11:18.66844Z\", \"end_time\": \"2021-03-01T23:12:02.186827Z\", \"created_time\": \"2021-03-01T23:11:10.621975Z\", \"created_time_dt\": \"2021-03-01T23:11:10.621975Z\", \"duration\": \"0:00:51\", \"iteration\": \"23\", \"goal\": \"normalized_root_mean_squared_error_min\", \"run_name\": \"StandardScalerWrapper, DecisionTree\", \"run_properties\": \"<azureml.automl.runtime.shared.model_wrappers.StandardScalerWrapper object at 0x7f03c8eb2080\", \"primary_metric\": 0.03729003, \"best_metric\": 0.02606423}, {\"run_id\": \"AutoML_a92b16cf-c39d-4c85-ae4e-fbf279c4e01c_24\", \"run_number\": 27, \"metric\": null, \"status\": \"Completed\", \"run_type\": \"azureml.scriptrun\", \"training_percent\": \"100\", \"start_time\": \"2021-03-01T23:11:32.209794Z\", \"end_time\": \"2021-03-01T23:12:24.161516Z\", \"created_time\": \"2021-03-01T23:11:24.561992Z\", \"created_time_dt\": \"2021-03-01T23:11:24.561992Z\", \"duration\": \"0:00:59\", \"iteration\": \"24\", \"goal\": \"normalized_root_mean_squared_error_min\", \"run_name\": \"StandardScalerWrapper, RandomForest\", \"run_properties\": \"<azureml.automl.runtime.shared.model_wrappers.StandardScalerWrapper object at 0x7fac92539080\", \"primary_metric\": 0.06799446, \"best_metric\": 0.02606423}, {\"run_id\": \"AutoML_a92b16cf-c39d-4c85-ae4e-fbf279c4e01c_25\", \"run_number\": 28, \"metric\": null, \"status\": \"Completed\", \"run_type\": \"azureml.scriptrun\", \"training_percent\": \"100\", \"start_time\": \"2021-03-01T23:11:40.081385Z\", \"end_time\": \"2021-03-01T23:12:28.384159Z\", \"created_time\": \"2021-03-01T23:11:28.192272Z\", \"created_time_dt\": \"2021-03-01T23:11:28.192272Z\", \"duration\": \"0:01:00\", \"iteration\": \"25\", \"goal\": \"normalized_root_mean_squared_error_min\", \"run_name\": \"StandardScalerWrapper, DecisionTree\", \"run_properties\": \"<azureml.automl.runtime.shared.model_wrappers.StandardScalerWrapper object at 0x7f0e048cc320\", \"primary_metric\": 0.08949318, \"best_metric\": 0.02606423}, {\"run_id\": \"AutoML_a92b16cf-c39d-4c85-ae4e-fbf279c4e01c_26\", \"run_number\": 29, \"metric\": null, \"status\": \"Completed\", \"run_type\": \"azureml.scriptrun\", \"training_percent\": \"100\", \"start_time\": \"2021-03-01T23:12:00.625262Z\", \"end_time\": \"2021-03-01T23:12:51.434981Z\", \"created_time\": \"2021-03-01T23:11:49.201837Z\", \"created_time_dt\": \"2021-03-01T23:11:49.201837Z\", \"duration\": \"0:01:02\", \"iteration\": \"26\", \"goal\": \"normalized_root_mean_squared_error_min\", \"run_name\": \"MinMaxScaler, ExtremeRandomTrees\", \"run_properties\": \"copy=True, feature_range=(0, 1\", \"primary_metric\": 0.05263296, \"best_metric\": 0.02606423}, {\"run_id\": \"AutoML_a92b16cf-c39d-4c85-ae4e-fbf279c4e01c_27\", \"run_number\": 30, \"metric\": null, \"status\": \"Completed\", \"run_type\": \"azureml.scriptrun\", \"training_percent\": \"100\", \"start_time\": \"2021-03-01T23:12:11.79743Z\", \"end_time\": \"2021-03-01T23:13:10.8699Z\", \"created_time\": \"2021-03-01T23:12:03.667714Z\", \"created_time_dt\": \"2021-03-01T23:12:03.667714Z\", \"duration\": \"0:01:07\", \"iteration\": \"27\", \"goal\": \"normalized_root_mean_squared_error_min\", \"run_name\": \"MinMaxScaler, RandomForest\", \"run_properties\": \"copy=True, feature_range=(0, 1\", \"primary_metric\": 0.05990679, \"best_metric\": 0.02606423}, {\"run_id\": \"AutoML_a92b16cf-c39d-4c85-ae4e-fbf279c4e01c_28\", \"run_number\": 31, \"metric\": null, \"status\": \"Completed\", \"run_type\": \"azureml.scriptrun\", \"training_percent\": \"100\", \"start_time\": \"2021-03-01T23:12:36.812622Z\", \"end_time\": \"2021-03-01T23:13:27.567904Z\", \"created_time\": \"2021-03-01T23:12:25.705576Z\", \"created_time_dt\": \"2021-03-01T23:12:25.705576Z\", \"duration\": \"0:01:01\", \"iteration\": \"28\", \"goal\": \"normalized_root_mean_squared_error_min\", \"run_name\": \"StandardScalerWrapper, GradientBoosting\", \"run_properties\": \"<azureml.automl.runtime.shared.model_wrappers.StandardScalerWrapper object at 0x7f595052aa20\", \"primary_metric\": 0.05193431, \"best_metric\": 0.02606423}, {\"run_id\": \"AutoML_a92b16cf-c39d-4c85-ae4e-fbf279c4e01c_29\", \"run_number\": 32, \"metric\": null, \"status\": \"Completed\", \"run_type\": \"azureml.scriptrun\", \"training_percent\": \"100\", \"start_time\": \"2021-03-01T23:12:39.68334Z\", \"end_time\": \"2021-03-01T23:13:24.493666Z\", \"created_time\": \"2021-03-01T23:12:30.16156Z\", \"created_time_dt\": \"2021-03-01T23:12:30.16156Z\", \"duration\": \"0:00:54\", \"iteration\": \"29\", \"goal\": \"normalized_root_mean_squared_error_min\", \"run_name\": \"MinMaxScaler, RandomForest\", \"run_properties\": \"copy=True, feature_range=(0, 1\", \"primary_metric\": 0.08142963, \"best_metric\": 0.02606423}, {\"run_id\": \"AutoML_a92b16cf-c39d-4c85-ae4e-fbf279c4e01c_30\", \"run_number\": 33, \"metric\": null, \"status\": \"Completed\", \"run_type\": \"azureml.scriptrun\", \"training_percent\": \"100\", \"start_time\": \"2021-03-01T23:13:04.555796Z\", \"end_time\": \"2021-03-01T23:13:54.428563Z\", \"created_time\": \"2021-03-01T23:12:54.115385Z\", \"created_time_dt\": \"2021-03-01T23:12:54.115385Z\", \"duration\": \"0:01:00\", \"iteration\": \"30\", \"goal\": \"normalized_root_mean_squared_error_min\", \"run_name\": \"StandardScalerWrapper, DecisionTree\", \"run_properties\": \"<azureml.automl.runtime.shared.model_wrappers.StandardScalerWrapper object at 0x7f8d2e5df438\", \"primary_metric\": 0.05488307, \"best_metric\": 0.02606423}, {\"run_id\": \"AutoML_a92b16cf-c39d-4c85-ae4e-fbf279c4e01c_31\", \"run_number\": 34, \"metric\": null, \"status\": \"Completed\", \"run_type\": \"azureml.scriptrun\", \"training_percent\": \"100\", \"start_time\": \"2021-03-01T23:13:23.877263Z\", \"end_time\": \"2021-03-01T23:14:15.504616Z\", \"created_time\": \"2021-03-01T23:13:12.41241Z\", \"created_time_dt\": \"2021-03-01T23:13:12.41241Z\", \"duration\": \"0:01:03\", \"iteration\": \"31\", \"goal\": \"normalized_root_mean_squared_error_min\", \"run_name\": \"StandardScalerWrapper, RandomForest\", \"run_properties\": \"<azureml.automl.runtime.shared.model_wrappers.StandardScalerWrapper object at 0x7fa8885a5320\", \"primary_metric\": 0.07921739, \"best_metric\": 0.02606423}, {\"run_id\": \"AutoML_a92b16cf-c39d-4c85-ae4e-fbf279c4e01c_32\", \"run_number\": 35, \"metric\": null, \"status\": \"Canceled\", \"run_type\": \"azureml.scriptrun\", \"training_percent\": \"100\", \"start_time\": \"2021-03-01T23:13:39.345666Z\", \"end_time\": \"2021-03-01T23:14:29.881502Z\", \"created_time\": \"2021-03-01T23:13:25.960876Z\", \"created_time_dt\": \"2021-03-01T23:13:25.960876Z\", \"duration\": \"0:01:03\", \"iteration\": \"32\", \"goal\": \"normalized_root_mean_squared_error_min\", \"run_name\": \"MinMaxScaler, RandomForest\", \"run_properties\": \"copy=True, feature_range=(0, 1\", \"primary_metric\": 0.06224695, \"best_metric\": 0.02606423}, {\"run_id\": \"AutoML_a92b16cf-c39d-4c85-ae4e-fbf279c4e01c_33\", \"run_number\": 36, \"metric\": null, \"status\": \"Completed\", \"run_type\": \"azureml.scriptrun\", \"training_percent\": \"100\", \"start_time\": \"2021-03-01T23:13:39.764677Z\", \"end_time\": \"2021-03-01T23:14:27.67741Z\", \"created_time\": \"2021-03-01T23:13:29.89449Z\", \"created_time_dt\": \"2021-03-01T23:13:29.89449Z\", \"duration\": \"0:00:57\", \"iteration\": \"33\", \"goal\": \"normalized_root_mean_squared_error_min\", \"run_name\": \"MinMaxScaler, ExtremeRandomTrees\", \"run_properties\": \"copy=True, feature_range=(0, 1\", \"primary_metric\": 0.05560803, \"best_metric\": 0.02606423}, {\"run_id\": \"AutoML_a92b16cf-c39d-4c85-ae4e-fbf279c4e01c_34\", \"run_number\": 37, \"metric\": null, \"status\": \"Canceled\", \"run_type\": \"azureml.scriptrun\", \"training_percent\": \"100\", \"start_time\": \"2021-03-01T23:14:05.39112Z\", \"end_time\": \"2021-03-01T23:14:34.431748Z\", \"created_time\": \"2021-03-01T23:13:56.147877Z\", \"created_time_dt\": \"2021-03-01T23:13:56.147877Z\", \"duration\": \"0:00:38\", \"iteration\": \"34\", \"goal\": \"normalized_root_mean_squared_error_min\", \"run_name\": \"MaxAbsScaler, RandomForest\", \"run_properties\": \"copy=True\", \"primary_metric\": 0.08920308, \"best_metric\": 0.02606423}, {\"run_id\": \"AutoML_a92b16cf-c39d-4c85-ae4e-fbf279c4e01c_35\", \"run_number\": 38, \"metric\": null, \"status\": \"Canceled\", \"run_type\": \"azureml.scriptrun\", \"training_percent\": \"100\", \"start_time\": \"2021-03-01T23:14:27.342194Z\", \"end_time\": \"2021-03-01T23:14:35.123389Z\", \"created_time\": \"2021-03-01T23:14:18.114477Z\", \"created_time_dt\": \"2021-03-01T23:14:18.114477Z\", \"duration\": \"0:00:17\", \"iteration\": \"35\", \"goal\": null, \"run_name\": \"Canceled\", \"run_properties\": null}, {\"run_id\": \"AutoML_a92b16cf-c39d-4c85-ae4e-fbf279c4e01c_36\", \"run_number\": 39, \"metric\": null, \"status\": \"Completed\", \"run_type\": \"azureml.scriptrun\", \"training_percent\": \"100\", \"start_time\": \"2021-03-01T23:14:47.487197Z\", \"end_time\": \"2021-03-01T23:15:59.5878Z\", \"created_time\": \"2021-03-01T23:14:35.758241Z\", \"created_time_dt\": \"2021-03-01T23:14:35.758241Z\", \"duration\": \"0:01:23\", \"iteration\": \"36\", \"goal\": \"normalized_root_mean_squared_error_min\", \"run_name\": \"VotingEnsemble\", \"run_properties\": \"estimators=[('10',\\n                                          Pipeline(memory=None,\\n                                                   steps=[('standardscalerwrapper',\\n                                                           <azureml.automl.runtime.shared.model_wrappers.StandardScalerWrapper object at 0x7f2fedd41240>\", \"primary_metric\": 0.02472812, \"best_metric\": 0.02472812}], \"children_metrics\": {\"categories\": [0], \"series\": {\"explained_variance\": [{\"categories\": [\"0\", \"1\", \"2\", \"3\", \"4\", \"5\", \"6\", \"7\", \"8\", \"9\", \"10\", \"11\", \"12\", \"13\", \"14\", \"15\", \"16\", \"17\", \"18\", \"19\", \"20\", \"21\", \"22\", \"23\", \"24\", \"25\", \"26\", \"27\", \"28\", \"29\", \"30\", \"31\", \"32\", \"33\", \"34\", \"36\"], \"mode\": \"markers\", \"name\": \"explained_variance\", \"stepped\": false, \"type\": \"scatter\", \"data\": [1.0, 1.0, 1.0, 1.0, 1.0, 1.0, 1.0, 1.0, 1.0, 1.0, 1.0, 1.0, 1.0, 1.0, 1.0, 1.0, 1.0, 1.0, 1.0, 1.0, 1.0, 1.0, 1.0, 1.0, 1.0, 1.0, 1.0, 1.0, 1.0, 1.0, 1.0, 1.0, 1.0, 1.0, 1.0, 1.0]}, {\"categories\": [\"0\", \"1\", \"2\", \"3\", \"4\", \"5\", \"6\", \"7\", \"8\", \"9\", \"10\", \"11\", \"12\", \"13\", \"14\", \"15\", \"16\", \"17\", \"18\", \"19\", \"20\", \"21\", \"22\", \"23\", \"24\", \"25\", \"26\", \"27\", \"28\", \"29\", \"30\", \"31\", \"32\", \"33\", \"34\", \"36\"], \"mode\": \"lines\", \"name\": \"explained_variance_max\", \"stepped\": true, \"type\": \"scatter\", \"data\": [1.0, 1.0, 1.0, 1.0, 1.0, 1.0, 1.0, 1.0, 1.0, 1.0, 1.0, 1.0, 1.0, 1.0, 1.0, 1.0, 1.0, 1.0, 1.0, 1.0, 1.0, 1.0, 1.0, 1.0, 1.0, 1.0, 1.0, 1.0, 1.0, 1.0, 1.0, 1.0, 1.0, 1.0, 1.0, 1.0]}], \"r2_score\": [{\"categories\": [\"0\", \"1\", \"2\", \"3\", \"4\", \"5\", \"6\", \"7\", \"8\", \"9\", \"10\", \"11\", \"12\", \"13\", \"14\", \"15\", \"16\", \"17\", \"18\", \"19\", \"20\", \"21\", \"22\", \"23\", \"24\", \"25\", \"26\", \"27\", \"28\", \"29\", \"30\", \"31\", \"32\", \"33\", \"34\", \"36\"], \"mode\": \"markers\", \"name\": \"r2_score\", \"stepped\": false, \"type\": \"scatter\", \"data\": [0.0, 0.0, 0.0, 0.0, 0.0, 0.0, 0.0, 0.0, 0.0, 0.0, 0.0, 0.0, 0.0, 0.0, 0.0, 0.0, 0.0, 0.0, 0.0, 0.0, 0.0, 0.0, 0.0, 0.0, 0.0, 0.0, 0.0, 0.0, 0.0, 0.0, 0.0, 0.0, 0.0, 0.0, 0.0, 0.0]}, {\"categories\": [\"0\", \"1\", \"2\", \"3\", \"4\", \"5\", \"6\", \"7\", \"8\", \"9\", \"10\", \"11\", \"12\", \"13\", \"14\", \"15\", \"16\", \"17\", \"18\", \"19\", \"20\", \"21\", \"22\", \"23\", \"24\", \"25\", \"26\", \"27\", \"28\", \"29\", \"30\", \"31\", \"32\", \"33\", \"34\", \"36\"], \"mode\": \"lines\", \"name\": \"r2_score_max\", \"stepped\": true, \"type\": \"scatter\", \"data\": [0.0, 0.0, 0.0, 0.0, 0.0, 0.0, 0.0, 0.0, 0.0, 0.0, 0.0, 0.0, 0.0, 0.0, 0.0, 0.0, 0.0, 0.0, 0.0, 0.0, 0.0, 0.0, 0.0, 0.0, 0.0, 0.0, 0.0, 0.0, 0.0, 0.0, 0.0, 0.0, 0.0, 0.0, 0.0, 0.0]}], \"median_absolute_error\": [{\"categories\": [\"0\", \"1\", \"2\", \"3\", \"4\", \"5\", \"6\", \"7\", \"8\", \"9\", \"10\", \"11\", \"12\", \"13\", \"14\", \"15\", \"16\", \"17\", \"18\", \"19\", \"20\", \"21\", \"22\", \"23\", \"24\", \"25\", \"26\", \"27\", \"28\", \"29\", \"30\", \"31\", \"32\", \"33\", \"34\", \"36\"], \"mode\": \"markers\", \"name\": \"median_absolute_error\", \"stepped\": false, \"type\": \"scatter\", \"data\": [287924.6870800917, 337923.2230469497, 587954.3930266381, 102295.63333333339, 210736.842857143, 131239.0, 579036.3106662392, 240677.93968253964, 593973.4231754994, 229220.60638694622, 91730.8, 131239.0, 603929.491107214, 207966.57, 251964.5688095237, 165957.64666666678, 207966.57, 131239.0, 207966.57, 210736.842857143, 207966.57, 587954.2648964882, 133011.65, 131239.0, 239300.6000000001, 314963.4666666668, 185237.11374185272, 210836.7379999999, 182778.2734797232, 286584.48895814165, 193156.19606871242, 278798.71613809495, 219072.7119999999, 195707.63465397796, 313942.4856046784, 87028.4616923077]}, {\"categories\": [\"0\", \"1\", \"2\", \"3\", \"4\", \"5\", \"6\", \"7\", \"8\", \"9\", \"10\", \"11\", \"12\", \"13\", \"14\", \"15\", \"16\", \"17\", \"18\", \"19\", \"20\", \"21\", \"22\", \"23\", \"24\", \"25\", \"26\", \"27\", \"28\", \"29\", \"30\", \"31\", \"32\", \"33\", \"34\", \"36\"], \"mode\": \"lines\", \"name\": \"median_absolute_error_min\", \"stepped\": true, \"type\": \"scatter\", \"data\": [287924.6870800917, 287924.6870800917, 287924.6870800917, 102295.63333333339, 102295.63333333339, 102295.63333333339, 102295.63333333339, 102295.63333333339, 102295.63333333339, 102295.63333333339, 91730.8, 91730.8, 91730.8, 91730.8, 91730.8, 91730.8, 91730.8, 91730.8, 91730.8, 91730.8, 91730.8, 91730.8, 91730.8, 91730.8, 91730.8, 91730.8, 91730.8, 91730.8, 91730.8, 91730.8, 91730.8, 91730.8, 91730.8, 91730.8, 91730.8, 87028.4616923077]}], \"spearman_correlation\": [{\"categories\": [\"0\", \"1\", \"2\", \"3\", \"4\", \"5\", \"6\", \"7\", \"8\", \"9\", \"10\", \"11\", \"12\", \"13\", \"14\", \"15\", \"16\", \"17\", \"18\", \"19\", \"20\", \"21\", \"22\", \"23\", \"24\", \"25\", \"26\", \"27\", \"28\", \"29\", \"30\", \"31\", \"32\", \"33\", \"34\", \"36\"], \"mode\": \"markers\", \"name\": \"spearman_correlation\", \"stepped\": false, \"type\": \"scatter\", \"data\": [-1.0, -1.0, -1.0, -1.0, -1.0, -1.0, -1.0, -1.0, -1.0, -1.0, -1.0, -1.0, -1.0, -1.0, -1.0, -1.0, -1.0, -1.0, -1.0, -1.0, -1.0, -1.0, -1.0, -1.0, -1.0, -1.0, -1.0, -1.0, -1.0, -1.0, -1.0, -1.0, -1.0, -1.0, -1.0, -1.0]}, {\"categories\": [\"0\", \"1\", \"2\", \"3\", \"4\", \"5\", \"6\", \"7\", \"8\", \"9\", \"10\", \"11\", \"12\", \"13\", \"14\", \"15\", \"16\", \"17\", \"18\", \"19\", \"20\", \"21\", \"22\", \"23\", \"24\", \"25\", \"26\", \"27\", \"28\", \"29\", \"30\", \"31\", \"32\", \"33\", \"34\", \"36\"], \"mode\": \"lines\", \"name\": \"spearman_correlation_max\", \"stepped\": true, \"type\": \"scatter\", \"data\": [-1.0, -1.0, -1.0, -1.0, -1.0, -1.0, -1.0, -1.0, -1.0, -1.0, -1.0, -1.0, -1.0, -1.0, -1.0, -1.0, -1.0, -1.0, -1.0, -1.0, -1.0, -1.0, -1.0, -1.0, -1.0, -1.0, -1.0, -1.0, -1.0, -1.0, -1.0, -1.0, -1.0, -1.0, -1.0, -1.0]}], \"normalized_root_mean_squared_error\": [{\"categories\": [\"0\", \"1\", \"2\", \"3\", \"4\", \"5\", \"6\", \"7\", \"8\", \"9\", \"10\", \"11\", \"12\", \"13\", \"14\", \"15\", \"16\", \"17\", \"18\", \"19\", \"20\", \"21\", \"22\", \"23\", \"24\", \"25\", \"26\", \"27\", \"28\", \"29\", \"30\", \"31\", \"32\", \"33\", \"34\", \"36\"], \"mode\": \"markers\", \"name\": \"normalized_root_mean_squared_error\", \"stepped\": false, \"type\": \"scatter\", \"data\": [0.0818104289209853, 0.09601692755210875, 0.16706035723191284, 0.029066106573264743, 0.05987840667098263, 0.037290025353659835, 0.16452638853872484, 0.0683858187949353, 0.16877059418019408, 0.06513035167709678, 0.02606423287065201, 0.037290025353659835, 0.17159949432113084, 0.05909126607192734, 0.07159278232180302, 0.04715492233127137, 0.05909126607192734, 0.037290025353659835, 0.05909126607192734, 0.05987840667098263, 0.05909126607192734, 0.16706032082523087, 0.03779370309764725, 0.037290025353659835, 0.0679944638495113, 0.08949318158075417, 0.052632957184011286, 0.059906790706291055, 0.0519343065106946, 0.08142962731516354, 0.0548830717135819, 0.0792173911212168, 0.06224694629473719, 0.05560803311631172, 0.08920308176524847, 0.024728118493711225]}, {\"categories\": [\"0\", \"1\", \"2\", \"3\", \"4\", \"5\", \"6\", \"7\", \"8\", \"9\", \"10\", \"11\", \"12\", \"13\", \"14\", \"15\", \"16\", \"17\", \"18\", \"19\", \"20\", \"21\", \"22\", \"23\", \"24\", \"25\", \"26\", \"27\", \"28\", \"29\", \"30\", \"31\", \"32\", \"33\", \"34\", \"36\"], \"mode\": \"lines\", \"name\": \"normalized_root_mean_squared_error_min\", \"stepped\": true, \"type\": \"scatter\", \"data\": [0.0818104289209853, 0.0818104289209853, 0.0818104289209853, 0.029066106573264743, 0.029066106573264743, 0.029066106573264743, 0.029066106573264743, 0.029066106573264743, 0.029066106573264743, 0.029066106573264743, 0.02606423287065201, 0.02606423287065201, 0.02606423287065201, 0.02606423287065201, 0.02606423287065201, 0.02606423287065201, 0.02606423287065201, 0.02606423287065201, 0.02606423287065201, 0.02606423287065201, 0.02606423287065201, 0.02606423287065201, 0.02606423287065201, 0.02606423287065201, 0.02606423287065201, 0.02606423287065201, 0.02606423287065201, 0.02606423287065201, 0.02606423287065201, 0.02606423287065201, 0.02606423287065201, 0.02606423287065201, 0.02606423287065201, 0.02606423287065201, 0.02606423287065201, 0.024728118493711225]}], \"normalized_root_mean_squared_log_error\": [{\"categories\": [\"0\", \"1\", \"2\", \"3\", \"4\", \"5\", \"6\", \"7\", \"8\", \"9\", \"10\", \"11\", \"12\", \"13\", \"14\", \"15\", \"16\", \"17\", \"18\", \"19\", \"20\", \"21\", \"22\", \"23\", \"24\", \"25\", \"26\", \"27\", \"28\", \"29\", \"30\", \"31\", \"32\", \"33\", \"34\", \"36\"], \"mode\": \"markers\", \"name\": \"normalized_root_mean_squared_log_error\", \"stepped\": false, \"type\": \"scatter\", \"data\": [0.07078496229110409, 0.08053971952902007, 0.13619230085586684, 0.02456722971168136, 0.05212687897910177, 0.03135533548659301, 0.134647153384587, 0.06024762369662793, 0.13782169793615412, 0.05725234402250051, 0.022142930019309226, 0.03135533548659301, 0.1399224211627974, 0.05151351378428918, 0.06285825371945344, 0.039764342388786664, 0.05151351378428918, 0.03135533548659301, 0.05151351378428918, 0.05212687897910177, 0.05151351378428918, 0.1361922701666504, 0.03176613405375965, 0.03135533548659301, 0.05779431985401592, 0.08331389457253771, 0.04476576464968394, 0.053310289173857536, 0.04492823124318396, 0.0714007754648868, 0.047809502331947154, 0.06902269868285969, 0.05229567334598796, 0.04855365732910251, 0.07690398805920846, 0.020865124600768042]}, {\"categories\": [\"0\", \"1\", \"2\", \"3\", \"4\", \"5\", \"6\", \"7\", \"8\", \"9\", \"10\", \"11\", \"12\", \"13\", \"14\", \"15\", \"16\", \"17\", \"18\", \"19\", \"20\", \"21\", \"22\", \"23\", \"24\", \"25\", \"26\", \"27\", \"28\", \"29\", \"30\", \"31\", \"32\", \"33\", \"34\", \"36\"], \"mode\": \"lines\", \"name\": \"normalized_root_mean_squared_log_error_min\", \"stepped\": true, \"type\": \"scatter\", \"data\": [0.07078496229110409, 0.07078496229110409, 0.07078496229110409, 0.02456722971168136, 0.02456722971168136, 0.02456722971168136, 0.02456722971168136, 0.02456722971168136, 0.02456722971168136, 0.02456722971168136, 0.022142930019309226, 0.022142930019309226, 0.022142930019309226, 0.022142930019309226, 0.022142930019309226, 0.022142930019309226, 0.022142930019309226, 0.022142930019309226, 0.022142930019309226, 0.022142930019309226, 0.022142930019309226, 0.022142930019309226, 0.022142930019309226, 0.022142930019309226, 0.022142930019309226, 0.022142930019309226, 0.022142930019309226, 0.022142930019309226, 0.022142930019309226, 0.022142930019309226, 0.022142930019309226, 0.022142930019309226, 0.022142930019309226, 0.022142930019309226, 0.022142930019309226, 0.020865124600768042]}], \"root_mean_squared_log_error\": [{\"categories\": [\"0\", \"1\", \"2\", \"3\", \"4\", \"5\", \"6\", \"7\", \"8\", \"9\", \"10\", \"11\", \"12\", \"13\", \"14\", \"15\", \"16\", \"17\", \"18\", \"19\", \"20\", \"21\", \"22\", \"23\", \"24\", \"25\", \"26\", \"27\", \"28\", \"29\", \"30\", \"31\", \"32\", \"33\", \"34\", \"36\"], \"mode\": \"markers\", \"name\": \"root_mean_squared_log_error\", \"stepped\": false, \"type\": \"scatter\", \"data\": [0.06717598942071987, 0.07643340014478106, 0.12924853337990677, 0.023314668960637518, 0.04946918889967904, 0.02975668301225056, 0.127782165286677, 0.057175897267897825, 0.13079485561396248, 0.05433333199430486, 0.021013972241782142, 0.02975668301225056, 0.1327884734203618, 0.04888709614291074, 0.05965342426118099, 0.037736956511266226, 0.04888709614291074, 0.02975668301225056, 0.04888709614291074, 0.04946918889967904, 0.04888709614291074, 0.12924850425538068, 0.03014653700537053, 0.02975668301225056, 0.05484767517604503, 0.07906613381225362, 0.04248338114740413, 0.05059226289944121, 0.04263756437803572, 0.06776040534619625, 0.0453719337965147, 0.06550357486157807, 0.04962937728203052, 0.04607814803465615, 0.07298303652449363, 0.019801315760810213]}, {\"categories\": [\"0\", \"1\", \"2\", \"3\", \"4\", \"5\", \"6\", \"7\", \"8\", \"9\", \"10\", \"11\", \"12\", \"13\", \"14\", \"15\", \"16\", \"17\", \"18\", \"19\", \"20\", \"21\", \"22\", \"23\", \"24\", \"25\", \"26\", \"27\", \"28\", \"29\", \"30\", \"31\", \"32\", \"33\", \"34\", \"36\"], \"mode\": \"lines\", \"name\": \"root_mean_squared_log_error_min\", \"stepped\": true, \"type\": \"scatter\", \"data\": [0.06717598942071987, 0.06717598942071987, 0.06717598942071987, 0.023314668960637518, 0.023314668960637518, 0.023314668960637518, 0.023314668960637518, 0.023314668960637518, 0.023314668960637518, 0.023314668960637518, 0.021013972241782142, 0.021013972241782142, 0.021013972241782142, 0.021013972241782142, 0.021013972241782142, 0.021013972241782142, 0.021013972241782142, 0.021013972241782142, 0.021013972241782142, 0.021013972241782142, 0.021013972241782142, 0.021013972241782142, 0.021013972241782142, 0.021013972241782142, 0.021013972241782142, 0.021013972241782142, 0.021013972241782142, 0.021013972241782142, 0.021013972241782142, 0.021013972241782142, 0.021013972241782142, 0.021013972241782142, 0.021013972241782142, 0.021013972241782142, 0.021013972241782142, 0.019801315760810213]}], \"normalized_mean_absolute_error\": [{\"categories\": [\"0\", \"1\", \"2\", \"3\", \"4\", \"5\", \"6\", \"7\", \"8\", \"9\", \"10\", \"11\", \"12\", \"13\", \"14\", \"15\", \"16\", \"17\", \"18\", \"19\", \"20\", \"21\", \"22\", \"23\", \"24\", \"25\", \"26\", \"27\", \"28\", \"29\", \"30\", \"31\", \"32\", \"33\", \"34\", \"36\"], \"mode\": \"markers\", \"name\": \"normalized_mean_absolute_error\", \"stepped\": false, \"type\": \"scatter\", \"data\": [0.0818104289209853, 0.09601692755210875, 0.16706035723191284, 0.029066106573264743, 0.05987840667098263, 0.037290025353659835, 0.16452638853872484, 0.0683858187949353, 0.16877059418019408, 0.06513035167709678, 0.02606423287065201, 0.037290025353659835, 0.17159949432113084, 0.05909126607192734, 0.07159278232180302, 0.04715492233127137, 0.05909126607192734, 0.037290025353659835, 0.05909126607192734, 0.05987840667098263, 0.05909126607192734, 0.16706032082523087, 0.03779370309764725, 0.037290025353659835, 0.0679944638495113, 0.08949318158075417, 0.052632957184011286, 0.059906790706291055, 0.0519343065106946, 0.08142962731516354, 0.0548830717135819, 0.0792173911212168, 0.06224694629473719, 0.05560803311631172, 0.08920308176524847, 0.024728118493711225]}, {\"categories\": [\"0\", \"1\", \"2\", \"3\", \"4\", \"5\", \"6\", \"7\", \"8\", \"9\", \"10\", \"11\", \"12\", \"13\", \"14\", \"15\", \"16\", \"17\", \"18\", \"19\", \"20\", \"21\", \"22\", \"23\", \"24\", \"25\", \"26\", \"27\", \"28\", \"29\", \"30\", \"31\", \"32\", \"33\", \"34\", \"36\"], \"mode\": \"lines\", \"name\": \"normalized_mean_absolute_error_min\", \"stepped\": true, \"type\": \"scatter\", \"data\": [0.0818104289209853, 0.0818104289209853, 0.0818104289209853, 0.029066106573264743, 0.029066106573264743, 0.029066106573264743, 0.029066106573264743, 0.029066106573264743, 0.029066106573264743, 0.029066106573264743, 0.02606423287065201, 0.02606423287065201, 0.02606423287065201, 0.02606423287065201, 0.02606423287065201, 0.02606423287065201, 0.02606423287065201, 0.02606423287065201, 0.02606423287065201, 0.02606423287065201, 0.02606423287065201, 0.02606423287065201, 0.02606423287065201, 0.02606423287065201, 0.02606423287065201, 0.02606423287065201, 0.02606423287065201, 0.02606423287065201, 0.02606423287065201, 0.02606423287065201, 0.02606423287065201, 0.02606423287065201, 0.02606423287065201, 0.02606423287065201, 0.02606423287065201, 0.024728118493711225]}], \"mean_absolute_percentage_error\": [{\"categories\": [\"0\", \"1\", \"2\", \"3\", \"4\", \"5\", \"6\", \"7\", \"8\", \"9\", \"10\", \"11\", \"12\", \"13\", \"14\", \"15\", \"16\", \"17\", \"18\", \"19\", \"20\", \"21\", \"22\", \"23\", \"24\", \"25\", \"26\", \"27\", \"28\", \"29\", \"30\", \"31\", \"32\", \"33\", \"34\", \"36\"], \"mode\": \"markers\", \"name\": \"mean_absolute_percentage_error\", \"stepped\": false, \"type\": \"scatter\", \"data\": [6.720968036700846, 8.018203311256439, 13.98492991037422, 2.3375884656479555, 4.990156434860077, 2.9506665362455466, 13.90458604669264, 5.55338880708539, 14.248797635557105, 5.209835904903635, 2.1138042835664486, 2.9506665362455466, 14.474970899358363, 4.908608760461485, 5.9300724297492975, 3.747156965348818, 4.908608760461485, 2.9506665362455466, 4.908608760461485, 4.990156434860077, 4.908608760461485, 13.98492594801488, 2.9912263121777527, 2.9506665362455466, 5.352515929844664, 7.480037959802719, 4.102593525197712, 4.886120502182436, 4.338761269802825, 6.459868968361309, 4.675598967076174, 6.2835297752537915, 4.830635813212284, 4.583374768000165, 7.002883582606205, 1.9684467658286233]}, {\"categories\": [\"0\", \"1\", \"2\", \"3\", \"4\", \"5\", \"6\", \"7\", \"8\", \"9\", \"10\", \"11\", \"12\", \"13\", \"14\", \"15\", \"16\", \"17\", \"18\", \"19\", \"20\", \"21\", \"22\", \"23\", \"24\", \"25\", \"26\", \"27\", \"28\", \"29\", \"30\", \"31\", \"32\", \"33\", \"34\", \"36\"], \"mode\": \"lines\", \"name\": \"mean_absolute_percentage_error_min\", \"stepped\": true, \"type\": \"scatter\", \"data\": [6.720968036700846, 6.720968036700846, 6.720968036700846, 2.3375884656479555, 2.3375884656479555, 2.3375884656479555, 2.3375884656479555, 2.3375884656479555, 2.3375884656479555, 2.3375884656479555, 2.1138042835664486, 2.1138042835664486, 2.1138042835664486, 2.1138042835664486, 2.1138042835664486, 2.1138042835664486, 2.1138042835664486, 2.1138042835664486, 2.1138042835664486, 2.1138042835664486, 2.1138042835664486, 2.1138042835664486, 2.1138042835664486, 2.1138042835664486, 2.1138042835664486, 2.1138042835664486, 2.1138042835664486, 2.1138042835664486, 2.1138042835664486, 2.1138042835664486, 2.1138042835664486, 2.1138042835664486, 2.1138042835664486, 2.1138042835664486, 2.1138042835664486, 1.9684467658286233]}], \"normalized_median_absolute_error\": [{\"categories\": [\"0\", \"1\", \"2\", \"3\", \"4\", \"5\", \"6\", \"7\", \"8\", \"9\", \"10\", \"11\", \"12\", \"13\", \"14\", \"15\", \"16\", \"17\", \"18\", \"19\", \"20\", \"21\", \"22\", \"23\", \"24\", \"25\", \"26\", \"27\", \"28\", \"29\", \"30\", \"31\", \"32\", \"33\", \"34\", \"36\"], \"mode\": \"markers\", \"name\": \"normalized_median_absolute_error\", \"stepped\": false, \"type\": \"scatter\", \"data\": [0.0818104289209853, 0.09601692755210875, 0.16706035723191284, 0.029066106573264743, 0.05987840667098263, 0.037290025353659835, 0.16452638853872484, 0.0683858187949353, 0.16877059418019408, 0.06513035167709678, 0.02606423287065201, 0.037290025353659835, 0.17159949432113084, 0.05909126607192734, 0.07159278232180302, 0.04715492233127137, 0.05909126607192734, 0.037290025353659835, 0.05909126607192734, 0.05987840667098263, 0.05909126607192734, 0.16706032082523087, 0.03779370309764725, 0.037290025353659835, 0.0679944638495113, 0.08949318158075417, 0.052632957184011286, 0.059906790706291055, 0.0519343065106946, 0.08142962731516354, 0.0548830717135819, 0.0792173911212168, 0.06224694629473719, 0.05560803311631172, 0.08920308176524847, 0.024728118493711225]}, {\"categories\": [\"0\", \"1\", \"2\", \"3\", \"4\", \"5\", \"6\", \"7\", \"8\", \"9\", \"10\", \"11\", \"12\", \"13\", \"14\", \"15\", \"16\", \"17\", \"18\", \"19\", \"20\", \"21\", \"22\", \"23\", \"24\", \"25\", \"26\", \"27\", \"28\", \"29\", \"30\", \"31\", \"32\", \"33\", \"34\", \"36\"], \"mode\": \"lines\", \"name\": \"normalized_median_absolute_error_min\", \"stepped\": true, \"type\": \"scatter\", \"data\": [0.0818104289209853, 0.0818104289209853, 0.0818104289209853, 0.029066106573264743, 0.029066106573264743, 0.029066106573264743, 0.029066106573264743, 0.029066106573264743, 0.029066106573264743, 0.029066106573264743, 0.02606423287065201, 0.02606423287065201, 0.02606423287065201, 0.02606423287065201, 0.02606423287065201, 0.02606423287065201, 0.02606423287065201, 0.02606423287065201, 0.02606423287065201, 0.02606423287065201, 0.02606423287065201, 0.02606423287065201, 0.02606423287065201, 0.02606423287065201, 0.02606423287065201, 0.02606423287065201, 0.02606423287065201, 0.02606423287065201, 0.02606423287065201, 0.02606423287065201, 0.02606423287065201, 0.02606423287065201, 0.02606423287065201, 0.02606423287065201, 0.02606423287065201, 0.024728118493711225]}], \"root_mean_squared_error\": [{\"categories\": [\"0\", \"1\", \"2\", \"3\", \"4\", \"5\", \"6\", \"7\", \"8\", \"9\", \"10\", \"11\", \"12\", \"13\", \"14\", \"15\", \"16\", \"17\", \"18\", \"19\", \"20\", \"21\", \"22\", \"23\", \"24\", \"25\", \"26\", \"27\", \"28\", \"29\", \"30\", \"31\", \"32\", \"33\", \"34\", \"36\"], \"mode\": \"markers\", \"name\": \"root_mean_squared_error\", \"stepped\": false, \"type\": \"scatter\", \"data\": [287924.6870800917, 337923.2230469497, 587954.3930266381, 102295.63333333339, 210736.842857143, 131239.0, 579036.3106662392, 240677.93968253964, 593973.4231754994, 229220.60638694622, 91730.8, 131239.0, 603929.491107214, 207966.57, 251964.5688095237, 165957.64666666678, 207966.57, 131239.0, 207966.57, 210736.842857143, 207966.57, 587954.2648964882, 133011.65, 131239.0, 239300.6000000001, 314963.4666666668, 185237.11374185272, 210836.7379999999, 182778.2734797232, 286584.48895814165, 193156.19606871242, 278798.71613809495, 219072.7119999999, 195707.63465397796, 313942.4856046784, 87028.4616923077]}, {\"categories\": [\"0\", \"1\", \"2\", \"3\", \"4\", \"5\", \"6\", \"7\", \"8\", \"9\", \"10\", \"11\", \"12\", \"13\", \"14\", \"15\", \"16\", \"17\", \"18\", \"19\", \"20\", \"21\", \"22\", \"23\", \"24\", \"25\", \"26\", \"27\", \"28\", \"29\", \"30\", \"31\", \"32\", \"33\", \"34\", \"36\"], \"mode\": \"lines\", \"name\": \"root_mean_squared_error_min\", \"stepped\": true, \"type\": \"scatter\", \"data\": [287924.6870800917, 287924.6870800917, 287924.6870800917, 102295.63333333339, 102295.63333333339, 102295.63333333339, 102295.63333333339, 102295.63333333339, 102295.63333333339, 102295.63333333339, 91730.8, 91730.8, 91730.8, 91730.8, 91730.8, 91730.8, 91730.8, 91730.8, 91730.8, 91730.8, 91730.8, 91730.8, 91730.8, 91730.8, 91730.8, 91730.8, 91730.8, 91730.8, 91730.8, 91730.8, 91730.8, 91730.8, 91730.8, 91730.8, 91730.8, 87028.4616923077]}], \"mean_absolute_error\": [{\"categories\": [\"0\", \"1\", \"2\", \"3\", \"4\", \"5\", \"6\", \"7\", \"8\", \"9\", \"10\", \"11\", \"12\", \"13\", \"14\", \"15\", \"16\", \"17\", \"18\", \"19\", \"20\", \"21\", \"22\", \"23\", \"24\", \"25\", \"26\", \"27\", \"28\", \"29\", \"30\", \"31\", \"32\", \"33\", \"34\", \"36\"], \"mode\": \"markers\", \"name\": \"mean_absolute_error\", \"stepped\": false, \"type\": \"scatter\", \"data\": [287924.6870800917, 337923.2230469497, 587954.3930266381, 102295.63333333339, 210736.842857143, 131239.0, 579036.3106662392, 240677.93968253964, 593973.4231754994, 229220.60638694622, 91730.8, 131239.0, 603929.491107214, 207966.57, 251964.5688095237, 165957.64666666678, 207966.57, 131239.0, 207966.57, 210736.842857143, 207966.57, 587954.2648964882, 133011.65, 131239.0, 239300.6000000001, 314963.4666666668, 185237.11374185272, 210836.7379999999, 182778.2734797232, 286584.48895814165, 193156.19606871242, 278798.71613809495, 219072.7119999999, 195707.63465397796, 313942.4856046784, 87028.4616923077]}, {\"categories\": [\"0\", \"1\", \"2\", \"3\", \"4\", \"5\", \"6\", \"7\", \"8\", \"9\", \"10\", \"11\", \"12\", \"13\", \"14\", \"15\", \"16\", \"17\", \"18\", \"19\", \"20\", \"21\", \"22\", \"23\", \"24\", \"25\", \"26\", \"27\", \"28\", \"29\", \"30\", \"31\", \"32\", \"33\", \"34\", \"36\"], \"mode\": \"lines\", \"name\": \"mean_absolute_error_min\", \"stepped\": true, \"type\": \"scatter\", \"data\": [287924.6870800917, 287924.6870800917, 287924.6870800917, 102295.63333333339, 102295.63333333339, 102295.63333333339, 102295.63333333339, 102295.63333333339, 102295.63333333339, 102295.63333333339, 91730.8, 91730.8, 91730.8, 91730.8, 91730.8, 91730.8, 91730.8, 91730.8, 91730.8, 91730.8, 91730.8, 91730.8, 91730.8, 91730.8, 91730.8, 91730.8, 91730.8, 91730.8, 91730.8, 91730.8, 91730.8, 91730.8, 91730.8, 91730.8, 91730.8, 87028.4616923077]}]}, \"metricName\": null, \"primaryMetricName\": \"normalized_root_mean_squared_error\", \"showLegend\": false}, \"run_metrics\": [{\"name\": \"experiment_status\", \"run_id\": \"AutoML_a92b16cf-c39d-4c85-ae4e-fbf279c4e01c\", \"categories\": [0, 1, 2, 3, 4, 5, 6, 7, 8, 9, 10, 11, 12, 13, 14, 15, 16, 17, 18, 19, 20, 21], \"series\": [{\"data\": [\"DatasetFeaturization\", \"DatasetFeaturizationCompleted\", \"DatasetCrossValidationSplit\", \"DatasetFeaturization\", \"DatasetFeaturizationCompleted\", \"DatasetFeaturization\", \"DatasetFeaturizationCompleted\", \"DatasetFeaturization\", \"DatasetFeaturizationCompleted\", \"DatasetFeaturization\", \"DatasetFeaturizationCompleted\", \"DatasetFeaturization\", \"DatasetFeaturizationCompleted\", \"ModelSelection\", \"BestRunExplainModel\", \"ModelExplanationDataSetSetup\", \"PickSurrogateModel\", \"EngineeredFeatureExplanations\", \"EngineeredFeatureExplanations\", \"RawFeaturesExplanations\", \"RawFeaturesExplanations\", \"BestRunExplainModel\"]}]}, {\"name\": \"experiment_status_description\", \"run_id\": \"AutoML_a92b16cf-c39d-4c85-ae4e-fbf279c4e01c\", \"categories\": [0, 1, 2, 3, 4, 5, 6, 7, 8, 9, 10, 11, 12, 13, 14, 15, 16, 17, 18, 19, 20, 21], \"series\": [{\"data\": [\"Beginning to featurize the dataset.\", \"Completed featurizing the dataset.\", \"Generating individually featurized CV splits.\", \"Beginning to featurize the CV split.\", \"Completed featurizing the CV split.\", \"Beginning to featurize the CV split.\", \"Completed featurizing the CV split.\", \"Beginning to featurize the CV split.\", \"Completed featurizing the CV split.\", \"Beginning to featurize the CV split.\", \"Completed featurizing the CV split.\", \"Beginning to featurize the CV split.\", \"Completed featurizing the CV split.\", \"Beginning model selection.\", \"Best run model explanations started\", \"Model explanations data setup completed\", \"Choosing LightGBM as the surrogate model for explanations\", \"Computation of engineered features started\", \"Computation of engineered features completed\", \"Computation of raw features started\", \"Computation of raw features completed\", \"Best run model explanations completed\"]}]}, {\"name\": \"r2_score\", \"run_id\": \"AutoML_a92b16cf-c39d-4c85-ae4e-fbf279c4e01c\", \"categories\": [0], \"series\": [{\"data\": [0.0]}]}, {\"name\": \"root_mean_squared_error\", \"run_id\": \"AutoML_a92b16cf-c39d-4c85-ae4e-fbf279c4e01c\", \"categories\": [0], \"series\": [{\"data\": [87028.4616923077]}]}, {\"name\": \"spearman_correlation\", \"run_id\": \"AutoML_a92b16cf-c39d-4c85-ae4e-fbf279c4e01c\", \"categories\": [0], \"series\": [{\"data\": [-1.0]}]}, {\"name\": \"root_mean_squared_log_error\", \"run_id\": \"AutoML_a92b16cf-c39d-4c85-ae4e-fbf279c4e01c\", \"categories\": [0], \"series\": [{\"data\": [0.019801315760810213]}]}, {\"name\": \"mean_absolute_percentage_error\", \"run_id\": \"AutoML_a92b16cf-c39d-4c85-ae4e-fbf279c4e01c\", \"categories\": [0], \"series\": [{\"data\": [1.9684467658286233]}]}, {\"name\": \"normalized_mean_absolute_error\", \"run_id\": \"AutoML_a92b16cf-c39d-4c85-ae4e-fbf279c4e01c\", \"categories\": [0], \"series\": [{\"data\": [0.024728118493711225]}]}, {\"name\": \"mean_absolute_error\", \"run_id\": \"AutoML_a92b16cf-c39d-4c85-ae4e-fbf279c4e01c\", \"categories\": [0], \"series\": [{\"data\": [87028.4616923077]}]}, {\"name\": \"explained_variance\", \"run_id\": \"AutoML_a92b16cf-c39d-4c85-ae4e-fbf279c4e01c\", \"categories\": [0], \"series\": [{\"data\": [1.0]}]}, {\"name\": \"normalized_root_mean_squared_log_error\", \"run_id\": \"AutoML_a92b16cf-c39d-4c85-ae4e-fbf279c4e01c\", \"categories\": [0], \"series\": [{\"data\": [0.020865124600768042]}]}, {\"name\": \"normalized_median_absolute_error\", \"run_id\": \"AutoML_a92b16cf-c39d-4c85-ae4e-fbf279c4e01c\", \"categories\": [0], \"series\": [{\"data\": [0.024728118493711225]}]}, {\"name\": \"median_absolute_error\", \"run_id\": \"AutoML_a92b16cf-c39d-4c85-ae4e-fbf279c4e01c\", \"categories\": [0], \"series\": [{\"data\": [87028.4616923077]}]}, {\"name\": \"normalized_root_mean_squared_error\", \"run_id\": \"AutoML_a92b16cf-c39d-4c85-ae4e-fbf279c4e01c\", \"categories\": [0], \"series\": [{\"data\": [0.024728118493711225]}]}], \"run_logs\": \"\\nRun is completed.\", \"graph\": {}, \"widget_settings\": {\"childWidgetDisplay\": \"popup\", \"send_telemetry\": false, \"log_level\": \"INFO\", \"sdk_version\": \"1.22.0\"}, \"loading\": false}"
     },
     "metadata": {},
     "output_type": "display_data"
    }
   ],
   "source": [
    "RunDetails(run_autoML).show()"
   ]
  },
  {
   "cell_type": "markdown",
   "metadata": {},
   "source": [
    "## Best Model\n",
    "\n",
    "In the cell below, get the best model from the automl experiments and display all the properties of the model.\n"
   ]
  },
  {
   "cell_type": "code",
   "execution_count": 18,
   "metadata": {
    "gather": {
     "logged": 1598431425670
    },
    "jupyter": {
     "outputs_hidden": false,
     "source_hidden": false
    },
    "nteract": {
     "transient": {
      "deleting": false
     }
    }
   },
   "outputs": [
    {
     "name": "stdout",
     "output_type": "stream",
     "text": [
      "AutoML_a92b16cf-c39d-4c85-ae4e-fbf279c4e01c_36\n",
      "MAE of best autoML model = 87028.4616923077 and RMSE = 87028.4616923077\n"
     ]
    }
   ],
   "source": [
    "# Retrieve and save your best automl model.\n",
    "\n",
    "best_run_autoML, fitted_model_autoML = run_autoML.get_output()\n",
    "\n",
    "print(best_run_autoML.id)\n",
    "\n",
    "print('MAE of best autoML model = {} and RMSE = {}'.format(best_run_autoML.get_metrics()['mean_absolute_error'], best_run_autoML.get_metrics()['root_mean_squared_error']))"
   ]
  },
  {
   "cell_type": "code",
   "execution_count": 28,
   "metadata": {},
   "outputs": [
    {
     "data": {
      "text/plain": [
       "('prefittedsoftvotingregressor',\n",
       " PreFittedSoftVotingRegressor(estimators=[('10',\n",
       "                                           Pipeline(memory=None,\n",
       "                                                    steps=[('standardscalerwrapper',\n",
       "                                                            <azureml.automl.runtime.shared.model_wrappers.StandardScalerWrapper object at 0x7f3c947cc128>),\n",
       "                                                           ('decisiontreeregressor',\n",
       "                                                            DecisionTreeRegressor(ccp_alpha=0.0,\n",
       "                                                                                  criterion='friedman_mse',\n",
       "                                                                                  max_depth=None,\n",
       "                                                                                  max_features=0.8,\n",
       "                                                                                  max_leaf_nodes=None,\n",
       "                                                                                  min_impurity_decreas...\n",
       "                                                                                  max_leaf_nodes=None,\n",
       "                                                                                  max_samples=None,\n",
       "                                                                                  min_impurity_decrease=0.0,\n",
       "                                                                                  min_impurity_split=None,\n",
       "                                                                                  min_samples_leaf=0.0023646822772690063,\n",
       "                                                                                  min_samples_split=0.005285388593079247,\n",
       "                                                                                  min_weight_fraction_leaf=0.0,\n",
       "                                                                                  n_estimators=200,\n",
       "                                                                                  n_jobs=1,\n",
       "                                                                                  oob_score=False,\n",
       "                                                                                  random_state=None,\n",
       "                                                                                  verbose=0,\n",
       "                                                                                  warm_start=False))],\n",
       "                                                    verbose=False))],\n",
       "                              weights=[0.7692307692307693, 0.23076923076923078]))"
      ]
     },
     "execution_count": 28,
     "metadata": {},
     "output_type": "execute_result"
    }
   ],
   "source": [
    "fitted_model_autoML.steps[-1]"
   ]
  },
  {
   "cell_type": "code",
   "execution_count": 19,
   "metadata": {
    "gather": {
     "logged": 1598431426111
    },
    "jupyter": {
     "outputs_hidden": false,
     "source_hidden": false
    },
    "nteract": {
     "transient": {
      "deleting": false
     }
    }
   },
   "outputs": [
    {
     "name": "stdout",
     "output_type": "stream",
     "text": [
      "conda_env_v_1_0_0.yml\t\t     model.pkl\r\n",
      "env_dependencies.json\t\t     pipeline_graph.json\r\n",
      "internal_cross_validated_models.pkl  scoring_file_v_1_0_0.py\r\n"
     ]
    }
   ],
   "source": [
    "# Save the best model and print the outputs\n",
    "\n",
    "os.makedirs('outputs/AutoML', exist_ok=True)\n",
    "\n",
    "best_run_autoML.download_files(prefix='./outputs/', output_directory='outputs/AutoML/')\n",
    "\n",
    "!ls ./outputs/AutoML/Outputs\n"
   ]
  },
  {
   "cell_type": "code",
   "execution_count": 20,
   "metadata": {},
   "outputs": [
    {
     "name": "stdout",
     "output_type": "stream",
     "text": [
      "SFOAutoML:1\n"
     ]
    }
   ],
   "source": [
    "# Register the best model or load the last one registered\n",
    "\n",
    "UPDATE_MODEL = True \n",
    "\n",
    "if UPDATE_MODEL:\n",
    "    description = 'Best AutoML Model for Air Traffic Predictions'\n",
    "    model = run_autoML.register_model(description = description, model_name = 'SFOAutoML',\n",
    "                               tags={'area': 'SFO Air Traffic Predictions'})\n",
    "\n",
    "else:\n",
    "    model = Model(ws,'AutoML71b33a45f35')\n",
    "    \n",
    "\n",
    "print(model.id)"
   ]
  },
  {
   "cell_type": "markdown",
   "metadata": {},
   "source": [
    "## Model Deployment\n",
    "\n",
    "The autoML model performed better than the one I got with the hyperdrive DNN notebook so far so I'm going to deploy this version.\n",
    "\n",
    "In the cell below, I will register the model, create an inference config and deploy the model as a web service."
   ]
  },
  {
   "cell_type": "code",
   "execution_count": 21,
   "metadata": {
    "gather": {
     "logged": 1598431435189
    },
    "jupyter": {
     "outputs_hidden": false,
     "source_hidden": false
    },
    "nteract": {
     "transient": {
      "deleting": false
     }
    }
   },
   "outputs": [
    {
     "name": "stdout",
     "output_type": "stream",
     "text": [
      "Tips: You can try get_logs(): https://aka.ms/debugimage#dockerlog or local deployment: https://aka.ms/debugimage#debug-locally to debug if deployment takes longer than 10 minutes.\n",
      "Running............................................................................................."
     ]
    },
    {
     "name": "stderr",
     "output_type": "stream",
     "text": [
      "WARNING:urllib3.connectionpool:Retrying (Retry(total=2, connect=2, read=3, redirect=None, status=None)) after connection broken by 'NewConnectionError('<urllib3.connection.HTTPSConnection object at 0x7f3c8e54efd0>: Failed to establish a new connection: [Errno 111] Connection refused',)': /history/v1.0/subscriptions/f9d5a085-54dc-4215-9ba6-dad5d86e60a0/resourceGroups/aml-quickstarts-139688/providers/Microsoft.MachineLearningServices/workspaces/quick-starts-ws-139688/experiments/SFO-Traffic-Predictions/runs/AutoML_a92b16cf-c39d-4c85-ae4e-fbf279c4e01c/details\n"
     ]
    },
    {
     "name": "stdout",
     "output_type": "stream",
     "text": [
      ".......................................................................................\n",
      "Succeeded\n",
      "ACI service creation operation finished, operation \"Succeeded\"\n",
      "Healthy\n"
     ]
    }
   ],
   "source": [
    "service_name = 'sfo-prediction-automl'\n",
    "\n",
    "# Create an inference config from the autoML output files\n",
    "inference_config = InferenceConfig(entry_script='scoring_file_v_1_0_0.py',\n",
    "                                  conda_file = 'conda_env_v_1_0_0.yml',\n",
    "                                  source_directory='./outputs/AutoML/Outputs',\n",
    "                                  description='ACI for SFO passengers prediction',\n",
    "                                  runtime='python'\n",
    "                                  )\n",
    "\n",
    "# Create a deployment config with an Azure Container Instance\n",
    "aci_config = AciWebservice.deploy_configuration(cpu_cores=1, memory_gb=1, auth_enabled=True)\n",
    "\n",
    "# Deploy the model and check the deployment status\n",
    "service = Model.deploy(workspace=ws,\n",
    "                      name=service_name,\n",
    "                      models=[model],\n",
    "                      inference_config=inference_config,\n",
    "                      deployment_config=aci_config\n",
    "                      )\n",
    "\n",
    "service.wait_for_deployment(show_output=True)\n",
    "print(service.state)"
   ]
  },
  {
   "cell_type": "markdown",
   "metadata": {
    "collapsed": true,
    "gather": {
     "logged": 1598431657736
    },
    "jupyter": {
     "outputs_hidden": false,
     "source_hidden": false
    },
    "nteract": {
     "transient": {
      "deleting": false
     }
    }
   },
   "source": [
    "In the cell below, we send a request to the web service you deployed to test it."
   ]
  },
  {
   "cell_type": "code",
   "execution_count": 22,
   "metadata": {
    "gather": {
     "logged": 1598432707604
    },
    "jupyter": {
     "outputs_hidden": false,
     "source_hidden": false
    },
    "nteract": {
     "transient": {
      "deleting": false
     }
    }
   },
   "outputs": [
    {
     "name": "stdout",
     "output_type": "stream",
     "text": [
      "For March 2020, the SFO passenger predictions is 4549574.716923077\n"
     ]
    }
   ],
   "source": [
    "# This code is based on the sample code to consume the endpoint provided by Azure ML\n",
    "\n",
    "def allowSelfSignedHttps(allowed):\n",
    "    # bypass the server certificate verification on client side\n",
    "    if allowed and not os.environ.get('PYTHONHTTPSVERIFY', '') and getattr(ssl, '_create_unverified_context', None):\n",
    "        ssl._create_default_https_context = ssl._create_unverified_context\n",
    "\n",
    "allowSelfSignedHttps(True) # this line is needed if you use self-signed certificate in your scoring service.\n",
    "\n",
    "data = {\n",
    "    \"data\":\n",
    "    [\n",
    "        {\n",
    "            'date': \"2020-03-01 00:00:00,000000\",\n",
    "        },\n",
    "        {\n",
    "            'date': \"2020-04-01 00:00:00,000000\",\n",
    "        },\n",
    "        {\n",
    "            'date': \"2020-05-01 00:00:00,000000\",\n",
    "        },\n",
    "        {\n",
    "            'date': \"2020-06-01 00:00:00,000000\",\n",
    "        },\n",
    "        {\n",
    "            'date': \"2020-07-01 00:00:00,000000\",\n",
    "        },\n",
    "        {\n",
    "            'date': \"2020-08-01 00:00:00,000000\",\n",
    "        },\n",
    "        {\n",
    "            'date': \"2020-09-01 00:00:00,000000\",\n",
    "        }\n",
    "    ],\n",
    "}\n",
    "\n",
    "body = str.encode(json.dumps(data))\n",
    "\n",
    "url = service.scoring_uri\n",
    "api_key, api_key_secondary = service.get_keys() # Replace this with the API key for the web service\n",
    "headers = {'Content-Type':'application/json', 'Authorization':('Bearer '+ api_key)}\n",
    "\n",
    "req = urllib.request.Request(url, body, headers)\n",
    "\n",
    "try:\n",
    "    response = urllib.request.urlopen(req)\n",
    "\n",
    "    result = response.read()\n",
    "#     print(result)\n",
    "    y = json.loads(json.loads(result))\n",
    "    print('For March 2020, the SFO passenger predictions is {}'.format(y['forecast'][0]))\n",
    "    \n",
    "except urllib.error.HTTPError as error:\n",
    "    print(\"The request failed with status code: \" + str(error.code))\n",
    "\n",
    "    # Print the headers - they include the requert ID and the timestamp, which are useful for debugging the failure\n",
    "    print(error.info())\n",
    "    print(json.loads(error.read().decode(\"utf8\", 'ignore')))\n"
   ]
  },
  {
   "cell_type": "code",
   "execution_count": 23,
   "metadata": {},
   "outputs": [
    {
     "name": "stdout",
     "output_type": "stream",
     "text": [
      "            Passenger Count\n",
      "date                       \n",
      "2020-02-01          3742224\n",
      "            Passenger Count\n",
      "2020-02-01       3742224.00\n",
      "2020-03-01       4549574.72\n",
      "2020-04-01       4657438.60\n",
      "2020-05-01       4962903.76\n",
      "2020-06-01       5245136.63\n",
      "2020-07-01       5535507.56\n",
      "2020-08-01       5633351.44\n",
      "2020-09-01       4634678.25\n"
     ]
    }
   ],
   "source": [
    "# plot Actual vs Predicted to watch the impact of Covid from March to September 2020\n",
    "df_prediction = df_covid.copy()\n",
    "df_prediction.reset_index(inplace=True)\n",
    "split_date ='2020-02-02'\n",
    "df_prediction =df_prediction.loc[df_prediction['date'] <= split_date]\n",
    "df_prediction.set_index('date', inplace=True)\n",
    "print(df_prediction)\n",
    "\n",
    "# Parse the result from the webservice request and create a DataFrame to plot it later\n",
    "for i in range(len(data['data'][:])):\n",
    "#     print(data['data'][i]['date'][:10])\n",
    "    date = pd.to_datetime(data['data'][i]['date'][:10], format = '%Y-%m-%d')\n",
    "#     print(pd.DataFrame({'Passenger Count': y['forecast'][i]}, index=[date]))\n",
    "    df_prediction = df_prediction.append(pd.DataFrame({'Passenger Count': y['forecast'][i]}, index=[date]))\n",
    "\n",
    "df_prediction.sort_index(inplace=True)\n",
    "\n",
    "print(df_prediction)\n"
   ]
  },
  {
   "cell_type": "code",
   "execution_count": 24,
   "metadata": {},
   "outputs": [
    {
     "data": {
      "image/png": "[encoded data removed]",
      "text/plain": [
       "<Figure size 864x360 with 1 Axes>"
      ]
     },
     "metadata": {
      "needs_background": "light"
     },
     "output_type": "display_data"
    }
   ],
   "source": [
    "# We can visualize the drop with a line plot\n",
    "\n",
    "f, ax = plt.subplots(1,1,figsize=(12,5))\n",
    "ax.plot(df_prepared, label='PreCovid')\n",
    "ax.plot(df_covid, label='Covid', color = 'green')\n",
    "ax.plot(df_prediction, label='Predicted', color = 'orange')\n",
    "ax.set_xlabel(\"Date\")\n",
    "ax.set_ylabel(\"Passenger Count\")\n",
    "ax.legend()\n",
    "# plt.grid(True)\n",
    "plt.tight_layout()\n",
    "plt.legend(fontsize=12)\n",
    "sns.despine(top=True)\n"
   ]
  },
  {
   "cell_type": "markdown",
   "metadata": {
    "collapsed": true,
    "gather": {
     "logged": 1598432765711
    },
    "jupyter": {
     "outputs_hidden": false,
     "source_hidden": false
    },
    "nteract": {
     "transient": {
      "deleting": false
     }
    }
   },
   "source": [
    "In the cell below, we print the logs of the web service and delete the service"
   ]
  },
  {
   "cell_type": "code",
   "execution_count": 25,
   "metadata": {
    "jupyter": {
     "outputs_hidden": false,
     "source_hidden": false
    },
    "nteract": {
     "transient": {
      "deleting": false
     }
    }
   },
   "outputs": [
    {
     "name": "stdout",
     "output_type": "stream",
     "text": [
      "2021-03-02T01:38:53,870847400+00:00 - gunicorn/run \n",
      "2021-03-02T01:38:53,877967800+00:00 - rsyslog/run \n",
      "rsyslogd: /azureml-envs/azureml_6f3791fe7434448b4ebe2b0fd691d644/lib/libuuid.so.1: no version information available (required by rsyslogd)\n",
      "2021-03-02T01:38:53,911809900+00:00 - iot-server/run \n",
      "2021-03-02T01:38:53,933581800+00:00 - nginx/run \n",
      "/usr/sbin/nginx: /azureml-envs/azureml_6f3791fe7434448b4ebe2b0fd691d644/lib/libcrypto.so.1.0.0: no version information available (required by /usr/sbin/nginx)\n",
      "/usr/sbin/nginx: /azureml-envs/azureml_6f3791fe7434448b4ebe2b0fd691d644/lib/libcrypto.so.1.0.0: no version information available (required by /usr/sbin/nginx)\n",
      "/usr/sbin/nginx: /azureml-envs/azureml_6f3791fe7434448b4ebe2b0fd691d644/lib/libssl.so.1.0.0: no version information available (required by /usr/sbin/nginx)\n",
      "/usr/sbin/nginx: /azureml-envs/azureml_6f3791fe7434448b4ebe2b0fd691d644/lib/libssl.so.1.0.0: no version information available (required by /usr/sbin/nginx)\n",
      "/usr/sbin/nginx: /azureml-envs/azureml_6f3791fe7434448b4ebe2b0fd691d644/lib/libssl.so.1.0.0: no version information available (required by /usr/sbin/nginx)\n",
      "EdgeHubConnectionString and IOTEDGE_IOTHUBHOSTNAME are not set. Exiting...\n",
      "2021-03-02T01:38:54,615770800+00:00 - iot-server/finish 1 0\n",
      "2021-03-02T01:38:54,663639000+00:00 - Exit code 1 is normal. Not restarting iot-server.\n",
      "Starting gunicorn 19.9.0\n",
      "Listening at: http://127.0.0.1:31311 (71)\n",
      "Using worker: sync\n",
      "worker timeout is set to 300\n",
      "Booting worker with pid: 101\n",
      "SPARK_HOME not set. Skipping PySpark Initialization.\n",
      "Generating new fontManager, this may take some time...\n",
      "Initializing logger\n",
      "2021-03-02 01:39:00,003 | root | INFO | Starting up app insights client\n",
      "2021-03-02 01:39:00,005 | root | INFO | Starting up request id generator\n",
      "2021-03-02 01:39:00,006 | root | INFO | Starting up app insight hooks\n",
      "2021-03-02 01:39:00,006 | root | INFO | Invoking user's init function\n",
      "2021-03-02 01:39:07,825 | root | INFO | Users's init has completed successfully\n",
      "2021-03-02 01:39:07,833 | root | INFO | Skipping middleware: dbg_model_info as it's not enabled.\n",
      "2021-03-02 01:39:07,833 | root | INFO | Skipping middleware: dbg_resource_usage as it's not enabled.\n",
      "2021-03-02 01:39:07,838 | root | INFO | Scoring timeout is found from os.environ: 60000 ms\n",
      "2021-03-02 01:39:08,110 | root | INFO | 200\n",
      "127.0.0.1 - - [02/Mar/2021:01:39:08 +0000] \"GET /swagger.json HTTP/1.0\" 200 2003 \"-\" \"Go-http-client/1.1\"\n",
      "2021-03-02 01:39:11,779 | root | INFO | 200\n",
      "127.0.0.1 - - [02/Mar/2021:01:39:11 +0000] \"GET /swagger.json HTTP/1.0\" 200 2003 \"-\" \"Go-http-client/1.1\"\n",
      "2021-03-02 01:40:21,196 | root | INFO | 200\n",
      "127.0.0.1 - - [02/Mar/2021:01:40:21 +0000] \"GET /swagger.json HTTP/1.0\" 200 2003 \"-\" \"Go-http-client/1.1\"\n",
      "2021-03-02 01:40:32,316 | root | INFO | Validation Request Content-Type\n",
      "2021-03-02 01:40:32,317 | root | INFO | Scoring Timer is set to 60.0 seconds\n",
      "2021-03-02 01:40:32,650 | root | INFO | 200\n",
      "127.0.0.1 - - [02/Mar/2021:01:40:32 +0000] \"POST /score HTTP/1.0\" 200 761 \"-\" \"Python-urllib/3.6\"\n",
      "\n"
     ]
    }
   ],
   "source": [
    "# Print the logs\n",
    "\n",
    "print(service.get_logs())"
   ]
  },
  {
   "cell_type": "code",
   "execution_count": 26,
   "metadata": {},
   "outputs": [],
   "source": [
    "# Delete the endpoint\n",
    "\n",
    "service.delete()"
   ]
  },
  {
   "cell_type": "code",
   "execution_count": 27,
   "metadata": {},
   "outputs": [],
   "source": [
    "# Delete the compute\n",
    "\n",
    "compute_target.delete()"
   ]
  },
  {
   "cell_type": "code",
   "execution_count": null,
   "metadata": {},
   "outputs": [],
   "source": []
  }
 ],
 "metadata": {
  "kernel_info": {
   "name": "python3-azureml"
  },
  "kernelspec": {
   "display_name": "Python 3.6 - AzureML",
   "language": "python",
   "name": "python3-azureml"
  },
  "nteract": {
   "version": "nteract-front-end@1.0.0"
  }
 },
 "nbformat": 4,
 "nbformat_minor": 2
}
