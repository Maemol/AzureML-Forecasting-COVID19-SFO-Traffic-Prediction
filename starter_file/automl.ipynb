{
 "cells": [
  {
   "cell_type": "markdown",
   "metadata": {},
   "source": [
    "# Automated ML\n",
    "\n",
    "### Libraries\n"
   ]
  },
  {
   "cell_type": "code",
   "execution_count": 1,
   "metadata": {
    "gather": {
     "logged": 1598423888013
    },
    "jupyter": {
     "outputs_hidden": false,
     "source_hidden": false
    },
    "nteract": {
     "transient": {
      "deleting": false
     }
    }
   },
   "outputs": [],
   "source": [
    "# AzureML\n",
    "from azureml.core import Workspace, Dataset, Experiment, Run\n",
    "from azureml.train.automl import AutoMLConfig\n",
    "from azureml.widgets import RunDetails\n",
    "from azureml.core.compute import AmlCompute, ComputeTarget\n",
    "from azureml.core.compute_target import ComputeTargetException\n",
    "from azureml.train.automl.run import AutoMLRun\n",
    "from azureml.core.model import Model, InferenceConfig\n",
    "from azureml.core.environment import Environment\n",
    "from azureml.core.webservice import AciWebservice\n",
    "\n",
    "# Webservice\n",
    "import urllib.request\n",
    "import json\n",
    "import os\n",
    "import ssl\n",
    "\n",
    "# Data Manipulation\n",
    "import seaborn as sns\n",
    "import pandas as pd\n",
    "import matplotlib.pyplot as plt\n"
   ]
  },
  {
   "cell_type": "markdown",
   "metadata": {},
   "source": [
    "## Dataset\n",
    "\n",
    "### Overview\n",
    "\n",
    "The dataset used for this experiment will be an opensource univariate dataset provided by the San Francisco International Airport (SFO). The dataset contains all informations on Monthly Passenger Traffic at the airport since July 2005.\n",
    "\n",
    "More informations about the dataset can be found here : https://data.sfgov.org/Transportation/Air-Traffic-Passenger-Statistics/rkru-6vcg\n",
    "\n",
    "The main goal of the experiment will be to see the impact of the COVID19 on passenger traffic at SFO. We are going to compare forecast data train on the dataset before Covid and compare it to actual data from march 2020 to September 2020.\n",
    "\n",
    "AutoML forecasting task will be used to try to find the best model to predict the number of passenger."
   ]
  },
  {
   "cell_type": "code",
   "execution_count": 2,
   "metadata": {
    "gather": {
     "logged": 1598423890461
    },
    "jupyter": {
     "outputs_hidden": false,
     "source_hidden": false
    },
    "nteract": {
     "transient": {
      "deleting": false
     }
    }
   },
   "outputs": [],
   "source": [
    "ws = Workspace.from_config()\n",
    "\n",
    "# choose a name for experiment\n",
    "experiment_name = 'SFO-Traffic-Predictions'\n",
    "\n",
    "experiment=Experiment(ws, experiment_name)\n"
   ]
  },
  {
   "cell_type": "code",
   "execution_count": 3,
   "metadata": {},
   "outputs": [
    {
     "data": {
      "text/html": [
       "<div>\n",
       "<style scoped>\n",
       "    .dataframe tbody tr th:only-of-type {\n",
       "        vertical-align: middle;\n",
       "    }\n",
       "\n",
       "    .dataframe tbody tr th {\n",
       "        vertical-align: top;\n",
       "    }\n",
       "\n",
       "    .dataframe thead th {\n",
       "        text-align: right;\n",
       "    }\n",
       "</style>\n",
       "<table border=\"1\" class=\"dataframe\">\n",
       "  <thead>\n",
       "    <tr style=\"text-align: right;\">\n",
       "      <th></th>\n",
       "      <th>Activity Period</th>\n",
       "      <th>Operating Airline</th>\n",
       "      <th>Operating Airline IATA Code</th>\n",
       "      <th>Published Airline</th>\n",
       "      <th>Published Airline IATA Code</th>\n",
       "      <th>GEO Summary</th>\n",
       "      <th>GEO Region</th>\n",
       "      <th>Activity Type Code</th>\n",
       "      <th>Price Category Code</th>\n",
       "      <th>Terminal</th>\n",
       "      <th>Boarding Area</th>\n",
       "      <th>Passenger Count</th>\n",
       "    </tr>\n",
       "  </thead>\n",
       "  <tbody>\n",
       "    <tr>\n",
       "      <th>0</th>\n",
       "      <td>200507</td>\n",
       "      <td>ATA Airlines</td>\n",
       "      <td>TZ</td>\n",
       "      <td>ATA Airlines</td>\n",
       "      <td>TZ</td>\n",
       "      <td>Domestic</td>\n",
       "      <td>US</td>\n",
       "      <td>Deplaned</td>\n",
       "      <td>Low Fare</td>\n",
       "      <td>Terminal 1</td>\n",
       "      <td>B</td>\n",
       "      <td>27271</td>\n",
       "    </tr>\n",
       "    <tr>\n",
       "      <th>1</th>\n",
       "      <td>200507</td>\n",
       "      <td>ATA Airlines</td>\n",
       "      <td>TZ</td>\n",
       "      <td>ATA Airlines</td>\n",
       "      <td>TZ</td>\n",
       "      <td>Domestic</td>\n",
       "      <td>US</td>\n",
       "      <td>Enplaned</td>\n",
       "      <td>Low Fare</td>\n",
       "      <td>Terminal 1</td>\n",
       "      <td>B</td>\n",
       "      <td>29131</td>\n",
       "    </tr>\n",
       "    <tr>\n",
       "      <th>2</th>\n",
       "      <td>200507</td>\n",
       "      <td>ATA Airlines</td>\n",
       "      <td>TZ</td>\n",
       "      <td>ATA Airlines</td>\n",
       "      <td>TZ</td>\n",
       "      <td>Domestic</td>\n",
       "      <td>US</td>\n",
       "      <td>Thru / Transit</td>\n",
       "      <td>Low Fare</td>\n",
       "      <td>Terminal 1</td>\n",
       "      <td>B</td>\n",
       "      <td>5415</td>\n",
       "    </tr>\n",
       "    <tr>\n",
       "      <th>3</th>\n",
       "      <td>200507</td>\n",
       "      <td>Air Canada</td>\n",
       "      <td>AC</td>\n",
       "      <td>Air Canada</td>\n",
       "      <td>AC</td>\n",
       "      <td>International</td>\n",
       "      <td>Canada</td>\n",
       "      <td>Deplaned</td>\n",
       "      <td>Other</td>\n",
       "      <td>Terminal 1</td>\n",
       "      <td>B</td>\n",
       "      <td>35156</td>\n",
       "    </tr>\n",
       "    <tr>\n",
       "      <th>4</th>\n",
       "      <td>200507</td>\n",
       "      <td>Air Canada</td>\n",
       "      <td>AC</td>\n",
       "      <td>Air Canada</td>\n",
       "      <td>AC</td>\n",
       "      <td>International</td>\n",
       "      <td>Canada</td>\n",
       "      <td>Enplaned</td>\n",
       "      <td>Other</td>\n",
       "      <td>Terminal 1</td>\n",
       "      <td>B</td>\n",
       "      <td>34090</td>\n",
       "    </tr>\n",
       "  </tbody>\n",
       "</table>\n",
       "</div>"
      ],
      "text/plain": [
       "   Activity Period Operating Airline Operating Airline IATA Code  \\\n",
       "0           200507      ATA Airlines                          TZ   \n",
       "1           200507      ATA Airlines                          TZ   \n",
       "2           200507      ATA Airlines                          TZ   \n",
       "3           200507        Air Canada                          AC   \n",
       "4           200507        Air Canada                          AC   \n",
       "\n",
       "  Published Airline Published Airline IATA Code    GEO Summary GEO Region  \\\n",
       "0      ATA Airlines                          TZ       Domestic         US   \n",
       "1      ATA Airlines                          TZ       Domestic         US   \n",
       "2      ATA Airlines                          TZ       Domestic         US   \n",
       "3        Air Canada                          AC  International     Canada   \n",
       "4        Air Canada                          AC  International     Canada   \n",
       "\n",
       "  Activity Type Code Price Category Code    Terminal Boarding Area  \\\n",
       "0           Deplaned            Low Fare  Terminal 1             B   \n",
       "1           Enplaned            Low Fare  Terminal 1             B   \n",
       "2     Thru / Transit            Low Fare  Terminal 1             B   \n",
       "3           Deplaned               Other  Terminal 1             B   \n",
       "4           Enplaned               Other  Terminal 1             B   \n",
       "\n",
       "   Passenger Count  \n",
       "0            27271  \n",
       "1            29131  \n",
       "2             5415  \n",
       "3            35156  \n",
       "4            34090  "
      ]
     },
     "execution_count": 3,
     "metadata": {},
     "output_type": "execute_result"
    }
   ],
   "source": [
    "# import the dataset into a DataFrame\n",
    "df = pd.read_csv('Air_Traffic_Passenger_Statistics.csv')\n",
    "df.head()"
   ]
  },
  {
   "cell_type": "code",
   "execution_count": 4,
   "metadata": {},
   "outputs": [
    {
     "data": {
      "text/html": [
       "<div>\n",
       "<style scoped>\n",
       "    .dataframe tbody tr th:only-of-type {\n",
       "        vertical-align: middle;\n",
       "    }\n",
       "\n",
       "    .dataframe tbody tr th {\n",
       "        vertical-align: top;\n",
       "    }\n",
       "\n",
       "    .dataframe thead th {\n",
       "        text-align: right;\n",
       "    }\n",
       "</style>\n",
       "<table border=\"1\" class=\"dataframe\">\n",
       "  <thead>\n",
       "    <tr style=\"text-align: right;\">\n",
       "      <th></th>\n",
       "      <th>Passenger Count</th>\n",
       "    </tr>\n",
       "    <tr>\n",
       "      <th>date</th>\n",
       "      <th></th>\n",
       "    </tr>\n",
       "  </thead>\n",
       "  <tbody>\n",
       "    <tr>\n",
       "      <th>2019-12-01</th>\n",
       "      <td>4720992</td>\n",
       "    </tr>\n",
       "    <tr>\n",
       "      <th>2020-01-01</th>\n",
       "      <td>4241751</td>\n",
       "    </tr>\n",
       "    <tr>\n",
       "      <th>2020-02-01</th>\n",
       "      <td>3742224</td>\n",
       "    </tr>\n",
       "    <tr>\n",
       "      <th>2020-03-01</th>\n",
       "      <td>1885466</td>\n",
       "    </tr>\n",
       "    <tr>\n",
       "      <th>2020-04-01</th>\n",
       "      <td>138817</td>\n",
       "    </tr>\n",
       "    <tr>\n",
       "      <th>2020-05-01</th>\n",
       "      <td>286570</td>\n",
       "    </tr>\n",
       "    <tr>\n",
       "      <th>2020-06-01</th>\n",
       "      <td>555119</td>\n",
       "    </tr>\n",
       "    <tr>\n",
       "      <th>2020-07-01</th>\n",
       "      <td>765274</td>\n",
       "    </tr>\n",
       "    <tr>\n",
       "      <th>2020-08-01</th>\n",
       "      <td>852578</td>\n",
       "    </tr>\n",
       "    <tr>\n",
       "      <th>2020-09-01</th>\n",
       "      <td>905992</td>\n",
       "    </tr>\n",
       "  </tbody>\n",
       "</table>\n",
       "</div>"
      ],
      "text/plain": [
       "            Passenger Count\n",
       "date                       \n",
       "2019-12-01          4720992\n",
       "2020-01-01          4241751\n",
       "2020-02-01          3742224\n",
       "2020-03-01          1885466\n",
       "2020-04-01           138817\n",
       "2020-05-01           286570\n",
       "2020-06-01           555119\n",
       "2020-07-01           765274\n",
       "2020-08-01           852578\n",
       "2020-09-01           905992"
      ]
     },
     "execution_count": 4,
     "metadata": {},
     "output_type": "execute_result"
    }
   ],
   "source": [
    "# Add a date column in a datetime format in order to use it as an date index\n",
    "df['date'] = pd.to_datetime(df['Activity Period'], format = '%Y%m')\n",
    "\n",
    "# Select only two columns Date and Passenger Count to prepare the forecasting task\n",
    "# We want to group all passenger by date regardless of any other features\n",
    "df_clean = df[['date','Passenger Count']].groupby('date').sum()\n",
    "\n",
    "# Let's have a look at the last 10 months. We can see a drop in passenger count beginning in March 2020.\n",
    "df_clean.tail(10)\n"
   ]
  },
  {
   "cell_type": "code",
   "execution_count": 5,
   "metadata": {},
   "outputs": [
    {
     "data": {
      "image/png": "[encoded data removed]",
      "text/plain": [
       "<Figure size 1080x360 with 1 Axes>"
      ]
     },
     "metadata": {
      "needs_background": "light"
     },
     "output_type": "display_data"
    }
   ],
   "source": [
    "# We can visualize the drop with a line plot\n",
    "\n",
    "f, ax1 = plt.subplots(1,1,figsize=(15,5))\n",
    "df_clean.plot(ax=ax1)\n",
    "ax1.set_xlabel(\"Date\")\n",
    "ax1.set_ylabel(\"Passenger Count\")\n",
    "ax1.ticklabel_format(axis='y', style= 'plain')"
   ]
  },
  {
   "cell_type": "code",
   "execution_count": 6,
   "metadata": {},
   "outputs": [
    {
     "data": {
      "text/html": [
       "<div>\n",
       "<style scoped>\n",
       "    .dataframe tbody tr th:only-of-type {\n",
       "        vertical-align: middle;\n",
       "    }\n",
       "\n",
       "    .dataframe tbody tr th {\n",
       "        vertical-align: top;\n",
       "    }\n",
       "\n",
       "    .dataframe thead th {\n",
       "        text-align: right;\n",
       "    }\n",
       "</style>\n",
       "<table border=\"1\" class=\"dataframe\">\n",
       "  <thead>\n",
       "    <tr style=\"text-align: right;\">\n",
       "      <th></th>\n",
       "      <th>Passenger Count</th>\n",
       "    </tr>\n",
       "    <tr>\n",
       "      <th>date</th>\n",
       "      <th></th>\n",
       "    </tr>\n",
       "  </thead>\n",
       "  <tbody>\n",
       "    <tr>\n",
       "      <th>2020-03-01</th>\n",
       "      <td>1885466</td>\n",
       "    </tr>\n",
       "    <tr>\n",
       "      <th>2020-04-01</th>\n",
       "      <td>138817</td>\n",
       "    </tr>\n",
       "    <tr>\n",
       "      <th>2020-05-01</th>\n",
       "      <td>286570</td>\n",
       "    </tr>\n",
       "    <tr>\n",
       "      <th>2020-06-01</th>\n",
       "      <td>555119</td>\n",
       "    </tr>\n",
       "    <tr>\n",
       "      <th>2020-07-01</th>\n",
       "      <td>765274</td>\n",
       "    </tr>\n",
       "    <tr>\n",
       "      <th>2020-08-01</th>\n",
       "      <td>852578</td>\n",
       "    </tr>\n",
       "    <tr>\n",
       "      <th>2020-09-01</th>\n",
       "      <td>905992</td>\n",
       "    </tr>\n",
       "  </tbody>\n",
       "</table>\n",
       "</div>"
      ],
      "text/plain": [
       "            Passenger Count\n",
       "date                       \n",
       "2020-03-01          1885466\n",
       "2020-04-01           138817\n",
       "2020-05-01           286570\n",
       "2020-06-01           555119\n",
       "2020-07-01           765274\n",
       "2020-08-01           852578\n",
       "2020-09-01           905992"
      ]
     },
     "execution_count": 6,
     "metadata": {},
     "output_type": "execute_result"
    }
   ],
   "source": [
    "# Now we have to split the dataset into PreCovid (<= February 2020) and Covid (after February 2020)\n",
    "\n",
    "# Reset the index\n",
    "\n",
    "X = df_clean.reset_index(inplace=False)\n",
    "\n",
    "\n",
    "# Split the dataframe \n",
    "split_date ='2020-02-01'\n",
    "X_precovid = X.loc[X['date'] <= split_date]\n",
    "X_covid = X.loc[X['date'] > split_date]\n",
    "\n",
    "\n",
    "X_precovid.set_index('date', inplace=True)\n",
    "X_covid.set_index('date', inplace=True)\n",
    "\n",
    "X_covid"
   ]
  },
  {
   "cell_type": "code",
   "execution_count": 7,
   "metadata": {},
   "outputs": [],
   "source": [
    "# Now that we have 2 dataset, we can register them into Azure ML\n",
    "\n",
    "UPDATE_DATASET = False\n",
    "\n",
    "if UPDATE_DATASET:    \n",
    "\n",
    "    path = 'data'\n",
    "\n",
    "    try:\n",
    "        os.mkdir(path,)\n",
    "    except OSError as err:\n",
    "        print(err)\n",
    "    else:\n",
    "        print('Directory %s succesfully created' %path)\n",
    "\n",
    "\n",
    "    local_path = './data/SFO_prepared.csv'\n",
    "    local_path_covid = './data/SFO_covid.csv'\n",
    "\n",
    "    # Save the two dataset to csv\n",
    "    X_precovid.to_csv(local_path)\n",
    "    X_covid.to_csv(local_path_covid)\n",
    "\n",
    "\n",
    "    # upload the local file to a datastore on the cloud\n",
    "\n",
    "    # get the datastore to upload prepared data\n",
    "    datastore = ws.get_default_datastore()\n",
    "\n",
    "    # upload the local file from src_dir to the target_path in datastore\n",
    "    datastore.upload(src_dir='data', target_path='data', overwrite=True, show_progress=True)\n",
    "\n",
    "    # create a dataset referencing the cloud location\n",
    "    dataset_prepared = Dataset.Tabular.from_delimited_files(path = [(datastore, (local_path))])\n",
    "    dataset_covid = Dataset.Tabular.from_delimited_files(path = [(datastore, (local_path_covid))])\n",
    "\n",
    "\n",
    "    # Register the Dataset\n",
    "\n",
    "    dataset_prepared = dataset_prepared.register(workspace=ws,\n",
    "                                     name='SFO Air Traffic cleaned',\n",
    "                                     description='SFO Air Traffic predictions cleaned',\n",
    "                                     create_new_version=True)\n",
    "\n",
    "    dataset_covid = dataset_covid.register(workspace=ws,\n",
    "                                     name='SFO Air Traffic covid',\n",
    "                                     description='SFO Air Traffic predictions covid',\n",
    "                                     create_new_version=True)\n",
    "\n",
    "if not UPDATE_DATASET:\n",
    "    dataset_prepared = Dataset.get_by_name(ws, name='SFO Air Traffic cleaned')\n",
    "    dataset_covid = Dataset.get_by_name(ws, name='SFO Air Traffic covid')\n",
    "\n",
    "df_prepared = dataset_prepared.to_pandas_dataframe()\n",
    "df_prepared = df_prepared.set_index('date', inplace=False)\n",
    "    \n",
    "df_covid = dataset_covid.to_pandas_dataframe()\n",
    "df_covid = df_covid.set_index('date', inplace=False)\n",
    "\n",
    "# add february 2020 to the Covid dataframe\n",
    "date = pd.to_datetime(\"2020-02-01\", format = '%Y-%m-%d')\n",
    "\n",
    "df_covid = df_covid.append(pd.DataFrame({'Passenger Count': 3742224}, index=[date]),verify_integrity=True).rename_axis('date')\n",
    "df_covid.sort_index(inplace=True)"
   ]
  },
  {
   "cell_type": "code",
   "execution_count": 8,
   "metadata": {},
   "outputs": [
    {
     "data": {
      "text/plain": [
       "{\n",
       "  \"source\": [\n",
       "    \"('workspaceblobstore', './data/SFO_prepared.csv')\"\n",
       "  ],\n",
       "  \"definition\": [\n",
       "    \"GetDatastoreFiles\",\n",
       "    \"ParseDelimited\",\n",
       "    \"DropColumns\",\n",
       "    \"SetColumnTypes\"\n",
       "  ],\n",
       "  \"registration\": {\n",
       "    \"id\": \"fbe7ea1c-3bb9-4326-bd28-2541517a6221\",\n",
       "    \"name\": \"SFO Air Traffic cleaned\",\n",
       "    \"version\": 3,\n",
       "    \"description\": \"SFO Air Traffic predictions cleaned\",\n",
       "    \"workspace\": \"Workspace.create(name='aml-alex', subscription_id='f56abefd-7248-4d0f-a3b1-3b23fcdb0bc7', resource_group='azureml')\"\n",
       "  }\n",
       "}"
      ]
     },
     "execution_count": 8,
     "metadata": {},
     "output_type": "execute_result"
    }
   ],
   "source": [
    "# Check the dataset\n",
    "dataset_prepared"
   ]
  },
  {
   "cell_type": "code",
   "execution_count": 9,
   "metadata": {},
   "outputs": [
    {
     "data": {
      "text/html": [
       "<div>\n",
       "<style scoped>\n",
       "    .dataframe tbody tr th:only-of-type {\n",
       "        vertical-align: middle;\n",
       "    }\n",
       "\n",
       "    .dataframe tbody tr th {\n",
       "        vertical-align: top;\n",
       "    }\n",
       "\n",
       "    .dataframe thead th {\n",
       "        text-align: right;\n",
       "    }\n",
       "</style>\n",
       "<table border=\"1\" class=\"dataframe\">\n",
       "  <thead>\n",
       "    <tr style=\"text-align: right;\">\n",
       "      <th></th>\n",
       "      <th>Passenger Count</th>\n",
       "    </tr>\n",
       "    <tr>\n",
       "      <th>date</th>\n",
       "      <th></th>\n",
       "    </tr>\n",
       "  </thead>\n",
       "  <tbody>\n",
       "    <tr>\n",
       "      <th>2019-10-01</th>\n",
       "      <td>4824559</td>\n",
       "    </tr>\n",
       "    <tr>\n",
       "      <th>2019-11-01</th>\n",
       "      <td>4370463</td>\n",
       "    </tr>\n",
       "    <tr>\n",
       "      <th>2019-12-01</th>\n",
       "      <td>4720992</td>\n",
       "    </tr>\n",
       "    <tr>\n",
       "      <th>2020-01-01</th>\n",
       "      <td>4241751</td>\n",
       "    </tr>\n",
       "    <tr>\n",
       "      <th>2020-02-01</th>\n",
       "      <td>3742224</td>\n",
       "    </tr>\n",
       "  </tbody>\n",
       "</table>\n",
       "</div>"
      ],
      "text/plain": [
       "            Passenger Count\n",
       "date                       \n",
       "2019-10-01          4824559\n",
       "2019-11-01          4370463\n",
       "2019-12-01          4720992\n",
       "2020-01-01          4241751\n",
       "2020-02-01          3742224"
      ]
     },
     "execution_count": 9,
     "metadata": {},
     "output_type": "execute_result"
    }
   ],
   "source": [
    "# Check the DataFrame\n",
    "df_prepared.tail()"
   ]
  },
  {
   "cell_type": "markdown",
   "metadata": {},
   "source": [
    "## Compute Configuration"
   ]
  },
  {
   "cell_type": "code",
   "execution_count": 10,
   "metadata": {},
   "outputs": [
    {
     "name": "stdout",
     "output_type": "stream",
     "text": [
      "Found existing cluster, use it.\n",
      "Succeeded\n",
      "AmlCompute wait for completion finished\n",
      "\n",
      "Minimum number of nodes requested have been provisioned\n"
     ]
    }
   ],
   "source": [
    "# Choose a name for your CPU cluster\n",
    "amlcompute_cluster_name = \"AMLTraining\"\n",
    "\n",
    "# Verify that cluster does not exist already\n",
    "try:\n",
    "    compute_target = ComputeTarget(workspace=ws, name=amlcompute_cluster_name)\n",
    "    print('Found existing cluster, use it.')\n",
    "except ComputeTargetException:\n",
    "    compute_config = AmlCompute.provisioning_configuration(vm_size='STANDARD_D2_V2',# for GPU, use \"STANDARD_NC6\"\n",
    "                                                           #vm_priority = 'lowpriority', # optional\n",
    "                                                           max_nodes=4,\n",
    "                                                          min_node_count = 0, timeout_in_minutes = 10)\n",
    "    compute_target = ComputeTarget.create(ws, amlcompute_cluster_name, compute_config)\n",
    "\n",
    "compute_target.wait_for_completion(show_output=True)\n",
    "# For a more detailed view of current AmlCompute status, use get_status()."
   ]
  },
  {
   "cell_type": "markdown",
   "metadata": {},
   "source": [
    "## AutoML Configuration\n",
    "\n",
    "The goal is to predict the number of passenger at SFO after February 2020 and compare it to the actual data in order to analyse the impact of Covid on the air traffic.\n",
    "\n",
    "The task we are going to use is a forecasting task. We have to specify the time column and the y column. The other parameter are standard, we will use normalized RMSE as a primary metric to optimize and a cross validation of 5. For forecasting, we use Rolling Origin Cross Validation.\n",
    "\n",
    "More information on ROCV can be found here : https://docs.microsoft.com/en-us/azure/machine-learning/how-to-auto-train-forecast#training-and-validation-data\n",
    "\n",
    "enable_dnn is set to false (by default) because I want to test dnn with Hyperdrive instead of autoML.\n",
    "\n",
    "target_lags, feature_lags and target_rolling_window_size are set to None.\n",
    "\n",
    "forecast_horizon is set to 1.\n",
    "\n",
    "From the doc : \n",
    "Minimum historic data required: (2x forecast_horizon) + #n_cross_validations + max(max(target_lags), target_rolling_window_size)\n",
    "\n",
    "Minimum historic data required = 2 *1 + 5 = 7\n"
   ]
  },
  {
   "cell_type": "code",
   "execution_count": 11,
   "metadata": {
    "gather": {
     "logged": 1598429217746
    },
    "jupyter": {
     "outputs_hidden": false,
     "source_hidden": false
    },
    "nteract": {
     "transient": {
      "deleting": false
     }
    }
   },
   "outputs": [],
   "source": [
    "automl_settings = {\n",
    "    \"experiment_timeout_minutes\":60,\n",
    "    \"max_concurrent_iterations\":4,\n",
    "    \"primary_metric\": 'normalized_root_mean_squared_error',\n",
    "    'time_column_name': 'date'\n",
    "}\n",
    "\n",
    "automl_config = AutoMLConfig(compute_target=compute_target,\n",
    "                             task = \"forecasting\",\n",
    "                             training_data=dataset_prepared,\n",
    "                             label_column_name=\"Passenger Count\",\n",
    "                             enable_early_stopping= True,\n",
    "                             n_cross_validations=5,\n",
    "                             featurization= 'auto',\n",
    "                             debug_log = \"automl_errors.log\",\n",
    "                             **automl_settings\n",
    "                            )\n",
    "\n"
   ]
  },
  {
   "cell_type": "code",
   "execution_count": 17,
   "metadata": {
    "gather": {
     "logged": 1598431107951
    },
    "jupyter": {
     "outputs_hidden": false,
     "source_hidden": false
    },
    "nteract": {
     "transient": {
      "deleting": false
     }
    }
   },
   "outputs": [],
   "source": [
    "# Submit the experiment\n",
    "TRAIN = False\n",
    "\n",
    "if TRAIN:\n",
    "    run_autoML = experiment.submit(automl_config, show_output = True)\n",
    "    run_autoML.wait_for_completion()\n",
    "    \n",
    "# If we already did the training, we can get our run by passing the run_id.\n",
    "else:\n",
    "    run_autoML = AutoMLRun(experiment, 'AutoML_71b33a45-fd33-4248-ad2c-f228c393967c')"
   ]
  },
  {
   "cell_type": "markdown",
   "metadata": {},
   "source": [
    "## Run Details\n",
    "\n",
    "In the cell below, use the `RunDetails` widget to show the different experiments.\n",
    "\n",
    "VotingEnsemble was the best run for this experiment followed by a DecisionTree and a GradientBoosting model. Prophet and AutoArima performed significaly worst probably because of my autoML setting. I will have to have a better look at the way to use these model more efficiently with autoML."
   ]
  },
  {
   "cell_type": "code",
   "execution_count": 18,
   "metadata": {
    "gather": {
     "logged": 1598431121770
    },
    "jupyter": {
     "outputs_hidden": false,
     "source_hidden": false
    },
    "nteract": {
     "transient": {
      "deleting": false
     }
    }
   },
   "outputs": [
    {
     "data": {
      "application/vnd.jupyter.widget-view+json": {
       "model_id": "a2c529a35a0d46a880d956bc24cac164",
       "version_major": 2,
       "version_minor": 0
      },
      "text/plain": [
       "_AutoMLWidget(widget_settings={'childWidgetDisplay': 'popup', 'send_telemetry': False, 'log_level': 'INFO', 's…"
      ]
     },
     "metadata": {},
     "output_type": "display_data"
    },
    {
     "data": {
      "application/aml.mini.widget.v1": "{\"status\": \"Completed\", \"workbench_run_details_uri\": \"https://ml.azure.com/experiments/SFO-Traffic-Predictions/runs/AutoML_71b33a45-fd33-4248-ad2c-f228c393967c?wsid=/subscriptions/f56abefd-7248-4d0f-a3b1-3b23fcdb0bc7/resourcegroups/azureml/workspaces/aml-alex\", \"run_id\": \"AutoML_71b33a45-fd33-4248-ad2c-f228c393967c\", \"run_properties\": {\"run_id\": \"AutoML_71b33a45-fd33-4248-ad2c-f228c393967c\", \"created_utc\": \"2021-02-03T15:00:07.536092Z\", \"properties\": {\"num_iterations\": \"1000\", \"training_type\": \"TrainFull\", \"acquisition_function\": \"EI\", \"primary_metric\": \"normalized_root_mean_squared_error\", \"train_split\": \"0\", \"acquisition_parameter\": \"0\", \"num_cross_validation\": \"5\", \"target\": \"AMLTraining\", \"AMLSettingsJsonString\": \"{\\\"path\\\":null,\\\"name\\\":\\\"SFO-Traffic-Predictions\\\",\\\"subscription_id\\\":\\\"f56abefd-7248-4d0f-a3b1-3b23fcdb0bc7\\\",\\\"resource_group\\\":\\\"azureml\\\",\\\"workspace_name\\\":\\\"aml-alex\\\",\\\"region\\\":\\\"eastus2\\\",\\\"compute_target\\\":\\\"AMLTraining\\\",\\\"spark_service\\\":null,\\\"azure_service\\\":\\\"remote\\\",\\\"many_models\\\":false,\\\"pipeline_fetch_max_batch_size\\\":1,\\\"iterations\\\":1000,\\\"primary_metric\\\":\\\"normalized_root_mean_squared_error\\\",\\\"task_type\\\":\\\"regression\\\",\\\"data_script\\\":null,\\\"validation_size\\\":0.0,\\\"n_cross_validations\\\":5,\\\"y_min\\\":null,\\\"y_max\\\":null,\\\"num_classes\\\":null,\\\"featurization\\\":\\\"auto\\\",\\\"_ignore_package_version_incompatibilities\\\":false,\\\"is_timeseries\\\":true,\\\"max_cores_per_iteration\\\":1,\\\"max_concurrent_iterations\\\":4,\\\"iteration_timeout_minutes\\\":null,\\\"mem_in_mb\\\":null,\\\"enforce_time_on_windows\\\":false,\\\"experiment_timeout_minutes\\\":60,\\\"experiment_exit_score\\\":null,\\\"whitelist_models\\\":null,\\\"blacklist_algos\\\":[\\\"TensorFlowDNN\\\",\\\"TensorFlowLinearRegressor\\\",\\\"Naive\\\",\\\"SeasonalNaive\\\",\\\"Average\\\",\\\"SeasonalAverage\\\",\\\"ExponentialSmoothing\\\",\\\"Arimax\\\"],\\\"supported_models\\\":[\\\"ExtremeRandomTrees\\\",\\\"SeasonalNaive\\\",\\\"TCNForecaster\\\",\\\"Average\\\",\\\"TensorFlowLinearRegressor\\\",\\\"GradientBoosting\\\",\\\"SGD\\\",\\\"LightGBM\\\",\\\"AutoArima\\\",\\\"XGBoostRegressor\\\",\\\"SeasonalAverage\\\",\\\"TensorFlowDNN\\\",\\\"LassoLars\\\",\\\"Prophet\\\",\\\"ElasticNet\\\",\\\"KNN\\\",\\\"RandomForest\\\",\\\"DecisionTree\\\",\\\"Naive\\\"],\\\"auto_blacklist\\\":true,\\\"blacklist_samples_reached\\\":false,\\\"exclude_nan_labels\\\":true,\\\"verbosity\\\":20,\\\"_debug_log\\\":\\\"azureml_automl.log\\\",\\\"show_warnings\\\":false,\\\"model_explainability\\\":true,\\\"service_url\\\":null,\\\"sdk_url\\\":null,\\\"sdk_packages\\\":null,\\\"enable_onnx_compatible_models\\\":false,\\\"enable_split_onnx_featurizer_estimator_models\\\":false,\\\"vm_type\\\":\\\"STANDARD_DS3_V2\\\",\\\"telemetry_verbosity\\\":20,\\\"send_telemetry\\\":true,\\\"enable_dnn\\\":false,\\\"scenario\\\":\\\"SDK-1.13.0\\\",\\\"environment_label\\\":null,\\\"force_text_dnn\\\":false,\\\"enable_feature_sweeping\\\":false,\\\"time_column_name\\\":\\\"date\\\",\\\"grain_column_names\\\":null,\\\"drop_column_names\\\":[],\\\"max_horizon\\\":1,\\\"dropna\\\":false,\\\"overwrite_columns\\\":true,\\\"transform_dictionary\\\":{\\\"min\\\":\\\"_automl_target_col\\\",\\\"max\\\":\\\"_automl_target_col\\\",\\\"mean\\\":\\\"_automl_target_col\\\"},\\\"window_size\\\":null,\\\"country_or_region\\\":null,\\\"lags\\\":null,\\\"feature_lags\\\":null,\\\"seasonality\\\":\\\"auto\\\",\\\"use_stl\\\":null,\\\"short_series_handling\\\":true,\\\"freq\\\":null,\\\"short_series_handling_configuration\\\":\\\"auto\\\",\\\"enable_early_stopping\\\":true,\\\"early_stopping_n_iters\\\":10,\\\"metrics\\\":null,\\\"enable_ensembling\\\":true,\\\"enable_stack_ensembling\\\":false,\\\"ensemble_iterations\\\":15,\\\"enable_tf\\\":false,\\\"enable_subsampling\\\":false,\\\"subsample_seed\\\":null,\\\"enable_nimbusml\\\":false,\\\"enable_streaming\\\":false,\\\"force_streaming\\\":false,\\\"track_child_runs\\\":true,\\\"allowed_private_models\\\":[],\\\"label_column_name\\\":\\\"Passenger Count\\\",\\\"weight_column_name\\\":null,\\\"cv_split_column_names\\\":null,\\\"enable_local_managed\\\":false,\\\"_local_managed_run_id\\\":null,\\\"cost_mode\\\":1,\\\"lag_length\\\":0,\\\"metric_operation\\\":\\\"minimize\\\",\\\"preprocess\\\":true}\", \"DataPrepJsonString\": \"{\\\\\\\"training_data\\\\\\\": \\\\\\\"{\\\\\\\\\\\\\\\"blocks\\\\\\\\\\\\\\\": [{\\\\\\\\\\\\\\\"id\\\\\\\\\\\\\\\": \\\\\\\\\\\\\\\"fb1c68b1-a997-40cc-8458-71d32b87461d\\\\\\\\\\\\\\\", \\\\\\\\\\\\\\\"type\\\\\\\\\\\\\\\": \\\\\\\\\\\\\\\"Microsoft.DPrep.GetDatastoreFilesBlock\\\\\\\\\\\\\\\", \\\\\\\\\\\\\\\"arguments\\\\\\\\\\\\\\\": {\\\\\\\\\\\\\\\"datastores\\\\\\\\\\\\\\\": [{\\\\\\\\\\\\\\\"datastoreName\\\\\\\\\\\\\\\": \\\\\\\\\\\\\\\"workspaceblobstore\\\\\\\\\\\\\\\", \\\\\\\\\\\\\\\"path\\\\\\\\\\\\\\\": \\\\\\\\\\\\\\\"./data/SFO_prepared.csv\\\\\\\\\\\\\\\", \\\\\\\\\\\\\\\"resourceGroup\\\\\\\\\\\\\\\": \\\\\\\\\\\\\\\"azureml\\\\\\\\\\\\\\\", \\\\\\\\\\\\\\\"subscription\\\\\\\\\\\\\\\": \\\\\\\\\\\\\\\"f56abefd-7248-4d0f-a3b1-3b23fcdb0bc7\\\\\\\\\\\\\\\", \\\\\\\\\\\\\\\"workspaceName\\\\\\\\\\\\\\\": \\\\\\\\\\\\\\\"aml-alex\\\\\\\\\\\\\\\"}]}, \\\\\\\\\\\\\\\"localData\\\\\\\\\\\\\\\": {}, \\\\\\\\\\\\\\\"isEnabled\\\\\\\\\\\\\\\": true, \\\\\\\\\\\\\\\"name\\\\\\\\\\\\\\\": null, \\\\\\\\\\\\\\\"annotation\\\\\\\\\\\\\\\": null}, {\\\\\\\\\\\\\\\"id\\\\\\\\\\\\\\\": \\\\\\\\\\\\\\\"a52f9142-1748-474f-9ba5-f1b85771da0b\\\\\\\\\\\\\\\", \\\\\\\\\\\\\\\"type\\\\\\\\\\\\\\\": \\\\\\\\\\\\\\\"Microsoft.DPrep.ParseDelimitedBlock\\\\\\\\\\\\\\\", \\\\\\\\\\\\\\\"arguments\\\\\\\\\\\\\\\": {\\\\\\\\\\\\\\\"columnHeadersMode\\\\\\\\\\\\\\\": 3, \\\\\\\\\\\\\\\"fileEncoding\\\\\\\\\\\\\\\": 0, \\\\\\\\\\\\\\\"handleQuotedLineBreaks\\\\\\\\\\\\\\\": false, \\\\\\\\\\\\\\\"preview\\\\\\\\\\\\\\\": false, \\\\\\\\\\\\\\\"separator\\\\\\\\\\\\\\\": \\\\\\\\\\\\\\\",\\\\\\\\\\\\\\\", \\\\\\\\\\\\\\\"skipRows\\\\\\\\\\\\\\\": 0, \\\\\\\\\\\\\\\"skipRowsMode\\\\\\\\\\\\\\\": 0}, \\\\\\\\\\\\\\\"localData\\\\\\\\\\\\\\\": {}, \\\\\\\\\\\\\\\"isEnabled\\\\\\\\\\\\\\\": true, \\\\\\\\\\\\\\\"name\\\\\\\\\\\\\\\": null, \\\\\\\\\\\\\\\"annotation\\\\\\\\\\\\\\\": null}, {\\\\\\\\\\\\\\\"id\\\\\\\\\\\\\\\": \\\\\\\\\\\\\\\"257a3d4f-ff81-43aa-8855-12b99f82bf32\\\\\\\\\\\\\\\", \\\\\\\\\\\\\\\"type\\\\\\\\\\\\\\\": \\\\\\\\\\\\\\\"Microsoft.DPrep.DropColumnsBlock\\\\\\\\\\\\\\\", \\\\\\\\\\\\\\\"arguments\\\\\\\\\\\\\\\": {\\\\\\\\\\\\\\\"columns\\\\\\\\\\\\\\\": {\\\\\\\\\\\\\\\"type\\\\\\\\\\\\\\\": 0, \\\\\\\\\\\\\\\"details\\\\\\\\\\\\\\\": {\\\\\\\\\\\\\\\"selectedColumns\\\\\\\\\\\\\\\": [\\\\\\\\\\\\\\\"Path\\\\\\\\\\\\\\\"]}}}, \\\\\\\\\\\\\\\"localData\\\\\\\\\\\\\\\": {}, \\\\\\\\\\\\\\\"isEnabled\\\\\\\\\\\\\\\": true, \\\\\\\\\\\\\\\"name\\\\\\\\\\\\\\\": null, \\\\\\\\\\\\\\\"annotation\\\\\\\\\\\\\\\": null}, {\\\\\\\\\\\\\\\"id\\\\\\\\\\\\\\\": \\\\\\\\\\\\\\\"d81fe095-de8b-4df3-ad86-b29c74a20208\\\\\\\\\\\\\\\", \\\\\\\\\\\\\\\"type\\\\\\\\\\\\\\\": \\\\\\\\\\\\\\\"Microsoft.DPrep.SetColumnTypesBlock\\\\\\\\\\\\\\\", \\\\\\\\\\\\\\\"arguments\\\\\\\\\\\\\\\": {\\\\\\\\\\\\\\\"columnConversion\\\\\\\\\\\\\\\": [{\\\\\\\\\\\\\\\"column\\\\\\\\\\\\\\\": {\\\\\\\\\\\\\\\"type\\\\\\\\\\\\\\\": 2, \\\\\\\\\\\\\\\"details\\\\\\\\\\\\\\\": {\\\\\\\\\\\\\\\"selectedColumn\\\\\\\\\\\\\\\": \\\\\\\\\\\\\\\"date\\\\\\\\\\\\\\\"}}, \\\\\\\\\\\\\\\"typeArguments\\\\\\\\\\\\\\\": {\\\\\\\\\\\\\\\"dateTimeFormats\\\\\\\\\\\\\\\": [\\\\\\\\\\\\\\\"%Y-%m-%d\\\\\\\\\\\\\\\"]}, \\\\\\\\\\\\\\\"typeProperty\\\\\\\\\\\\\\\": 4}, {\\\\\\\\\\\\\\\"column\\\\\\\\\\\\\\\": {\\\\\\\\\\\\\\\"type\\\\\\\\\\\\\\\": 2, \\\\\\\\\\\\\\\"details\\\\\\\\\\\\\\\": {\\\\\\\\\\\\\\\"selectedColumn\\\\\\\\\\\\\\\": \\\\\\\\\\\\\\\"Passenger Count\\\\\\\\\\\\\\\"}}, \\\\\\\\\\\\\\\"typeProperty\\\\\\\\\\\\\\\": 2}]}, \\\\\\\\\\\\\\\"localData\\\\\\\\\\\\\\\": {}, \\\\\\\\\\\\\\\"isEnabled\\\\\\\\\\\\\\\": true, \\\\\\\\\\\\\\\"name\\\\\\\\\\\\\\\": null, \\\\\\\\\\\\\\\"annotation\\\\\\\\\\\\\\\": null}], \\\\\\\\\\\\\\\"inspectors\\\\\\\\\\\\\\\": [], \\\\\\\\\\\\\\\"meta\\\\\\\\\\\\\\\": {\\\\\\\\\\\\\\\"savedDatasetId\\\\\\\\\\\\\\\": \\\\\\\\\\\\\\\"fbe7ea1c-3bb9-4326-bd28-2541517a6221\\\\\\\\\\\\\\\", \\\\\\\\\\\\\\\"datasetType\\\\\\\\\\\\\\\": \\\\\\\\\\\\\\\"tabular\\\\\\\\\\\\\\\", \\\\\\\\\\\\\\\"subscriptionId\\\\\\\\\\\\\\\": \\\\\\\\\\\\\\\"f56abefd-7248-4d0f-a3b1-3b23fcdb0bc7\\\\\\\\\\\\\\\", \\\\\\\\\\\\\\\"workspaceId\\\\\\\\\\\\\\\": \\\\\\\\\\\\\\\"41ddfede-155c-4749-8581-2aa859a32494\\\\\\\\\\\\\\\", \\\\\\\\\\\\\\\"workspaceLocation\\\\\\\\\\\\\\\": \\\\\\\\\\\\\\\"eastus2\\\\\\\\\\\\\\\"}}\\\\\\\", \\\\\\\"activities\\\\\\\": 0}\", \"EnableSubsampling\": \"False\", \"runTemplate\": \"AutoML\", \"azureml.runsource\": \"automl\", \"display_task_type\": \"forecasting\", \"dependencies_versions\": \"{\\\"azureml\\\": \\\"0.2.7\\\", \\\"azureml-widgets\\\": \\\"1.12.0\\\", \\\"azureml-train\\\": \\\"1.12.0\\\", \\\"azureml-train-restclients-hyperdrive\\\": \\\"1.12.0\\\", \\\"azureml-train-core\\\": \\\"1.12.0\\\", \\\"azureml-train-automl\\\": \\\"1.12.0\\\", \\\"azureml-train-automl-runtime\\\": \\\"1.20.0.post1\\\", \\\"azureml-train-automl-client\\\": \\\"1.20.0\\\", \\\"azureml-tensorboard\\\": \\\"1.12.0\\\", \\\"azureml-telemetry\\\": \\\"1.20.0\\\", \\\"azureml-sdk\\\": \\\"1.12.0\\\", \\\"azureml-samples\\\": \\\"0+unknown\\\", \\\"azureml-pipeline\\\": \\\"1.12.0\\\", \\\"azureml-pipeline-steps\\\": \\\"1.12.0\\\", \\\"azureml-pipeline-core\\\": \\\"1.12.0\\\", \\\"azureml-opendatasets\\\": \\\"1.12.0\\\", \\\"azureml-monitoring\\\": \\\"0.1.0a21\\\", \\\"azureml-model-management-sdk\\\": \\\"1.0.1b6.post1\\\", \\\"azureml-mlflow\\\": \\\"1.12.0\\\", \\\"azureml-interpret\\\": \\\"1.20.0\\\", \\\"azureml-explain-model\\\": \\\"1.12.0\\\", \\\"azureml-defaults\\\": \\\"1.20.0\\\", \\\"azureml-dataset-runtime\\\": \\\"1.20.0\\\", \\\"azureml-dataprep\\\": \\\"2.7.3\\\", \\\"azureml-dataprep-rslex\\\": \\\"1.5.0\\\", \\\"azureml-dataprep-native\\\": \\\"27.0.0\\\", \\\"azureml-datadrift\\\": \\\"1.12.0\\\", \\\"azureml-core\\\": \\\"1.20.0\\\", \\\"azureml-contrib-services\\\": \\\"1.12.0\\\", \\\"azureml-contrib-server\\\": \\\"1.12.0\\\", \\\"azureml-contrib-reinforcementlearning\\\": \\\"1.12.0\\\", \\\"azureml-contrib-pipeline-steps\\\": \\\"1.12.0\\\", \\\"azureml-contrib-notebook\\\": \\\"1.12.0\\\", \\\"azureml-contrib-interpret\\\": \\\"1.12.0\\\", \\\"azureml-contrib-gbdt\\\": \\\"1.12.0\\\", \\\"azureml-contrib-fairness\\\": \\\"1.12.0\\\", \\\"azureml-contrib-dataset\\\": \\\"1.12.0\\\", \\\"azureml-cli-common\\\": \\\"1.12.0\\\", \\\"azureml-automl-runtime\\\": \\\"1.20.0\\\", \\\"azureml-automl-core\\\": \\\"1.20.0\\\", \\\"azureml-accel-models\\\": \\\"1.12.0\\\"}\", \"_aml_system_scenario_identification\": \"Remote.Parent\", \"ClientType\": \"SDK\", \"environment_cpu_name\": \"AzureML-AutoML\", \"environment_cpu_label\": \"prod\", \"environment_gpu_name\": \"AzureML-AutoML-GPU\", \"environment_gpu_label\": \"prod\", \"root_attribution\": \"automl\", \"attribution\": \"AutoML\", \"Orchestrator\": \"AutoML\", \"CancelUri\": \"https://eastus2.experiments.azureml.net/jasmine/v1.0/subscriptions/f56abefd-7248-4d0f-a3b1-3b23fcdb0bc7/resourceGroups/azureml/providers/Microsoft.MachineLearningServices/workspaces/aml-alex/experimentids/2c6e6290-cca7-46aa-9e66-ecd25e6b18cb/cancel/AutoML_71b33a45-fd33-4248-ad2c-f228c393967c\", \"ClientSdkVersion\": \"1.21.0\", \"snapshotId\": \"00000000-0000-0000-0000-000000000000\", \"SetupRunId\": \"AutoML_71b33a45-fd33-4248-ad2c-f228c393967c_setup\", \"SetupRunContainerId\": \"dcid.AutoML_71b33a45-fd33-4248-ad2c-f228c393967c_setup\", \"forecasting_target_lags\": \"[0]\", \"forecasting_target_rolling_window_size\": \"0\", \"forecasting_max_horizon\": \"1\", \"ProblemInfoJsonString\": \"{\\\"dataset_num_categorical\\\": 0, \\\"is_sparse\\\": false, \\\"subsampling\\\": false, \\\"dataset_classes\\\": 176, \\\"dataset_features\\\": 7, \\\"dataset_samples\\\": 176, \\\"single_frequency_class_detected\\\": false}\", \"ModelExplainRunId\": \"AutoML_71b33a45-fd33-4248-ad2c-f228c393967c_ModelExplain\"}, \"tags\": {\"model_explain_run\": \"best_run\", \"_aml_system_azureml.automlComponent\": \"AutoML\", \"pipeline_id\": \"\", \"score\": \"\", \"predicted_cost\": \"\", \"fit_time\": \"\", \"training_percent\": \"\", \"iteration\": \"\", \"run_preprocessor\": \"\", \"run_algorithm\": \"\", \"dynamic_whitelisting_iterations\": \"<25>;<30>;\", \"automl_best_child_run_id\": \"AutoML_71b33a45-fd33-4248-ad2c-f228c393967c_35\", \"model_explain_best_run_child_id\": \"AutoML_71b33a45-fd33-4248-ad2c-f228c393967c_35\"}, \"end_time_utc\": \"2021-02-03T15:20:42.1431Z\", \"status\": \"Completed\", \"log_files\": {}, \"log_groups\": [], \"run_duration\": \"0:20:34\"}, \"child_runs\": [{\"run_id\": \"AutoML_71b33a45-fd33-4248-ad2c-f228c393967c_0\", \"run_number\": 477, \"metric\": null, \"status\": \"Completed\", \"run_type\": \"azureml.scriptrun\", \"training_percent\": \"100\", \"start_time\": \"2021-02-03T15:07:14.173132Z\", \"end_time\": \"2021-02-03T15:08:59.703268Z\", \"created_time\": \"2021-02-03T15:06:02.741298Z\", \"created_time_dt\": \"2021-02-03T15:06:02.741298Z\", \"duration\": \"0:02:56\", \"iteration\": \"0\", \"goal\": \"normalized_root_mean_squared_error_min\", \"run_name\": \"AutoArima\", \"run_properties\": \"<azureml.automl.runtime.shared._auto_arima.AutoArima object at 0x7fea506a72b0\", \"primary_metric\": 0.08276662, \"best_metric\": 0.08276662}, {\"run_id\": \"AutoML_71b33a45-fd33-4248-ad2c-f228c393967c_2\", \"run_number\": 478, \"metric\": null, \"status\": \"Completed\", \"run_type\": \"azureml.scriptrun\", \"training_percent\": \"100\", \"start_time\": \"2021-02-03T15:08:33.835909Z\", \"end_time\": \"2021-02-03T15:10:33.081548Z\", \"created_time\": \"2021-02-03T15:06:02.760782Z\", \"created_time_dt\": \"2021-02-03T15:06:02.760782Z\", \"duration\": \"0:04:30\", \"iteration\": \"2\", \"goal\": \"normalized_root_mean_squared_error_min\", \"run_name\": \"RobustScaler, LassoLars\", \"run_properties\": \"copy=True, quantile_range=[10, 90], with_centering=False,\\n             with_scaling=True\", \"primary_metric\": 0.16706036, \"best_metric\": 0.08276662}, {\"run_id\": \"AutoML_71b33a45-fd33-4248-ad2c-f228c393967c_3\", \"run_number\": 479, \"metric\": null, \"status\": \"Completed\", \"run_type\": \"azureml.scriptrun\", \"training_percent\": \"100\", \"start_time\": \"2021-02-03T15:06:14.618971Z\", \"end_time\": \"2021-02-03T15:07:09.128544Z\", \"created_time\": \"2021-02-03T15:06:02.7721Z\", \"created_time_dt\": \"2021-02-03T15:06:02.7721Z\", \"duration\": \"0:01:06\", \"iteration\": \"3\", \"goal\": \"normalized_root_mean_squared_error_min\", \"run_name\": \"RobustScaler, DecisionTree\", \"run_properties\": \"copy=True, quantile_range=[10, 90], with_centering=True,\\n             with_scaling=False\", \"primary_metric\": 0.03729003, \"best_metric\": 0.03729003}, {\"run_id\": \"AutoML_71b33a45-fd33-4248-ad2c-f228c393967c_1\", \"run_number\": 480, \"metric\": null, \"status\": \"Completed\", \"run_type\": \"azureml.scriptrun\", \"training_percent\": \"100\", \"start_time\": \"2021-02-03T15:08:33.454816Z\", \"end_time\": \"2021-02-03T15:10:45.631476Z\", \"created_time\": \"2021-02-03T15:06:02.762296Z\", \"created_time_dt\": \"2021-02-03T15:06:02.762296Z\", \"duration\": \"0:04:42\", \"iteration\": \"1\", \"goal\": \"normalized_root_mean_squared_error_min\", \"run_name\": \"ProphetModel\", \"run_properties\": \"<azureml.automl.runtime.shared._prophet_model.ProphetModel object at 0x7f40aab5f748\", \"primary_metric\": 0.09490828, \"best_metric\": 0.08276662}, {\"run_id\": \"AutoML_71b33a45-fd33-4248-ad2c-f228c393967c_4\", \"run_number\": 481, \"metric\": null, \"status\": \"Completed\", \"run_type\": \"azureml.scriptrun\", \"training_percent\": \"100\", \"start_time\": \"2021-02-03T15:08:31.620898Z\", \"end_time\": \"2021-02-03T15:10:31.370629Z\", \"created_time\": \"2021-02-03T15:07:11.468435Z\", \"created_time_dt\": \"2021-02-03T15:07:11.468435Z\", \"duration\": \"0:03:19\", \"iteration\": \"4\", \"goal\": \"normalized_root_mean_squared_error_min\", \"run_name\": \"StandardScalerWrapper, DecisionTree\", \"run_properties\": \"<azureml.automl.runtime.shared.model_wrappers.StandardScalerWrapper object at 0x7fe18ecd10f0\", \"primary_metric\": 0.05987841, \"best_metric\": 0.03729003}, {\"run_id\": \"AutoML_71b33a45-fd33-4248-ad2c-f228c393967c_5\", \"run_number\": 482, \"metric\": null, \"status\": \"Completed\", \"run_type\": \"azureml.scriptrun\", \"training_percent\": \"100\", \"start_time\": \"2021-02-03T15:09:13.530422Z\", \"end_time\": \"2021-02-03T15:10:06.993471Z\", \"created_time\": \"2021-02-03T15:09:03.000582Z\", \"created_time_dt\": \"2021-02-03T15:09:03.000582Z\", \"duration\": \"0:01:03\", \"iteration\": \"5\", \"goal\": \"normalized_root_mean_squared_error_min\", \"run_name\": \"RobustScaler, DecisionTree\", \"run_properties\": \"copy=True, quantile_range=[10, 90], with_centering=False,\\n             with_scaling=True\", \"primary_metric\": 0.03729003, \"best_metric\": 0.03729003}, {\"run_id\": \"AutoML_71b33a45-fd33-4248-ad2c-f228c393967c_6\", \"run_number\": 483, \"metric\": null, \"status\": \"Completed\", \"run_type\": \"azureml.scriptrun\", \"training_percent\": \"100\", \"start_time\": \"2021-02-03T15:10:22.10348Z\", \"end_time\": \"2021-02-03T15:11:19.79529Z\", \"created_time\": \"2021-02-03T15:10:09.630186Z\", \"created_time_dt\": \"2021-02-03T15:10:09.630186Z\", \"duration\": \"0:01:10\", \"iteration\": \"6\", \"goal\": \"normalized_root_mean_squared_error_min\", \"run_name\": \"StandardScalerWrapper, ElasticNet\", \"run_properties\": \"<azureml.automl.runtime.shared.model_wrappers.StandardScalerWrapper object at 0x7f263c3eddd8\", \"primary_metric\": 0.16452639, \"best_metric\": 0.03729003}, {\"run_id\": \"AutoML_71b33a45-fd33-4248-ad2c-f228c393967c_7\", \"run_number\": 484, \"metric\": null, \"status\": \"Completed\", \"run_type\": \"azureml.scriptrun\", \"training_percent\": \"100\", \"start_time\": \"2021-02-03T15:10:44.163869Z\", \"end_time\": \"2021-02-03T15:11:31.586245Z\", \"created_time\": \"2021-02-03T15:10:33.634166Z\", \"created_time_dt\": \"2021-02-03T15:10:33.634166Z\", \"duration\": \"0:00:57\", \"iteration\": \"7\", \"goal\": \"normalized_root_mean_squared_error_min\", \"run_name\": \"MinMaxScaler, DecisionTree\", \"run_properties\": \"copy=True, feature_range=(0, 1\", \"primary_metric\": 0.07018304, \"best_metric\": 0.03729003}, {\"run_id\": \"AutoML_71b33a45-fd33-4248-ad2c-f228c393967c_8\", \"run_number\": 485, \"metric\": null, \"status\": \"Completed\", \"run_type\": \"azureml.scriptrun\", \"training_percent\": \"100\", \"start_time\": \"2021-02-03T15:10:49.348737Z\", \"end_time\": \"2021-02-03T15:11:42.619742Z\", \"created_time\": \"2021-02-03T15:10:37.475551Z\", \"created_time_dt\": \"2021-02-03T15:10:37.475551Z\", \"duration\": \"0:01:05\", \"iteration\": \"8\", \"goal\": \"normalized_root_mean_squared_error_min\", \"run_name\": \"MinMaxScaler, ElasticNet\", \"run_properties\": \"copy=True, feature_range=(0, 1\", \"primary_metric\": 0.16877059, \"best_metric\": 0.03729003}, {\"run_id\": \"AutoML_71b33a45-fd33-4248-ad2c-f228c393967c_9\", \"run_number\": 486, \"metric\": null, \"status\": \"Completed\", \"run_type\": \"azureml.scriptrun\", \"training_percent\": \"100\", \"start_time\": \"2021-02-03T15:11:02.313738Z\", \"end_time\": \"2021-02-03T15:11:51.577736Z\", \"created_time\": \"2021-02-03T15:10:48.201015Z\", \"created_time_dt\": \"2021-02-03T15:10:48.201015Z\", \"duration\": \"0:01:03\", \"iteration\": \"9\", \"goal\": \"normalized_root_mean_squared_error_min\", \"run_name\": \"StandardScalerWrapper, DecisionTree\", \"run_properties\": \"<azureml.automl.runtime.shared.model_wrappers.StandardScalerWrapper object at 0x7fd6b04bfd30\", \"primary_metric\": 0.06513035, \"best_metric\": 0.03729003}, {\"run_id\": \"AutoML_71b33a45-fd33-4248-ad2c-f228c393967c_10\", \"run_number\": 487, \"metric\": null, \"status\": \"Completed\", \"run_type\": \"azureml.scriptrun\", \"training_percent\": \"100\", \"start_time\": \"2021-02-03T15:11:32.9863Z\", \"end_time\": \"2021-02-03T15:12:23.475525Z\", \"created_time\": \"2021-02-03T15:11:22.169251Z\", \"created_time_dt\": \"2021-02-03T15:11:22.169251Z\", \"duration\": \"0:01:01\", \"iteration\": \"10\", \"goal\": \"normalized_root_mean_squared_error_min\", \"run_name\": \"StandardScalerWrapper, DecisionTree\", \"run_properties\": \"<azureml.automl.runtime.shared.model_wrappers.StandardScalerWrapper object at 0x7f7a06129fd0\", \"primary_metric\": 0.02895964, \"best_metric\": 0.02895964}, {\"run_id\": \"AutoML_71b33a45-fd33-4248-ad2c-f228c393967c_11\", \"run_number\": 488, \"metric\": null, \"status\": \"Completed\", \"run_type\": \"azureml.scriptrun\", \"training_percent\": \"100\", \"start_time\": \"2021-02-03T15:11:49.055628Z\", \"end_time\": \"2021-02-03T15:12:35.09417Z\", \"created_time\": \"2021-02-03T15:11:33.87682Z\", \"created_time_dt\": \"2021-02-03T15:11:33.87682Z\", \"duration\": \"0:01:01\", \"iteration\": \"11\", \"goal\": \"normalized_root_mean_squared_error_min\", \"run_name\": \"RobustScaler, DecisionTree\", \"run_properties\": \"copy=True, quantile_range=[10, 90], with_centering=True,\\n             with_scaling=False\", \"primary_metric\": 0.03729003, \"best_metric\": 0.02895964}, {\"run_id\": \"AutoML_71b33a45-fd33-4248-ad2c-f228c393967c_12\", \"run_number\": 489, \"metric\": null, \"status\": \"Completed\", \"run_type\": \"azureml.scriptrun\", \"training_percent\": \"100\", \"start_time\": \"2021-02-03T15:11:57.51993Z\", \"end_time\": \"2021-02-03T15:12:48.90043Z\", \"created_time\": \"2021-02-03T15:11:44.944022Z\", \"created_time_dt\": \"2021-02-03T15:11:44.944022Z\", \"duration\": \"0:01:03\", \"iteration\": \"12\", \"goal\": \"normalized_root_mean_squared_error_min\", \"run_name\": \"RobustScaler, ElasticNet\", \"run_properties\": \"copy=True, quantile_range=[25, 75], with_centering=True,\\n             with_scaling=False\", \"primary_metric\": 0.17159949, \"best_metric\": 0.02895964}, {\"run_id\": \"AutoML_71b33a45-fd33-4248-ad2c-f228c393967c_13\", \"run_number\": 490, \"metric\": null, \"status\": \"Completed\", \"run_type\": \"azureml.scriptrun\", \"training_percent\": \"100\", \"start_time\": \"2021-02-03T15:12:07.434119Z\", \"end_time\": \"2021-02-03T15:12:53.095474Z\", \"created_time\": \"2021-02-03T15:11:53.79577Z\", \"created_time_dt\": \"2021-02-03T15:11:53.79577Z\", \"duration\": \"0:00:59\", \"iteration\": \"13\", \"goal\": \"normalized_root_mean_squared_error_min\", \"run_name\": \"RobustScaler, DecisionTree\", \"run_properties\": \"copy=True, quantile_range=[10, 90], with_centering=False,\\n             with_scaling=False\", \"primary_metric\": 0.05909127, \"best_metric\": 0.02895964}, {\"run_id\": \"AutoML_71b33a45-fd33-4248-ad2c-f228c393967c_14\", \"run_number\": 491, \"metric\": null, \"status\": \"Completed\", \"run_type\": \"azureml.scriptrun\", \"training_percent\": \"100\", \"start_time\": \"2021-02-03T15:12:38.098182Z\", \"end_time\": \"2021-02-03T15:13:30.110081Z\", \"created_time\": \"2021-02-03T15:12:26.587655Z\", \"created_time_dt\": \"2021-02-03T15:12:26.587655Z\", \"duration\": \"0:01:03\", \"iteration\": \"14\", \"goal\": \"normalized_root_mean_squared_error_min\", \"run_name\": \"RobustScaler, DecisionTree\", \"run_properties\": \"copy=True, quantile_range=[10, 90], with_centering=False,\\n             with_scaling=False\", \"primary_metric\": 0.07159278, \"best_metric\": 0.02895964}, {\"run_id\": \"AutoML_71b33a45-fd33-4248-ad2c-f228c393967c_15\", \"run_number\": 492, \"metric\": null, \"status\": \"Completed\", \"run_type\": \"azureml.scriptrun\", \"training_percent\": \"100\", \"start_time\": \"2021-02-03T15:12:47.500793Z\", \"end_time\": \"2021-02-03T15:14:06.296803Z\", \"created_time\": \"2021-02-03T15:12:37.687317Z\", \"created_time_dt\": \"2021-02-03T15:12:37.687317Z\", \"duration\": \"0:01:28\", \"iteration\": \"15\", \"goal\": \"normalized_root_mean_squared_error_min\", \"run_name\": \"StandardScalerWrapper, DecisionTree\", \"run_properties\": \"<azureml.automl.runtime.shared.model_wrappers.StandardScalerWrapper object at 0x7f87a069d048\", \"primary_metric\": 0.07306166, \"best_metric\": 0.02895964}, {\"run_id\": \"AutoML_71b33a45-fd33-4248-ad2c-f228c393967c_16\", \"run_number\": 493, \"metric\": null, \"status\": \"Completed\", \"run_type\": \"azureml.scriptrun\", \"training_percent\": \"100\", \"start_time\": \"2021-02-03T15:13:02.947113Z\", \"end_time\": \"2021-02-03T15:14:00.359013Z\", \"created_time\": \"2021-02-03T15:12:51.84547Z\", \"created_time_dt\": \"2021-02-03T15:12:51.84547Z\", \"duration\": \"0:01:08\", \"iteration\": \"16\", \"goal\": \"normalized_root_mean_squared_error_min\", \"run_name\": \"MinMaxScaler, DecisionTree\", \"run_properties\": \"copy=True, feature_range=(0, 1\", \"primary_metric\": 0.05909127, \"best_metric\": 0.02895964}, {\"run_id\": \"AutoML_71b33a45-fd33-4248-ad2c-f228c393967c_17\", \"run_number\": 494, \"metric\": null, \"status\": \"Completed\", \"run_type\": \"azureml.scriptrun\", \"training_percent\": \"100\", \"start_time\": \"2021-02-03T15:13:09.306748Z\", \"end_time\": \"2021-02-03T15:14:09.918477Z\", \"created_time\": \"2021-02-03T15:12:57.178806Z\", \"created_time_dt\": \"2021-02-03T15:12:57.178806Z\", \"duration\": \"0:01:12\", \"iteration\": \"17\", \"goal\": \"normalized_root_mean_squared_error_min\", \"run_name\": \"MinMaxScaler, DecisionTree\", \"run_properties\": \"copy=True, feature_range=(0, 1\", \"primary_metric\": 0.03729003, \"best_metric\": 0.02895964}, {\"run_id\": \"AutoML_71b33a45-fd33-4248-ad2c-f228c393967c_18\", \"run_number\": 495, \"metric\": null, \"status\": \"Completed\", \"run_type\": \"azureml.scriptrun\", \"training_percent\": \"100\", \"start_time\": \"2021-02-03T15:13:46.332611Z\", \"end_time\": \"2021-02-03T15:14:35.706447Z\", \"created_time\": \"2021-02-03T15:13:32.494286Z\", \"created_time_dt\": \"2021-02-03T15:13:32.494286Z\", \"duration\": \"0:01:03\", \"iteration\": \"18\", \"goal\": \"normalized_root_mean_squared_error_min\", \"run_name\": \"RobustScaler, DecisionTree\", \"run_properties\": \"copy=True, quantile_range=[25, 75], with_centering=True,\\n             with_scaling=False\", \"primary_metric\": 0.05909127, \"best_metric\": 0.02895964}, {\"run_id\": \"AutoML_71b33a45-fd33-4248-ad2c-f228c393967c_19\", \"run_number\": 496, \"metric\": null, \"status\": \"Completed\", \"run_type\": \"azureml.scriptrun\", \"training_percent\": \"100\", \"start_time\": \"2021-02-03T15:14:14.848992Z\", \"end_time\": \"2021-02-03T15:15:09.975934Z\", \"created_time\": \"2021-02-03T15:14:02.677822Z\", \"created_time_dt\": \"2021-02-03T15:14:02.677822Z\", \"duration\": \"0:01:07\", \"iteration\": \"19\", \"goal\": \"normalized_root_mean_squared_error_min\", \"run_name\": \"StandardScalerWrapper, DecisionTree\", \"run_properties\": \"<azureml.automl.runtime.shared.model_wrappers.StandardScalerWrapper object at 0x7fdc4e7e9c50\", \"primary_metric\": 0.05987841, \"best_metric\": 0.02895964}, {\"run_id\": \"AutoML_71b33a45-fd33-4248-ad2c-f228c393967c_20\", \"run_number\": 497, \"metric\": null, \"status\": \"Completed\", \"run_type\": \"azureml.scriptrun\", \"training_percent\": \"100\", \"start_time\": \"2021-02-03T15:14:21.496193Z\", \"end_time\": \"2021-02-03T15:15:10.549366Z\", \"created_time\": \"2021-02-03T15:14:08.894567Z\", \"created_time_dt\": \"2021-02-03T15:14:08.894567Z\", \"duration\": \"0:01:01\", \"iteration\": \"20\", \"goal\": \"normalized_root_mean_squared_error_min\", \"run_name\": \"MinMaxScaler, DecisionTree\", \"run_properties\": \"copy=True, feature_range=(0, 1\", \"primary_metric\": 0.05792061, \"best_metric\": 0.02895964}, {\"run_id\": \"AutoML_71b33a45-fd33-4248-ad2c-f228c393967c_21\", \"run_number\": 498, \"metric\": null, \"status\": \"Completed\", \"run_type\": \"azureml.scriptrun\", \"training_percent\": \"100\", \"start_time\": \"2021-02-03T15:14:26.672954Z\", \"end_time\": \"2021-02-03T15:15:18.710446Z\", \"created_time\": \"2021-02-03T15:14:14.204783Z\", \"created_time_dt\": \"2021-02-03T15:14:14.204783Z\", \"duration\": \"0:01:04\", \"iteration\": \"21\", \"goal\": \"normalized_root_mean_squared_error_min\", \"run_name\": \"StandardScalerWrapper, LassoLars\", \"run_properties\": \"<azureml.automl.runtime.shared.model_wrappers.StandardScalerWrapper object at 0x7f2d48816550\", \"primary_metric\": 0.16706032, \"best_metric\": 0.02895964}, {\"run_id\": \"AutoML_71b33a45-fd33-4248-ad2c-f228c393967c_22\", \"run_number\": 499, \"metric\": null, \"status\": \"Completed\", \"run_type\": \"azureml.scriptrun\", \"training_percent\": \"100\", \"start_time\": \"2021-02-03T15:14:48.942512Z\", \"end_time\": \"2021-02-03T15:15:36.441727Z\", \"created_time\": \"2021-02-03T15:14:38.000288Z\", \"created_time_dt\": \"2021-02-03T15:14:38.000288Z\", \"duration\": \"0:00:58\", \"iteration\": \"22\", \"goal\": \"normalized_root_mean_squared_error_min\", \"run_name\": \"MinMaxScaler, DecisionTree\", \"run_properties\": \"copy=True, feature_range=(0, 1\", \"primary_metric\": 0.0377937, \"best_metric\": 0.02895964}, {\"run_id\": \"AutoML_71b33a45-fd33-4248-ad2c-f228c393967c_23\", \"run_number\": 500, \"metric\": null, \"status\": \"Completed\", \"run_type\": \"azureml.scriptrun\", \"training_percent\": \"100\", \"start_time\": \"2021-02-03T15:15:26.350046Z\", \"end_time\": \"2021-02-03T15:16:21.953104Z\", \"created_time\": \"2021-02-03T15:15:12.52245Z\", \"created_time_dt\": \"2021-02-03T15:15:12.52245Z\", \"duration\": \"0:01:09\", \"iteration\": \"23\", \"goal\": \"normalized_root_mean_squared_error_min\", \"run_name\": \"RobustScaler, GradientBoosting\", \"run_properties\": \"copy=True, quantile_range=[10, 90], with_centering=False,\\n             with_scaling=False\", \"primary_metric\": 0.04444822, \"best_metric\": 0.02895964}, {\"run_id\": \"AutoML_71b33a45-fd33-4248-ad2c-f228c393967c_24\", \"run_number\": 501, \"metric\": null, \"status\": \"Completed\", \"run_type\": \"azureml.scriptrun\", \"training_percent\": \"100\", \"start_time\": \"2021-02-03T15:15:27.009625Z\", \"end_time\": \"2021-02-03T15:16:21.078102Z\", \"created_time\": \"2021-02-03T15:15:17.292745Z\", \"created_time_dt\": \"2021-02-03T15:15:17.292745Z\", \"duration\": \"0:01:03\", \"iteration\": \"24\", \"goal\": \"normalized_root_mean_squared_error_min\", \"run_name\": \"StandardScalerWrapper, DecisionTree\", \"run_properties\": \"<azureml.automl.runtime.shared.model_wrappers.StandardScalerWrapper object at 0x7f49cc336780\", \"primary_metric\": 0.03729003, \"best_metric\": 0.02895964}, {\"run_id\": \"AutoML_71b33a45-fd33-4248-ad2c-f228c393967c_25\", \"run_number\": 502, \"metric\": null, \"status\": \"Completed\", \"run_type\": \"azureml.scriptrun\", \"training_percent\": \"100\", \"start_time\": \"2021-02-03T15:15:33.438544Z\", \"end_time\": \"2021-02-03T15:16:24.322282Z\", \"created_time\": \"2021-02-03T15:15:22.001686Z\", \"created_time_dt\": \"2021-02-03T15:15:22.001686Z\", \"duration\": \"0:01:02\", \"iteration\": \"25\", \"goal\": \"normalized_root_mean_squared_error_min\", \"run_name\": \"StandardScalerWrapper, DecisionTree\", \"run_properties\": \"<azureml.automl.runtime.shared.model_wrappers.StandardScalerWrapper object at 0x7f9b1a71b710\", \"primary_metric\": 0.06332175, \"best_metric\": 0.02895964}, {\"run_id\": \"AutoML_71b33a45-fd33-4248-ad2c-f228c393967c_26\", \"run_number\": 503, \"metric\": null, \"status\": \"Completed\", \"run_type\": \"azureml.scriptrun\", \"training_percent\": \"100\", \"start_time\": \"2021-02-03T15:15:51.465886Z\", \"end_time\": \"2021-02-03T15:16:55.099244Z\", \"created_time\": \"2021-02-03T15:15:39.542652Z\", \"created_time_dt\": \"2021-02-03T15:15:39.542652Z\", \"duration\": \"0:01:15\", \"iteration\": \"26\", \"goal\": \"normalized_root_mean_squared_error_min\", \"run_name\": \"MaxAbsScaler, GradientBoosting\", \"run_properties\": \"copy=True\", \"primary_metric\": 0.02927544, \"best_metric\": 0.02895964}, {\"run_id\": \"AutoML_71b33a45-fd33-4248-ad2c-f228c393967c_27\", \"run_number\": 504, \"metric\": null, \"status\": \"Completed\", \"run_type\": \"azureml.scriptrun\", \"training_percent\": \"100\", \"start_time\": \"2021-02-03T15:16:38.802999Z\", \"end_time\": \"2021-02-03T15:17:34.644234Z\", \"created_time\": \"2021-02-03T15:16:24.309384Z\", \"created_time_dt\": \"2021-02-03T15:16:24.309384Z\", \"duration\": \"0:01:10\", \"iteration\": \"27\", \"goal\": \"normalized_root_mean_squared_error_min\", \"run_name\": \"RobustScaler, RandomForest\", \"run_properties\": \"copy=True, quantile_range=[10, 90], with_centering=True,\\n             with_scaling=True\", \"primary_metric\": 0.05703321, \"best_metric\": 0.02895964}, {\"run_id\": \"AutoML_71b33a45-fd33-4248-ad2c-f228c393967c_28\", \"run_number\": 505, \"metric\": null, \"status\": \"Completed\", \"run_type\": \"azureml.scriptrun\", \"training_percent\": \"100\", \"start_time\": \"2021-02-03T15:16:45.714323Z\", \"end_time\": \"2021-02-03T15:17:35.045128Z\", \"created_time\": \"2021-02-03T15:16:29.815711Z\", \"created_time_dt\": \"2021-02-03T15:16:29.815711Z\", \"duration\": \"0:01:05\", \"iteration\": \"28\", \"goal\": \"normalized_root_mean_squared_error_min\", \"run_name\": \"StandardScalerWrapper, RandomForest\", \"run_properties\": \"<azureml.automl.runtime.shared.model_wrappers.StandardScalerWrapper object at 0x7fb6f23953c8\", \"primary_metric\": 0.05217644, \"best_metric\": 0.02895964}, {\"run_id\": \"AutoML_71b33a45-fd33-4248-ad2c-f228c393967c_29\", \"run_number\": 506, \"metric\": null, \"status\": \"Completed\", \"run_type\": \"azureml.scriptrun\", \"training_percent\": \"100\", \"start_time\": \"2021-02-03T15:16:40.247061Z\", \"end_time\": \"2021-02-03T15:17:32.239734Z\", \"created_time\": \"2021-02-03T15:16:29.897588Z\", \"created_time_dt\": \"2021-02-03T15:16:29.897588Z\", \"duration\": \"0:01:02\", \"iteration\": \"29\", \"goal\": \"normalized_root_mean_squared_error_min\", \"run_name\": \"StandardScalerWrapper, GradientBoosting\", \"run_properties\": \"<azureml.automl.runtime.shared.model_wrappers.StandardScalerWrapper object at 0x7fdca0539b00\", \"primary_metric\": 0.05543786, \"best_metric\": 0.02895964}, {\"run_id\": \"AutoML_71b33a45-fd33-4248-ad2c-f228c393967c_30\", \"run_number\": 507, \"metric\": null, \"status\": \"Completed\", \"run_type\": \"azureml.scriptrun\", \"training_percent\": \"100\", \"start_time\": \"2021-02-03T15:17:12.726552Z\", \"end_time\": \"2021-02-03T15:17:56.706685Z\", \"created_time\": \"2021-02-03T15:16:58.148514Z\", \"created_time_dt\": \"2021-02-03T15:16:58.148514Z\", \"duration\": \"0:00:58\", \"iteration\": \"30\", \"goal\": \"normalized_root_mean_squared_error_min\", \"run_name\": \"MinMaxScaler, DecisionTree\", \"run_properties\": \"copy=True, feature_range=(0, 1\", \"primary_metric\": 0.09127057, \"best_metric\": 0.02895964}, {\"run_id\": \"AutoML_71b33a45-fd33-4248-ad2c-f228c393967c_31\", \"run_number\": 508, \"metric\": null, \"status\": \"Canceled\", \"run_type\": \"azureml.scriptrun\", \"training_percent\": \"100\", \"start_time\": \"2021-02-03T15:17:45.583631Z\", \"end_time\": \"2021-02-03T15:18:42.886738Z\", \"created_time\": \"2021-02-03T15:17:34.581054Z\", \"created_time_dt\": \"2021-02-03T15:17:34.581054Z\", \"duration\": \"0:01:08\", \"iteration\": \"31\", \"goal\": \"normalized_root_mean_squared_error_min\", \"run_name\": \"StandardScalerWrapper, ExtremeRandomTrees\", \"run_properties\": \"<azureml.automl.runtime.shared.model_wrappers.StandardScalerWrapper object at 0x7ffad9f905f8\", \"primary_metric\": 0.04823995, \"best_metric\": 0.02895964}, {\"run_id\": \"AutoML_71b33a45-fd33-4248-ad2c-f228c393967c_33\", \"run_number\": 509, \"metric\": null, \"status\": \"Completed\", \"run_type\": \"azureml.scriptrun\", \"training_percent\": \"100\", \"start_time\": \"2021-02-03T15:17:47.885283Z\", \"end_time\": \"2021-02-03T15:18:38.922015Z\", \"created_time\": \"2021-02-03T15:17:37.859697Z\", \"created_time_dt\": \"2021-02-03T15:17:37.859697Z\", \"duration\": \"0:01:01\", \"iteration\": \"33\", \"goal\": \"normalized_root_mean_squared_error_min\", \"run_name\": \"StandardScalerWrapper, ExtremeRandomTrees\", \"run_properties\": \"<azureml.automl.runtime.shared.model_wrappers.StandardScalerWrapper object at 0x7fde442b1860\", \"primary_metric\": 0.05875502, \"best_metric\": 0.02895964}, {\"run_id\": \"AutoML_71b33a45-fd33-4248-ad2c-f228c393967c_32\", \"run_number\": 510, \"metric\": null, \"status\": \"Completed\", \"run_type\": \"azureml.scriptrun\", \"training_percent\": \"100\", \"start_time\": \"2021-02-03T15:17:48.246552Z\", \"end_time\": \"2021-02-03T15:18:39.117632Z\", \"created_time\": \"2021-02-03T15:17:37.910968Z\", \"created_time_dt\": \"2021-02-03T15:17:37.910968Z\", \"duration\": \"0:01:01\", \"iteration\": \"32\", \"goal\": \"normalized_root_mean_squared_error_min\", \"run_name\": \"RobustScaler, RandomForest\", \"run_properties\": \"copy=True, quantile_range=[25, 75], with_centering=False,\\n             with_scaling=False\", \"primary_metric\": 0.05909127, \"best_metric\": 0.02895964}, {\"run_id\": \"AutoML_71b33a45-fd33-4248-ad2c-f228c393967c_34\", \"run_number\": 511, \"metric\": null, \"status\": \"Canceled\", \"run_type\": \"azureml.scriptrun\", \"training_percent\": \"100\", \"start_time\": \"2021-02-03T15:18:09.689785Z\", \"end_time\": \"2021-02-03T15:18:45.6939Z\", \"created_time\": \"2021-02-03T15:17:58.45816Z\", \"created_time_dt\": \"2021-02-03T15:17:58.45816Z\", \"duration\": \"0:00:47\", \"iteration\": \"34\", \"goal\": \"normalized_root_mean_squared_error_min\", \"run_name\": \"MaxAbsScaler, RandomForest\", \"run_properties\": \"copy=True\", \"primary_metric\": 0.06272361, \"best_metric\": 0.02895964}, {\"run_id\": \"AutoML_71b33a45-fd33-4248-ad2c-f228c393967c_35\", \"run_number\": 512, \"metric\": null, \"status\": \"Completed\", \"run_type\": \"azureml.scriptrun\", \"training_percent\": \"100\", \"start_time\": \"2021-02-03T15:18:58.997901Z\", \"end_time\": \"2021-02-03T15:20:30.618304Z\", \"created_time\": \"2021-02-03T15:18:46.389279Z\", \"created_time_dt\": \"2021-02-03T15:18:46.389279Z\", \"duration\": \"0:01:44\", \"iteration\": \"35\", \"goal\": \"normalized_root_mean_squared_error_min\", \"run_name\": \"VotingEnsemble\", \"run_properties\": \"estimators=[('10',\\n                                          Pipeline(memory=None,\\n                                                   steps=[('standardscalerwrapper',\\n                                                           <azureml.automl.runtime.shared.model_wrappers.StandardScalerWrapper object at 0x7f91ca54cbe0>\", \"primary_metric\": 0.02611513, \"best_metric\": 0.02611513}], \"children_metrics\": {\"categories\": [0], \"series\": {\"mean_absolute_error\": [{\"categories\": [\"0\", \"1\", \"2\", \"3\", \"4\", \"5\", \"6\", \"7\", \"8\", \"9\", \"10\", \"11\", \"12\", \"13\", \"14\", \"15\", \"16\", \"17\", \"18\", \"19\", \"20\", \"21\", \"22\", \"23\", \"24\", \"25\", \"26\", \"27\", \"28\", \"29\", \"30\", \"31\", \"32\", \"33\", \"34\", \"35\"], \"mode\": \"markers\", \"name\": \"mean_absolute_error\", \"stepped\": false, \"type\": \"scatter\", \"data\": [291289.90495296865, 334021.44628951175, 587954.3930266381, 131239.0, 210736.842857143, 131239.0, 579036.3106662392, 247003.1104761904, 593973.4231754994, 229220.60638694622, 101920.93333333339, 131239.0, 603929.491107214, 207966.57, 251964.5688095237, 257134.15, 207966.57, 131239.0, 207966.57, 210736.842857143, 203846.54333333345, 587954.264896512, 133011.65, 156431.65628803373, 131239.0, 222855.4, 103032.3804929574, 200723.412, 183630.4567765575, 195108.73525866595, 321218.8433333334, 169776.31999999992, 207966.5699999895, 206783.19000000003, 220750.27106516677, 91909.93217173731]}, {\"categories\": [\"0\", \"1\", \"2\", \"3\", \"4\", \"5\", \"6\", \"7\", \"8\", \"9\", \"10\", \"11\", \"12\", \"13\", \"14\", \"15\", \"16\", \"17\", \"18\", \"19\", \"20\", \"21\", \"22\", \"23\", \"24\", \"25\", \"26\", \"27\", \"28\", \"29\", \"30\", \"31\", \"32\", \"33\", \"34\", \"35\"], \"mode\": \"lines\", \"name\": \"mean_absolute_error_min\", \"stepped\": true, \"type\": \"scatter\", \"data\": [291289.90495296865, 291289.90495296865, 291289.90495296865, 131239.0, 131239.0, 131239.0, 131239.0, 131239.0, 131239.0, 131239.0, 101920.93333333339, 101920.93333333339, 101920.93333333339, 101920.93333333339, 101920.93333333339, 101920.93333333339, 101920.93333333339, 101920.93333333339, 101920.93333333339, 101920.93333333339, 101920.93333333339, 101920.93333333339, 101920.93333333339, 101920.93333333339, 101920.93333333339, 101920.93333333339, 101920.93333333339, 101920.93333333339, 101920.93333333339, 101920.93333333339, 101920.93333333339, 101920.93333333339, 101920.93333333339, 101920.93333333339, 101920.93333333339, 91909.93217173731]}], \"mean_absolute_percentage_error\": [{\"categories\": [\"0\", \"1\", \"2\", \"3\", \"4\", \"5\", \"6\", \"7\", \"8\", \"9\", \"10\", \"11\", \"12\", \"13\", \"14\", \"15\", \"16\", \"17\", \"18\", \"19\", \"20\", \"21\", \"22\", \"23\", \"24\", \"25\", \"26\", \"27\", \"28\", \"29\", \"30\", \"31\", \"32\", \"33\", \"34\", \"35\"], \"mode\": \"markers\", \"name\": \"mean_absolute_percentage_error\", \"stepped\": false, \"type\": \"scatter\", \"data\": [6.80930370108472, 7.925995980428899, 13.984929910374152, 2.9506665362455466, 4.990156434860077, 2.9506665362455466, 13.90458604669264, 5.790692077464378, 14.248797635557105, 5.209835904903635, 2.329015003293967, 2.9506665362455466, 14.474970899358363, 4.908608760461485, 5.9300724297492975, 6.067742806755103, 4.908608760461485, 2.9506665362455466, 4.908608760461485, 4.990156434860077, 4.821338401463491, 13.98492594801578, 2.9912263121777527, 3.5149855184297905, 2.9506665362455466, 5.180078486523017, 2.426551876777178, 4.651220826475987, 4.11883896689138, 4.565407604412259, 7.654586880287054, 3.926579225172509, 4.908608760461214, 4.67197623548361, 4.986714617108855, 2.0767819740382425]}, {\"categories\": [\"0\", \"1\", \"2\", \"3\", \"4\", \"5\", \"6\", \"7\", \"8\", \"9\", \"10\", \"11\", \"12\", \"13\", \"14\", \"15\", \"16\", \"17\", \"18\", \"19\", \"20\", \"21\", \"22\", \"23\", \"24\", \"25\", \"26\", \"27\", \"28\", \"29\", \"30\", \"31\", \"32\", \"33\", \"34\", \"35\"], \"mode\": \"lines\", \"name\": \"mean_absolute_percentage_error_min\", \"stepped\": true, \"type\": \"scatter\", \"data\": [6.80930370108472, 6.80930370108472, 6.80930370108472, 2.9506665362455466, 2.9506665362455466, 2.9506665362455466, 2.9506665362455466, 2.9506665362455466, 2.9506665362455466, 2.9506665362455466, 2.329015003293967, 2.329015003293967, 2.329015003293967, 2.329015003293967, 2.329015003293967, 2.329015003293967, 2.329015003293967, 2.329015003293967, 2.329015003293967, 2.329015003293967, 2.329015003293967, 2.329015003293967, 2.329015003293967, 2.329015003293967, 2.329015003293967, 2.329015003293967, 2.329015003293967, 2.329015003293967, 2.329015003293967, 2.329015003293967, 2.329015003293967, 2.329015003293967, 2.329015003293967, 2.329015003293967, 2.329015003293967, 2.0767819740382425]}], \"r2_score\": [{\"categories\": [\"0\", \"1\", \"2\", \"3\", \"4\", \"5\", \"6\", \"7\", \"8\", \"9\", \"10\", \"11\", \"12\", \"13\", \"14\", \"15\", \"16\", \"17\", \"18\", \"19\", \"20\", \"21\", \"22\", \"23\", \"24\", \"25\", \"26\", \"27\", \"28\", \"29\", \"30\", \"31\", \"32\", \"33\", \"34\", \"35\"], \"mode\": \"markers\", \"name\": \"r2_score\", \"stepped\": false, \"type\": \"scatter\", \"data\": [0.0, 0.0, 0.0, 0.0, 0.0, 0.0, 0.0, 0.0, 0.0, 0.0, 0.0, 0.0, 0.0, 0.0, 0.0, 0.0, 0.0, 0.0, 0.0, 0.0, 0.0, 0.0, 0.0, 0.0, 0.0, 0.0, 0.0, 0.0, 0.0, 0.0, 0.0, 0.0, 0.0, 0.0, 0.0, 0.0]}, {\"categories\": [\"0\", \"1\", \"2\", \"3\", \"4\", \"5\", \"6\", \"7\", \"8\", \"9\", \"10\", \"11\", \"12\", \"13\", \"14\", \"15\", \"16\", \"17\", \"18\", \"19\", \"20\", \"21\", \"22\", \"23\", \"24\", \"25\", \"26\", \"27\", \"28\", \"29\", \"30\", \"31\", \"32\", \"33\", \"34\", \"35\"], \"mode\": \"lines\", \"name\": \"r2_score_max\", \"stepped\": true, \"type\": \"scatter\", \"data\": [0.0, 0.0, 0.0, 0.0, 0.0, 0.0, 0.0, 0.0, 0.0, 0.0, 0.0, 0.0, 0.0, 0.0, 0.0, 0.0, 0.0, 0.0, 0.0, 0.0, 0.0, 0.0, 0.0, 0.0, 0.0, 0.0, 0.0, 0.0, 0.0, 0.0, 0.0, 0.0, 0.0, 0.0, 0.0, 0.0]}], \"root_mean_squared_error\": [{\"categories\": [\"0\", \"1\", \"2\", \"3\", \"4\", \"5\", \"6\", \"7\", \"8\", \"9\", \"10\", \"11\", \"12\", \"13\", \"14\", \"15\", \"16\", \"17\", \"18\", \"19\", \"20\", \"21\", \"22\", \"23\", \"24\", \"25\", \"26\", \"27\", \"28\", \"29\", \"30\", \"31\", \"32\", \"33\", \"34\", \"35\"], \"mode\": \"markers\", \"name\": \"root_mean_squared_error\", \"stepped\": false, \"type\": \"scatter\", \"data\": [291289.90495296865, 334021.44628951175, 587954.3930266381, 131239.0, 210736.842857143, 131239.0, 579036.3106662392, 247003.1104761904, 593973.4231754994, 229220.60638694622, 101920.93333333339, 131239.0, 603929.491107214, 207966.57, 251964.5688095237, 257134.15, 207966.57, 131239.0, 207966.57, 210736.842857143, 203846.54333333345, 587954.264896512, 133011.65, 156431.65628803373, 131239.0, 222855.4, 103032.3804929574, 200723.412, 183630.4567765575, 195108.73525866595, 321218.8433333334, 169776.31999999992, 207966.5699999895, 206783.19000000003, 220750.27106516677, 91909.93217173731]}, {\"categories\": [\"0\", \"1\", \"2\", \"3\", \"4\", \"5\", \"6\", \"7\", \"8\", \"9\", \"10\", \"11\", \"12\", \"13\", \"14\", \"15\", \"16\", \"17\", \"18\", \"19\", \"20\", \"21\", \"22\", \"23\", \"24\", \"25\", \"26\", \"27\", \"28\", \"29\", \"30\", \"31\", \"32\", \"33\", \"34\", \"35\"], \"mode\": \"lines\", \"name\": \"root_mean_squared_error_min\", \"stepped\": true, \"type\": \"scatter\", \"data\": [291289.90495296865, 291289.90495296865, 291289.90495296865, 131239.0, 131239.0, 131239.0, 131239.0, 131239.0, 131239.0, 131239.0, 101920.93333333339, 101920.93333333339, 101920.93333333339, 101920.93333333339, 101920.93333333339, 101920.93333333339, 101920.93333333339, 101920.93333333339, 101920.93333333339, 101920.93333333339, 101920.93333333339, 101920.93333333339, 101920.93333333339, 101920.93333333339, 101920.93333333339, 101920.93333333339, 101920.93333333339, 101920.93333333339, 101920.93333333339, 101920.93333333339, 101920.93333333339, 101920.93333333339, 101920.93333333339, 101920.93333333339, 101920.93333333339, 91909.93217173731]}], \"median_absolute_error\": [{\"categories\": [\"0\", \"1\", \"2\", \"3\", \"4\", \"5\", \"6\", \"7\", \"8\", \"9\", \"10\", \"11\", \"12\", \"13\", \"14\", \"15\", \"16\", \"17\", \"18\", \"19\", \"20\", \"21\", \"22\", \"23\", \"24\", \"25\", \"26\", \"27\", \"28\", \"29\", \"30\", \"31\", \"32\", \"33\", \"34\", \"35\"], \"mode\": \"markers\", \"name\": \"median_absolute_error\", \"stepped\": false, \"type\": \"scatter\", \"data\": [291289.90495296865, 334021.44628951175, 587954.3930266381, 131239.0, 210736.842857143, 131239.0, 579036.3106662392, 247003.1104761904, 593973.4231754994, 229220.60638694622, 101920.93333333339, 131239.0, 603929.491107214, 207966.57, 251964.5688095237, 257134.15, 207966.57, 131239.0, 207966.57, 210736.842857143, 203846.54333333345, 587954.264896512, 133011.65, 156431.65628803373, 131239.0, 222855.4, 103032.3804929574, 200723.412, 183630.4567765575, 195108.73525866595, 321218.8433333334, 169776.31999999992, 207966.5699999895, 206783.19000000003, 220750.27106516677, 91909.93217173731]}, {\"categories\": [\"0\", \"1\", \"2\", \"3\", \"4\", \"5\", \"6\", \"7\", \"8\", \"9\", \"10\", \"11\", \"12\", \"13\", \"14\", \"15\", \"16\", \"17\", \"18\", \"19\", \"20\", \"21\", \"22\", \"23\", \"24\", \"25\", \"26\", \"27\", \"28\", \"29\", \"30\", \"31\", \"32\", \"33\", \"34\", \"35\"], \"mode\": \"lines\", \"name\": \"median_absolute_error_min\", \"stepped\": true, \"type\": \"scatter\", \"data\": [291289.90495296865, 291289.90495296865, 291289.90495296865, 131239.0, 131239.0, 131239.0, 131239.0, 131239.0, 131239.0, 131239.0, 101920.93333333339, 101920.93333333339, 101920.93333333339, 101920.93333333339, 101920.93333333339, 101920.93333333339, 101920.93333333339, 101920.93333333339, 101920.93333333339, 101920.93333333339, 101920.93333333339, 101920.93333333339, 101920.93333333339, 101920.93333333339, 101920.93333333339, 101920.93333333339, 101920.93333333339, 101920.93333333339, 101920.93333333339, 101920.93333333339, 101920.93333333339, 101920.93333333339, 101920.93333333339, 101920.93333333339, 101920.93333333339, 91909.93217173731]}], \"normalized_root_mean_squared_error\": [{\"categories\": [\"0\", \"1\", \"2\", \"3\", \"4\", \"5\", \"6\", \"7\", \"8\", \"9\", \"10\", \"11\", \"12\", \"13\", \"14\", \"15\", \"16\", \"17\", \"18\", \"19\", \"20\", \"21\", \"22\", \"23\", \"24\", \"25\", \"26\", \"27\", \"28\", \"29\", \"30\", \"31\", \"32\", \"33\", \"34\", \"35\"], \"mode\": \"markers\", \"name\": \"normalized_root_mean_squared_error\", \"stepped\": false, \"type\": \"scatter\", \"data\": [0.08276661618087126, 0.09490828336700233, 0.16706035723191284, 0.037290025353659835, 0.05987840667098263, 0.037290025353659835, 0.16452638853872484, 0.07018304202325513, 0.16877059418019408, 0.06513035167709678, 0.028959639955109955, 0.037290025353659835, 0.17159949432113084, 0.05909126607192734, 0.07159278232180302, 0.07306165829358476, 0.05909126607192734, 0.037290025353659835, 0.05909126607192734, 0.05987840667098263, 0.0579206087303006, 0.16706032082523764, 0.03779370309764725, 0.0444482236918582, 0.037290025353659835, 0.06332175280366356, 0.02927544465311613, 0.05703320752636874, 0.05217644441745186, 0.055437862864820345, 0.09127057362501456, 0.04823995365136173, 0.05909126607192435, 0.058755022499490696, 0.0627236050628803, 0.026115131180039768]}, {\"categories\": [\"0\", \"1\", \"2\", \"3\", \"4\", \"5\", \"6\", \"7\", \"8\", \"9\", \"10\", \"11\", \"12\", \"13\", \"14\", \"15\", \"16\", \"17\", \"18\", \"19\", \"20\", \"21\", \"22\", \"23\", \"24\", \"25\", \"26\", \"27\", \"28\", \"29\", \"30\", \"31\", \"32\", \"33\", \"34\", \"35\"], \"mode\": \"lines\", \"name\": \"normalized_root_mean_squared_error_min\", \"stepped\": true, \"type\": \"scatter\", \"data\": [0.08276661618087126, 0.08276661618087126, 0.08276661618087126, 0.037290025353659835, 0.037290025353659835, 0.037290025353659835, 0.037290025353659835, 0.037290025353659835, 0.037290025353659835, 0.037290025353659835, 0.028959639955109955, 0.028959639955109955, 0.028959639955109955, 0.028959639955109955, 0.028959639955109955, 0.028959639955109955, 0.028959639955109955, 0.028959639955109955, 0.028959639955109955, 0.028959639955109955, 0.028959639955109955, 0.028959639955109955, 0.028959639955109955, 0.028959639955109955, 0.028959639955109955, 0.028959639955109955, 0.028959639955109955, 0.028959639955109955, 0.028959639955109955, 0.028959639955109955, 0.028959639955109955, 0.028959639955109955, 0.028959639955109955, 0.028959639955109955, 0.028959639955109955, 0.026115131180039768]}], \"normalized_median_absolute_error\": [{\"categories\": [\"0\", \"1\", \"2\", \"3\", \"4\", \"5\", \"6\", \"7\", \"8\", \"9\", \"10\", \"11\", \"12\", \"13\", \"14\", \"15\", \"16\", \"17\", \"18\", \"19\", \"20\", \"21\", \"22\", \"23\", \"24\", \"25\", \"26\", \"27\", \"28\", \"29\", \"30\", \"31\", \"32\", \"33\", \"34\", \"35\"], \"mode\": \"markers\", \"name\": \"normalized_median_absolute_error\", \"stepped\": false, \"type\": \"scatter\", \"data\": [0.08276661618087126, 0.09490828336700233, 0.16706035723191284, 0.037290025353659835, 0.05987840667098263, 0.037290025353659835, 0.16452638853872484, 0.07018304202325513, 0.16877059418019408, 0.06513035167709678, 0.028959639955109955, 0.037290025353659835, 0.17159949432113084, 0.05909126607192734, 0.07159278232180302, 0.07306165829358476, 0.05909126607192734, 0.037290025353659835, 0.05909126607192734, 0.05987840667098263, 0.0579206087303006, 0.16706032082523764, 0.03779370309764725, 0.0444482236918582, 0.037290025353659835, 0.06332175280366356, 0.02927544465311613, 0.05703320752636874, 0.05217644441745186, 0.055437862864820345, 0.09127057362501456, 0.04823995365136173, 0.05909126607192435, 0.058755022499490696, 0.0627236050628803, 0.026115131180039768]}, {\"categories\": [\"0\", \"1\", \"2\", \"3\", \"4\", \"5\", \"6\", \"7\", \"8\", \"9\", \"10\", \"11\", \"12\", \"13\", \"14\", \"15\", \"16\", \"17\", \"18\", \"19\", \"20\", \"21\", \"22\", \"23\", \"24\", \"25\", \"26\", \"27\", \"28\", \"29\", \"30\", \"31\", \"32\", \"33\", \"34\", \"35\"], \"mode\": \"lines\", \"name\": \"normalized_median_absolute_error_min\", \"stepped\": true, \"type\": \"scatter\", \"data\": [0.08276661618087126, 0.08276661618087126, 0.08276661618087126, 0.037290025353659835, 0.037290025353659835, 0.037290025353659835, 0.037290025353659835, 0.037290025353659835, 0.037290025353659835, 0.037290025353659835, 0.028959639955109955, 0.028959639955109955, 0.028959639955109955, 0.028959639955109955, 0.028959639955109955, 0.028959639955109955, 0.028959639955109955, 0.028959639955109955, 0.028959639955109955, 0.028959639955109955, 0.028959639955109955, 0.028959639955109955, 0.028959639955109955, 0.028959639955109955, 0.028959639955109955, 0.028959639955109955, 0.028959639955109955, 0.028959639955109955, 0.028959639955109955, 0.028959639955109955, 0.028959639955109955, 0.028959639955109955, 0.028959639955109955, 0.028959639955109955, 0.028959639955109955, 0.026115131180039768]}], \"explained_variance\": [{\"categories\": [\"0\", \"1\", \"2\", \"3\", \"4\", \"5\", \"6\", \"7\", \"8\", \"9\", \"10\", \"11\", \"12\", \"13\", \"14\", \"15\", \"16\", \"17\", \"18\", \"19\", \"20\", \"21\", \"22\", \"23\", \"24\", \"25\", \"26\", \"27\", \"28\", \"29\", \"30\", \"31\", \"32\", \"33\", \"34\", \"35\"], \"mode\": \"markers\", \"name\": \"explained_variance\", \"stepped\": false, \"type\": \"scatter\", \"data\": [1.0, 1.0, 1.0, 1.0, 1.0, 1.0, 1.0, 1.0, 1.0, 1.0, 1.0, 1.0, 1.0, 1.0, 1.0, 1.0, 1.0, 1.0, 1.0, 1.0, 1.0, 1.0, 1.0, 1.0, 1.0, 1.0, 1.0, 1.0, 1.0, 1.0, 1.0, 1.0, 1.0, 1.0, 1.0, 1.0]}, {\"categories\": [\"0\", \"1\", \"2\", \"3\", \"4\", \"5\", \"6\", \"7\", \"8\", \"9\", \"10\", \"11\", \"12\", \"13\", \"14\", \"15\", \"16\", \"17\", \"18\", \"19\", \"20\", \"21\", \"22\", \"23\", \"24\", \"25\", \"26\", \"27\", \"28\", \"29\", \"30\", \"31\", \"32\", \"33\", \"34\", \"35\"], \"mode\": \"lines\", \"name\": \"explained_variance_max\", \"stepped\": true, \"type\": \"scatter\", \"data\": [1.0, 1.0, 1.0, 1.0, 1.0, 1.0, 1.0, 1.0, 1.0, 1.0, 1.0, 1.0, 1.0, 1.0, 1.0, 1.0, 1.0, 1.0, 1.0, 1.0, 1.0, 1.0, 1.0, 1.0, 1.0, 1.0, 1.0, 1.0, 1.0, 1.0, 1.0, 1.0, 1.0, 1.0, 1.0, 1.0]}], \"root_mean_squared_log_error\": [{\"categories\": [\"0\", \"1\", \"2\", \"3\", \"4\", \"5\", \"6\", \"7\", \"8\", \"9\", \"10\", \"11\", \"12\", \"13\", \"14\", \"15\", \"16\", \"17\", \"18\", \"19\", \"20\", \"21\", \"22\", \"23\", \"24\", \"25\", \"26\", \"27\", \"28\", \"29\", \"30\", \"31\", \"32\", \"33\", \"34\", \"35\"], \"mode\": \"markers\", \"name\": \"root_mean_squared_log_error\", \"stepped\": false, \"type\": \"scatter\", \"data\": [0.06796603800823675, 0.07559347733250518, 0.1292485333799064, 0.02975668301225056, 0.04946918889967904, 0.02975668301225056, 0.127782165286677, 0.058619346586514, 0.13079485561396248, 0.05433333199430486, 0.023232164846234582, 0.02975668301225056, 0.1327884734203618, 0.04888709614291074, 0.05965342426118099, 0.06157834462363674, 0.04888709614291074, 0.02975668301225056, 0.04888709614291074, 0.04946918889967904, 0.047976693297772856, 0.12924850425538637, 0.03014653700537053, 0.03588118549925277, 0.02975668301225056, 0.05538264944594466, 0.02409108598274514, 0.046406753934045496, 0.04225388691750602, 0.0456851346754501, 0.08062304996741787, 0.03970890236873572, 0.048887096142908246, 0.047658466894750263, 0.051298567430228204, 0.020822126204087965]}, {\"categories\": [\"0\", \"1\", \"2\", \"3\", \"4\", \"5\", \"6\", \"7\", \"8\", \"9\", \"10\", \"11\", \"12\", \"13\", \"14\", \"15\", \"16\", \"17\", \"18\", \"19\", \"20\", \"21\", \"22\", \"23\", \"24\", \"25\", \"26\", \"27\", \"28\", \"29\", \"30\", \"31\", \"32\", \"33\", \"34\", \"35\"], \"mode\": \"lines\", \"name\": \"root_mean_squared_log_error_min\", \"stepped\": true, \"type\": \"scatter\", \"data\": [0.06796603800823675, 0.06796603800823675, 0.06796603800823675, 0.02975668301225056, 0.02975668301225056, 0.02975668301225056, 0.02975668301225056, 0.02975668301225056, 0.02975668301225056, 0.02975668301225056, 0.023232164846234582, 0.023232164846234582, 0.023232164846234582, 0.023232164846234582, 0.023232164846234582, 0.023232164846234582, 0.023232164846234582, 0.023232164846234582, 0.023232164846234582, 0.023232164846234582, 0.023232164846234582, 0.023232164846234582, 0.023232164846234582, 0.023232164846234582, 0.023232164846234582, 0.023232164846234582, 0.023232164846234582, 0.023232164846234582, 0.023232164846234582, 0.023232164846234582, 0.023232164846234582, 0.023232164846234582, 0.023232164846234582, 0.023232164846234582, 0.023232164846234582, 0.020822126204087965]}], \"normalized_mean_absolute_error\": [{\"categories\": [\"0\", \"1\", \"2\", \"3\", \"4\", \"5\", \"6\", \"7\", \"8\", \"9\", \"10\", \"11\", \"12\", \"13\", \"14\", \"15\", \"16\", \"17\", \"18\", \"19\", \"20\", \"21\", \"22\", \"23\", \"24\", \"25\", \"26\", \"27\", \"28\", \"29\", \"30\", \"31\", \"32\", \"33\", \"34\", \"35\"], \"mode\": \"markers\", \"name\": \"normalized_mean_absolute_error\", \"stepped\": false, \"type\": \"scatter\", \"data\": [0.08276661618087126, 0.09490828336700233, 0.16706035723191284, 0.037290025353659835, 0.05987840667098263, 0.037290025353659835, 0.16452638853872484, 0.07018304202325513, 0.16877059418019408, 0.06513035167709678, 0.028959639955109955, 0.037290025353659835, 0.17159949432113084, 0.05909126607192734, 0.07159278232180302, 0.07306165829358476, 0.05909126607192734, 0.037290025353659835, 0.05909126607192734, 0.05987840667098263, 0.0579206087303006, 0.16706032082523764, 0.03779370309764725, 0.0444482236918582, 0.037290025353659835, 0.06332175280366356, 0.02927544465311613, 0.05703320752636874, 0.05217644441745186, 0.055437862864820345, 0.09127057362501456, 0.04823995365136173, 0.05909126607192435, 0.058755022499490696, 0.0627236050628803, 0.026115131180039768]}, {\"categories\": [\"0\", \"1\", \"2\", \"3\", \"4\", \"5\", \"6\", \"7\", \"8\", \"9\", \"10\", \"11\", \"12\", \"13\", \"14\", \"15\", \"16\", \"17\", \"18\", \"19\", \"20\", \"21\", \"22\", \"23\", \"24\", \"25\", \"26\", \"27\", \"28\", \"29\", \"30\", \"31\", \"32\", \"33\", \"34\", \"35\"], \"mode\": \"lines\", \"name\": \"normalized_mean_absolute_error_min\", \"stepped\": true, \"type\": \"scatter\", \"data\": [0.08276661618087126, 0.08276661618087126, 0.08276661618087126, 0.037290025353659835, 0.037290025353659835, 0.037290025353659835, 0.037290025353659835, 0.037290025353659835, 0.037290025353659835, 0.037290025353659835, 0.028959639955109955, 0.028959639955109955, 0.028959639955109955, 0.028959639955109955, 0.028959639955109955, 0.028959639955109955, 0.028959639955109955, 0.028959639955109955, 0.028959639955109955, 0.028959639955109955, 0.028959639955109955, 0.028959639955109955, 0.028959639955109955, 0.028959639955109955, 0.028959639955109955, 0.028959639955109955, 0.028959639955109955, 0.028959639955109955, 0.028959639955109955, 0.028959639955109955, 0.028959639955109955, 0.028959639955109955, 0.028959639955109955, 0.028959639955109955, 0.028959639955109955, 0.026115131180039768]}], \"normalized_root_mean_squared_log_error\": [{\"categories\": [\"0\", \"1\", \"2\", \"3\", \"4\", \"5\", \"6\", \"7\", \"8\", \"9\", \"10\", \"11\", \"12\", \"13\", \"14\", \"15\", \"16\", \"17\", \"18\", \"19\", \"20\", \"21\", \"22\", \"23\", \"24\", \"25\", \"26\", \"27\", \"28\", \"29\", \"30\", \"31\", \"32\", \"33\", \"34\", \"35\"], \"mode\": \"markers\", \"name\": \"normalized_root_mean_squared_log_error\", \"stepped\": false, \"type\": \"scatter\", \"data\": [0.07161745556671892, 0.07965467257835994, 0.13619230085586648, 0.03135533548659301, 0.05212687897910177, 0.03135533548659301, 0.134647153384587, 0.06176862110163006, 0.13782169793615412, 0.05725234402250051, 0.02448029313393634, 0.03135533548659301, 0.1399224211627974, 0.05151351378428918, 0.06285825371945344, 0.06488658879043316, 0.05151351378428918, 0.03135533548659301, 0.05151351378428918, 0.05212687897910177, 0.05055420032097423, 0.1361922701666564, 0.03176613405375965, 0.03780887165826133, 0.03135533548659301, 0.058358035161346786, 0.025385359077634666, 0.048899917300819946, 0.04452394103756528, 0.048139529661595175, 0.08495445472333052, 0.04184222935948491, 0.051513513784286556, 0.05021887747523376, 0.05405453931455397, 0.021940777216485137]}, {\"categories\": [\"0\", \"1\", \"2\", \"3\", \"4\", \"5\", \"6\", \"7\", \"8\", \"9\", \"10\", \"11\", \"12\", \"13\", \"14\", \"15\", \"16\", \"17\", \"18\", \"19\", \"20\", \"21\", \"22\", \"23\", \"24\", \"25\", \"26\", \"27\", \"28\", \"29\", \"30\", \"31\", \"32\", \"33\", \"34\", \"35\"], \"mode\": \"lines\", \"name\": \"normalized_root_mean_squared_log_error_min\", \"stepped\": true, \"type\": \"scatter\", \"data\": [0.07161745556671892, 0.07161745556671892, 0.07161745556671892, 0.03135533548659301, 0.03135533548659301, 0.03135533548659301, 0.03135533548659301, 0.03135533548659301, 0.03135533548659301, 0.03135533548659301, 0.02448029313393634, 0.02448029313393634, 0.02448029313393634, 0.02448029313393634, 0.02448029313393634, 0.02448029313393634, 0.02448029313393634, 0.02448029313393634, 0.02448029313393634, 0.02448029313393634, 0.02448029313393634, 0.02448029313393634, 0.02448029313393634, 0.02448029313393634, 0.02448029313393634, 0.02448029313393634, 0.02448029313393634, 0.02448029313393634, 0.02448029313393634, 0.02448029313393634, 0.02448029313393634, 0.02448029313393634, 0.02448029313393634, 0.02448029313393634, 0.02448029313393634, 0.021940777216485137]}], \"spearman_correlation\": [{\"categories\": [\"0\", \"1\", \"2\", \"3\", \"4\", \"5\", \"6\", \"7\", \"8\", \"9\", \"10\", \"11\", \"12\", \"13\", \"14\", \"15\", \"16\", \"17\", \"18\", \"19\", \"20\", \"21\", \"22\", \"23\", \"24\", \"25\", \"26\", \"27\", \"28\", \"29\", \"30\", \"31\", \"32\", \"33\", \"34\", \"35\"], \"mode\": \"markers\", \"name\": \"spearman_correlation\", \"stepped\": false, \"type\": \"scatter\", \"data\": [-1.0, -1.0, -1.0, -1.0, -1.0, -1.0, -1.0, -1.0, -1.0, -1.0, -1.0, -1.0, -1.0, -1.0, -1.0, -1.0, -1.0, -1.0, -1.0, -1.0, -1.0, -1.0, -1.0, -1.0, -1.0, -1.0, -1.0, -1.0, -1.0, -1.0, -1.0, -1.0, -1.0, -1.0, -1.0, -1.0]}, {\"categories\": [\"0\", \"1\", \"2\", \"3\", \"4\", \"5\", \"6\", \"7\", \"8\", \"9\", \"10\", \"11\", \"12\", \"13\", \"14\", \"15\", \"16\", \"17\", \"18\", \"19\", \"20\", \"21\", \"22\", \"23\", \"24\", \"25\", \"26\", \"27\", \"28\", \"29\", \"30\", \"31\", \"32\", \"33\", \"34\", \"35\"], \"mode\": \"lines\", \"name\": \"spearman_correlation_max\", \"stepped\": true, \"type\": \"scatter\", \"data\": [-1.0, -1.0, -1.0, -1.0, -1.0, -1.0, -1.0, -1.0, -1.0, -1.0, -1.0, -1.0, -1.0, -1.0, -1.0, -1.0, -1.0, -1.0, -1.0, -1.0, -1.0, -1.0, -1.0, -1.0, -1.0, -1.0, -1.0, -1.0, -1.0, -1.0, -1.0, -1.0, -1.0, -1.0, -1.0, -1.0]}]}, \"metricName\": null, \"primaryMetricName\": \"normalized_root_mean_squared_error\", \"showLegend\": false}, \"run_metrics\": [{\"name\": \"experiment_status\", \"run_id\": \"AutoML_71b33a45-fd33-4248-ad2c-f228c393967c\", \"categories\": [0, 1, 2, 3, 4, 5, 6, 7, 8, 9, 10, 11, 12, 13, 14, 15, 16, 17, 18, 19, 20, 21], \"series\": [{\"data\": [\"DatasetFeaturization\", \"DatasetFeaturizationCompleted\", \"DatasetCrossValidationSplit\", \"DatasetFeaturization\", \"DatasetFeaturizationCompleted\", \"DatasetFeaturization\", \"DatasetFeaturizationCompleted\", \"DatasetFeaturization\", \"DatasetFeaturizationCompleted\", \"DatasetFeaturization\", \"DatasetFeaturizationCompleted\", \"DatasetFeaturization\", \"DatasetFeaturizationCompleted\", \"ModelSelection\", \"BestRunExplainModel\", \"ModelExplanationDataSetSetup\", \"PickSurrogateModel\", \"EngineeredFeatureExplanations\", \"EngineeredFeatureExplanations\", \"RawFeaturesExplanations\", \"RawFeaturesExplanations\", \"BestRunExplainModel\"]}]}, {\"name\": \"experiment_status_description\", \"run_id\": \"AutoML_71b33a45-fd33-4248-ad2c-f228c393967c\", \"categories\": [0, 1, 2, 3, 4, 5, 6, 7, 8, 9, 10, 11, 12, 13, 14, 15, 16, 17, 18, 19, 20, 21], \"series\": [{\"data\": [\"Beginning to featurize the dataset.\", \"Completed featurizing the dataset.\", \"Generating individually featurized CV splits.\", \"Beginning to featurize the CV split.\", \"Completed featurizing the CV split.\", \"Beginning to featurize the CV split.\", \"Completed featurizing the CV split.\", \"Beginning to featurize the CV split.\", \"Completed featurizing the CV split.\", \"Beginning to featurize the CV split.\", \"Completed featurizing the CV split.\", \"Beginning to featurize the CV split.\", \"Completed featurizing the CV split.\", \"Beginning model selection.\", \"Best run model explanations started\", \"Model explanations data setup completed\", \"Choosing LightGBM as the surrogate model for explanations\", \"Computation of engineered features started\", \"Computation of engineered features completed\", \"Computation of raw features started\", \"Computation of raw features completed\", \"Best run model explanations completed\"]}]}, {\"name\": \"mean_absolute_percentage_error\", \"run_id\": \"AutoML_71b33a45-fd33-4248-ad2c-f228c393967c\", \"categories\": [0], \"series\": [{\"data\": [2.0767819740382425]}]}, {\"name\": \"r2_score\", \"run_id\": \"AutoML_71b33a45-fd33-4248-ad2c-f228c393967c\", \"categories\": [0], \"series\": [{\"data\": [0.0]}]}, {\"name\": \"normalized_root_mean_squared_error\", \"run_id\": \"AutoML_71b33a45-fd33-4248-ad2c-f228c393967c\", \"categories\": [0], \"series\": [{\"data\": [0.026115131180039768]}]}, {\"name\": \"root_mean_squared_log_error\", \"run_id\": \"AutoML_71b33a45-fd33-4248-ad2c-f228c393967c\", \"categories\": [0], \"series\": [{\"data\": [0.020822126204087965]}]}, {\"name\": \"normalized_mean_absolute_error\", \"run_id\": \"AutoML_71b33a45-fd33-4248-ad2c-f228c393967c\", \"categories\": [0], \"series\": [{\"data\": [0.026115131180039768]}]}, {\"name\": \"root_mean_squared_error\", \"run_id\": \"AutoML_71b33a45-fd33-4248-ad2c-f228c393967c\", \"categories\": [0], \"series\": [{\"data\": [91909.93217173731]}]}, {\"name\": \"spearman_correlation\", \"run_id\": \"AutoML_71b33a45-fd33-4248-ad2c-f228c393967c\", \"categories\": [0], \"series\": [{\"data\": [-1.0]}]}, {\"name\": \"normalized_median_absolute_error\", \"run_id\": \"AutoML_71b33a45-fd33-4248-ad2c-f228c393967c\", \"categories\": [0], \"series\": [{\"data\": [0.026115131180039768]}]}, {\"name\": \"mean_absolute_error\", \"run_id\": \"AutoML_71b33a45-fd33-4248-ad2c-f228c393967c\", \"categories\": [0], \"series\": [{\"data\": [91909.93217173731]}]}, {\"name\": \"normalized_root_mean_squared_log_error\", \"run_id\": \"AutoML_71b33a45-fd33-4248-ad2c-f228c393967c\", \"categories\": [0], \"series\": [{\"data\": [0.021940777216485137]}]}, {\"name\": \"explained_variance\", \"run_id\": \"AutoML_71b33a45-fd33-4248-ad2c-f228c393967c\", \"categories\": [0], \"series\": [{\"data\": [1.0]}]}, {\"name\": \"median_absolute_error\", \"run_id\": \"AutoML_71b33a45-fd33-4248-ad2c-f228c393967c\", \"categories\": [0], \"series\": [{\"data\": [91909.93217173731]}]}], \"run_logs\": \"\\nRun is completed.\", \"graph\": {}, \"widget_settings\": {\"childWidgetDisplay\": \"popup\", \"send_telemetry\": false, \"log_level\": \"INFO\", \"sdk_version\": \"1.20.0\"}, \"loading\": false}"
     },
     "metadata": {},
     "output_type": "display_data"
    }
   ],
   "source": [
    "RunDetails(run_autoML).show()"
   ]
  },
  {
   "cell_type": "markdown",
   "metadata": {},
   "source": [
    "## Best Model\n",
    "\n",
    "In the cell below, get the best model from the automl experiments and display all the properties of the model.\n"
   ]
  },
  {
   "cell_type": "code",
   "execution_count": 19,
   "metadata": {
    "gather": {
     "logged": 1598431425670
    },
    "jupyter": {
     "outputs_hidden": false,
     "source_hidden": false
    },
    "nteract": {
     "transient": {
      "deleting": false
     }
    }
   },
   "outputs": [
    {
     "name": "stderr",
     "output_type": "stream",
     "text": [
      "WARNING:root:The version of the SDK does not match the version the model was trained on.\n",
      "WARNING:root:The consistency in the result may not be guaranteed.\n",
      "WARNING:root:Package:azureml-automl-core, training version:1.21.0, current version:1.20.0\n",
      "Package:azureml-automl-runtime, training version:1.21.0, current version:1.20.0\n",
      "Package:azureml-core, training version:1.21.0.post1, current version:1.20.0\n",
      "Package:azureml-dataprep, training version:2.8.2, current version:2.7.3\n",
      "Package:azureml-dataprep-native, training version:28.0.0, current version:27.0.0\n",
      "Package:azureml-dataprep-rslex, training version:1.6.0, current version:1.5.0\n",
      "Package:azureml-dataset-runtime, training version:1.21.0, current version:1.20.0\n",
      "Package:azureml-defaults, training version:1.21.0, current version:1.20.0\n",
      "Package:azureml-interpret, training version:1.21.0, current version:1.20.0\n",
      "Package:azureml-pipeline-core, training version:1.21.0, current version:1.20.0\n",
      "Package:azureml-telemetry, training version:1.21.0, current version:1.20.0\n",
      "Package:azureml-train-automl-client, training version:1.21.0, current version:1.20.0\n",
      "Package:azureml-train-automl-runtime, training version:1.21.0, current version:1.20.0\n",
      "WARNING:root:Please ensure the version of your local conda dependencies match the version on which your model was trained in order to properly retrieve your model.\n"
     ]
    },
    {
     "name": "stdout",
     "output_type": "stream",
     "text": [
      "AutoML_71b33a45-fd33-4248-ad2c-f228c393967c_35\n",
      "MAE of best autoML model = 91909.93217173731 and RMSE = 91909.93217173731\n"
     ]
    }
   ],
   "source": [
    "# Retrieve and save your best automl model.\n",
    "\n",
    "best_run_autoML, fitted_model_autoML = run_autoML.get_output()\n",
    "\n",
    "print(best_run_autoML.id)\n",
    "\n",
    "print('MAE of best autoML model = {} and RMSE = {}'.format(best_run_autoML.get_metrics()['mean_absolute_error'], best_run_autoML.get_metrics()['root_mean_squared_error']))"
   ]
  },
  {
   "cell_type": "code",
   "execution_count": 20,
   "metadata": {
    "gather": {
     "logged": 1598431426111
    },
    "jupyter": {
     "outputs_hidden": false,
     "source_hidden": false
    },
    "nteract": {
     "transient": {
      "deleting": false
     }
    }
   },
   "outputs": [
    {
     "name": "stdout",
     "output_type": "stream",
     "text": [
      "conda_env_v_1_0_0.yml\t\t     model.pkl\r\n",
      "env_dependencies.json\t\t     pipeline_graph.json\r\n",
      "internal_cross_validated_models.pkl  scoring_file_v_1_0_0.py\r\n"
     ]
    }
   ],
   "source": [
    "# Save the best model and print the outputs\n",
    "\n",
    "os.makedirs('outputs/AutoML', exist_ok=True)\n",
    "\n",
    "best_run_autoML.download_files(prefix='./outputs/', output_directory='outputs/AutoML/')\n",
    "\n",
    "!ls ./outputs/AutoML/Outputs\n"
   ]
  },
  {
   "cell_type": "code",
   "execution_count": 21,
   "metadata": {},
   "outputs": [
    {
     "name": "stdout",
     "output_type": "stream",
     "text": [
      "AutoML71b33a45f35:1\n"
     ]
    }
   ],
   "source": [
    "# Register the best model or load the last one registered\n",
    "\n",
    "UPDATE_MODEL = False \n",
    "\n",
    "if UPDATE_MODEL:\n",
    "    description = 'Best AutoML Model for Air Traffic Predictions'\n",
    "    model = run_autoML.register_model(description = description, model_name = 'SFOAutoML',\n",
    "                               tags={'area': 'SFO Air Traffic Predictions'})\n",
    "\n",
    "else:\n",
    "    model = Model(ws,'AutoML71b33a45f35')\n",
    "    \n",
    "\n",
    "print(model.id)"
   ]
  },
  {
   "cell_type": "markdown",
   "metadata": {},
   "source": [
    "## Model Deployment\n",
    "\n",
    "The autoML model performed better than the one I got with the hyperdrive DNN notebook so far so I'm going to deploy this version.\n",
    "\n",
    "In the cell below, I will register the model, create an inference config and deploy the model as a web service."
   ]
  },
  {
   "cell_type": "code",
   "execution_count": 22,
   "metadata": {
    "gather": {
     "logged": 1598431435189
    },
    "jupyter": {
     "outputs_hidden": false,
     "source_hidden": false
    },
    "nteract": {
     "transient": {
      "deleting": false
     }
    }
   },
   "outputs": [
    {
     "name": "stdout",
     "output_type": "stream",
     "text": [
      "Tips: You can try get_logs(): https://aka.ms/debugimage#dockerlog or local deployment: https://aka.ms/debugimage#debug-locally to debug if deployment takes longer than 10 minutes.\n",
      "Running.....................................................\n",
      "Succeeded\n",
      "ACI service creation operation finished, operation \"Succeeded\"\n",
      "Healthy\n"
     ]
    }
   ],
   "source": [
    "service_name = 'sfo-prediction-automl'\n",
    "\n",
    "# Create an inference config from the autoML output files\n",
    "inference_config = InferenceConfig(entry_script='scoring_file_v_1_0_0.py',\n",
    "                                  conda_file = 'conda_env_v_1_0_0.yml',\n",
    "                                  source_directory='./outputs/AutoML/Outputs',\n",
    "                                  description='ACI for SFO passengers prediction',\n",
    "                                  runtime='python'\n",
    "                                  )\n",
    "\n",
    "# Create a deployment config with an Azure Container Instance\n",
    "aci_config = AciWebservice.deploy_configuration(cpu_cores=1, memory_gb=1, auth_enabled=True)\n",
    "\n",
    "# Deploy the model and check the deployment status\n",
    "service = Model.deploy(workspace=ws,\n",
    "                      name=service_name,\n",
    "                      models=[model],\n",
    "                      inference_config=inference_config,\n",
    "                      deployment_config=aci_config\n",
    "                      )\n",
    "\n",
    "service.wait_for_deployment(show_output=True)\n",
    "print(service.state)"
   ]
  },
  {
   "cell_type": "markdown",
   "metadata": {
    "collapsed": true,
    "gather": {
     "logged": 1598431657736
    },
    "jupyter": {
     "outputs_hidden": false,
     "source_hidden": false
    },
    "nteract": {
     "transient": {
      "deleting": false
     }
    }
   },
   "source": [
    "In the cell below, we send a request to the web service you deployed to test it."
   ]
  },
  {
   "cell_type": "code",
   "execution_count": 23,
   "metadata": {
    "gather": {
     "logged": 1598432707604
    },
    "jupyter": {
     "outputs_hidden": false,
     "source_hidden": false
    },
    "nteract": {
     "transient": {
      "deleting": false
     }
    }
   },
   "outputs": [
    {
     "name": "stdout",
     "output_type": "stream",
     "text": [
      "For March 2020, the SFO passenger predictions is 4619918.014416073\n"
     ]
    }
   ],
   "source": [
    "# This code is based on the sample code to consume the endpoint provided by Azure ML\n",
    "\n",
    "def allowSelfSignedHttps(allowed):\n",
    "    # bypass the server certificate verification on client side\n",
    "    if allowed and not os.environ.get('PYTHONHTTPSVERIFY', '') and getattr(ssl, '_create_unverified_context', None):\n",
    "        ssl._create_default_https_context = ssl._create_unverified_context\n",
    "\n",
    "allowSelfSignedHttps(True) # this line is needed if you use self-signed certificate in your scoring service.\n",
    "\n",
    "data = {\n",
    "    \"data\":\n",
    "    [\n",
    "        {\n",
    "            'date': \"2020-03-01 00:00:00,000000\",\n",
    "        },\n",
    "        {\n",
    "            'date': \"2020-04-01 00:00:00,000000\",\n",
    "        },\n",
    "        {\n",
    "            'date': \"2020-05-01 00:00:00,000000\",\n",
    "        },\n",
    "        {\n",
    "            'date': \"2020-06-01 00:00:00,000000\",\n",
    "        },\n",
    "        {\n",
    "            'date': \"2020-07-01 00:00:00,000000\",\n",
    "        },\n",
    "        {\n",
    "            'date': \"2020-08-01 00:00:00,000000\",\n",
    "        },\n",
    "        {\n",
    "            'date': \"2020-09-01 00:00:00,000000\",\n",
    "        }\n",
    "    ],\n",
    "}\n",
    "\n",
    "body = str.encode(json.dumps(data))\n",
    "\n",
    "url = service.scoring_uri\n",
    "api_key, api_key_secondary = service.get_keys() # Replace this with the API key for the web service\n",
    "headers = {'Content-Type':'application/json', 'Authorization':('Bearer '+ api_key)}\n",
    "\n",
    "req = urllib.request.Request(url, body, headers)\n",
    "\n",
    "try:\n",
    "    response = urllib.request.urlopen(req)\n",
    "\n",
    "    result = response.read()\n",
    "#     print(result)\n",
    "    y = json.loads(json.loads(result))\n",
    "    print('For March 2020, the SFO passenger predictions is {}'.format(y['forecast'][0]))\n",
    "    \n",
    "except urllib.error.HTTPError as error:\n",
    "    print(\"The request failed with status code: \" + str(error.code))\n",
    "\n",
    "    # Print the headers - they include the requert ID and the timestamp, which are useful for debugging the failure\n",
    "    print(error.info())\n",
    "    print(json.loads(error.read().decode(\"utf8\", 'ignore')))\n"
   ]
  },
  {
   "cell_type": "code",
   "execution_count": 24,
   "metadata": {},
   "outputs": [
    {
     "name": "stdout",
     "output_type": "stream",
     "text": [
      "            Passenger Count\n",
      "date                       \n",
      "2020-02-01          3742224\n",
      "            Passenger Count\n",
      "2020-02-01       3742224.00\n",
      "2020-03-01       4619918.01\n",
      "2020-04-01       4695028.66\n",
      "2020-05-01       4915904.16\n",
      "2020-06-01       5093636.05\n",
      "2020-07-01       5578767.89\n",
      "2020-08-01       5698214.44\n",
      "2020-09-01       4561370.91\n"
     ]
    }
   ],
   "source": [
    "# plot Actual vs Predicted to watch the impact of Covid from March to September 2020\n",
    "df_prediction = df_covid.copy()\n",
    "df_prediction.reset_index(inplace=True)\n",
    "split_date ='2020-02-02'\n",
    "df_prediction =df_prediction.loc[df_prediction['date'] <= split_date]\n",
    "df_prediction.set_index('date', inplace=True)\n",
    "print(df_prediction)\n",
    "\n",
    "# Parse the result from the webservice request and create a DataFrame to plot it later\n",
    "for i in range(len(data['data'][:])):\n",
    "#     print(data['data'][i]['date'][:10])\n",
    "    date = pd.to_datetime(data['data'][i]['date'][:10], format = '%Y-%m-%d')\n",
    "#     print(pd.DataFrame({'Passenger Count': y['forecast'][i]}, index=[date]))\n",
    "    df_prediction = df_prediction.append(pd.DataFrame({'Passenger Count': y['forecast'][i]}, index=[date]))\n",
    "\n",
    "df_prediction.sort_index(inplace=True)\n",
    "\n",
    "print(df_prediction)\n"
   ]
  },
  {
   "cell_type": "code",
   "execution_count": 25,
   "metadata": {},
   "outputs": [
    {
     "data": {
      "image/png": "[encoded data removed]",
      "text/plain": [
       "<Figure size 864x360 with 1 Axes>"
      ]
     },
     "metadata": {
      "needs_background": "light"
     },
     "output_type": "display_data"
    }
   ],
   "source": [
    "# We can visualize the drop with a line plot\n",
    "\n",
    "f, ax = plt.subplots(1,1,figsize=(12,5))\n",
    "ax.plot(df_prepared, label='PreCovid')\n",
    "ax.plot(df_covid, label='Covid', color = 'green')\n",
    "ax.plot(df_prediction, label='Predicted', color = 'orange')\n",
    "ax.set_xlabel(\"Date\")\n",
    "ax.set_ylabel(\"Passenger Count\")\n",
    "ax.legend()\n",
    "# plt.grid(True)\n",
    "plt.tight_layout()\n",
    "plt.legend(fontsize=12)\n",
    "sns.despine(top=True)\n"
   ]
  },
  {
   "cell_type": "markdown",
   "metadata": {
    "collapsed": true,
    "gather": {
     "logged": 1598432765711
    },
    "jupyter": {
     "outputs_hidden": false,
     "source_hidden": false
    },
    "nteract": {
     "transient": {
      "deleting": false
     }
    }
   },
   "source": [
    "In the cell below, we print the logs of the web service and delete the service"
   ]
  },
  {
   "cell_type": "code",
   "execution_count": 26,
   "metadata": {
    "jupyter": {
     "outputs_hidden": false,
     "source_hidden": false
    },
    "nteract": {
     "transient": {
      "deleting": false
     }
    }
   },
   "outputs": [
    {
     "name": "stdout",
     "output_type": "stream",
     "text": [
      "2021-02-28T14:52:17,330531700+00:00 - gunicorn/run \n",
      "2021-02-28T14:52:17,400125100+00:00 - iot-server/run \n",
      "2021-02-28T14:52:17,403742600+00:00 - nginx/run \n",
      "2021-02-28T14:52:17,440382300+00:00 - rsyslog/run \n",
      "rsyslogd: /azureml-envs/azureml_7785023fceb74e4facc1b1a577b1faf9/lib/libuuid.so.1: no version information available (required by rsyslogd)\n",
      "/usr/sbin/nginx: /azureml-envs/azureml_7785023fceb74e4facc1b1a577b1faf9/lib/libcrypto.so.1.0.0: no version information available (required by /usr/sbin/nginx)\n",
      "/usr/sbin/nginx: /azureml-envs/azureml_7785023fceb74e4facc1b1a577b1faf9/lib/libcrypto.so.1.0.0: no version information available (required by /usr/sbin/nginx)\n",
      "/usr/sbin/nginx: /azureml-envs/azureml_7785023fceb74e4facc1b1a577b1faf9/lib/libssl.so.1.0.0: no version information available (required by /usr/sbin/nginx)\n",
      "/usr/sbin/nginx: /azureml-envs/azureml_7785023fceb74e4facc1b1a577b1faf9/lib/libssl.so.1.0.0: no version information available (required by /usr/sbin/nginx)\n",
      "/usr/sbin/nginx: /azureml-envs/azureml_7785023fceb74e4facc1b1a577b1faf9/lib/libssl.so.1.0.0: no version information available (required by /usr/sbin/nginx)\n",
      "EdgeHubConnectionString and IOTEDGE_IOTHUBHOSTNAME are not set. Exiting...\n",
      "2021-02-28T14:52:19,479893500+00:00 - iot-server/finish 1 0\n",
      "2021-02-28T14:52:19,485823700+00:00 - Exit code 1 is normal. Not restarting iot-server.\n",
      "Starting gunicorn 19.9.0\n",
      "Listening at: http://127.0.0.1:31311 (68)\n",
      "Using worker: sync\n",
      "worker timeout is set to 300\n",
      "Booting worker with pid: 96\n",
      "SPARK_HOME not set. Skipping PySpark Initialization.\n",
      "Generating new fontManager, this may take some time...\n",
      "Initializing logger\n",
      "2021-02-28 14:52:25,572 | root | INFO | Starting up app insights client\n",
      "2021-02-28 14:52:25,575 | root | INFO | Starting up request id generator\n",
      "2021-02-28 14:52:25,575 | root | INFO | Starting up app insight hooks\n",
      "2021-02-28 14:52:25,575 | root | INFO | Invoking user's init function\n",
      "2021-02-28 14:52:35,438 | root | INFO | Users's init has completed successfully\n",
      "2021-02-28 14:52:35,458 | root | INFO | Skipping middleware: dbg_model_info as it's not enabled.\n",
      "2021-02-28 14:52:35,458 | root | INFO | Skipping middleware: dbg_resource_usage as it's not enabled.\n",
      "2021-02-28 14:52:35,460 | root | INFO | Scoring timeout is found from os.environ: 60000 ms\n",
      "2021-02-28 14:52:35,476 | root | INFO | 200\n",
      "127.0.0.1 - - [28/Feb/2021:14:52:35 +0000] \"GET /swagger.json HTTP/1.0\" 200 2003 \"-\" \"Go-http-client/1.1\"\n",
      "2021-02-28 14:52:39,960 | root | INFO | 200\n",
      "127.0.0.1 - - [28/Feb/2021:14:52:39 +0000] \"GET /swagger.json HTTP/1.0\" 200 2003 \"-\" \"Go-http-client/1.1\"\n",
      "2021-02-28 14:55:36,355 | root | INFO | 200\n",
      "127.0.0.1 - - [28/Feb/2021:14:55:36 +0000] \"GET /swagger.json HTTP/1.0\" 200 2003 \"-\" \"Go-http-client/1.1\"\n",
      "2021-02-28 14:55:39,391 | root | INFO | 200\n",
      "127.0.0.1 - - [28/Feb/2021:14:55:39 +0000] \"GET /swagger.json HTTP/1.0\" 200 2003 \"-\" \"Go-http-client/1.1\"\n",
      "2021-02-28 14:56:14,223 | root | INFO | Validation Request Content-Type\n",
      "2021-02-28 14:56:14,224 | root | INFO | Scoring Timer is set to 60.0 seconds\n",
      "2021-02-28 14:56:14,498 | root | INFO | 200\n",
      "127.0.0.1 - - [28/Feb/2021:14:56:14 +0000] \"POST /score HTTP/1.0\" 200 758 \"-\" \"Python-urllib/3.6\"\n",
      "\n"
     ]
    }
   ],
   "source": [
    "# Print the logs\n",
    "\n",
    "print(service.get_logs())"
   ]
  },
  {
   "cell_type": "code",
   "execution_count": 27,
   "metadata": {},
   "outputs": [],
   "source": [
    "# Delete the endpoint\n",
    "\n",
    "service.delete()"
   ]
  },
  {
   "cell_type": "code",
   "execution_count": null,
   "metadata": {},
   "outputs": [],
   "source": []
  }
 ],
 "metadata": {
  "kernel_info": {
   "name": "python3-azureml"
  },
  "kernelspec": {
   "display_name": "Python 3.6 - AzureML",
   "language": "python",
   "name": "python3-azureml"
  },
  "language_info": {
   "codemirror_mode": {
    "name": "ipython",
    "version": 3
   },
   "file_extension": ".py",
   "mimetype": "text/x-python",
   "name": "python",
   "nbconvert_exporter": "python",
   "pygments_lexer": "ipython3",
   "version": "3.6.9"
  },
  "nteract": {
   "version": "nteract-front-end@1.0.0"
  }
 },
 "nbformat": 4,
 "nbformat_minor": 2
}
